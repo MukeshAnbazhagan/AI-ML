{
  "cells": [
    {
      "cell_type": "code",
      "execution_count": 1,
      "metadata": {
        "colab": {
          "base_uri": "https://localhost:8080/"
        },
        "id": "e_hLkOlUxD8b",
        "outputId": "d870bd68-06f7-4d9b-c515-32c708b70ca2"
      },
      "outputs": [
        {
          "output_type": "stream",
          "name": "stdout",
          "text": [
            "Mounted at /content/drive\n"
          ]
        }
      ],
      "source": [
        "from google.colab import drive\n",
        "drive.mount('/content/drive')"
      ]
    },
    {
      "cell_type": "code",
      "execution_count": 2,
      "metadata": {
        "id": "68zvfkMmxE_S"
      },
      "outputs": [],
      "source": [
        "#importing the libraries\n",
        "import numpy as np\n",
        "import pandas as pd\n",
        "import matplotlib.pyplot as plt\n",
        "import seaborn as sns\n",
        "from numpy import percentile\n",
        "from numpy.random import rand"
      ]
    },
    {
      "cell_type": "code",
      "execution_count": 3,
      "metadata": {
        "colab": {
          "base_uri": "https://localhost:8080/",
          "height": 235
        },
        "id": "wMyJTpj2xHTn",
        "outputId": "7cc71ae0-5105-4aa8-94ea-5bf3ec413873"
      },
      "outputs": [
        {
          "output_type": "execute_result",
          "data": {
            "text/plain": [
              "        0         1         2         3         4         5         6    \\\n",
              "0  1.000000  0.758264  0.111570  0.000000  0.080579  0.078512  0.066116   \n",
              "1  0.908425  0.783883  0.531136  0.362637  0.366300  0.344322  0.333333   \n",
              "2  0.730088  0.212389  0.000000  0.119469  0.101770  0.101770  0.110619   \n",
              "3  1.000000  0.910417  0.681250  0.472917  0.229167  0.068750  0.000000   \n",
              "4  0.570470  0.399329  0.238255  0.147651  0.000000  0.003356  0.040268   \n",
              "\n",
              "        7         8         9    ...  178  179  180  181  182  183  184  185  \\\n",
              "0  0.049587  0.047521  0.035124  ...  0.0  0.0  0.0  0.0  0.0  0.0  0.0  0.0   \n",
              "1  0.307692  0.296703  0.300366  ...  0.0  0.0  0.0  0.0  0.0  0.0  0.0  0.0   \n",
              "2  0.123894  0.115044  0.132743  ...  0.0  0.0  0.0  0.0  0.0  0.0  0.0  0.0   \n",
              "3  0.004167  0.014583  0.054167  ...  0.0  0.0  0.0  0.0  0.0  0.0  0.0  0.0   \n",
              "4  0.080537  0.070470  0.090604  ...  0.0  0.0  0.0  0.0  0.0  0.0  0.0  0.0   \n",
              "\n",
              "   186  187  \n",
              "0  0.0  0.0  \n",
              "1  0.0  0.0  \n",
              "2  0.0  0.0  \n",
              "3  0.0  0.0  \n",
              "4  0.0  0.0  \n",
              "\n",
              "[5 rows x 188 columns]"
            ],
            "text/html": [
              "\n",
              "  <div id=\"df-7a847f75-28ff-4a56-8bb0-3a14d675f55a\">\n",
              "    <div class=\"colab-df-container\">\n",
              "      <div>\n",
              "<style scoped>\n",
              "    .dataframe tbody tr th:only-of-type {\n",
              "        vertical-align: middle;\n",
              "    }\n",
              "\n",
              "    .dataframe tbody tr th {\n",
              "        vertical-align: top;\n",
              "    }\n",
              "\n",
              "    .dataframe thead th {\n",
              "        text-align: right;\n",
              "    }\n",
              "</style>\n",
              "<table border=\"1\" class=\"dataframe\">\n",
              "  <thead>\n",
              "    <tr style=\"text-align: right;\">\n",
              "      <th></th>\n",
              "      <th>0</th>\n",
              "      <th>1</th>\n",
              "      <th>2</th>\n",
              "      <th>3</th>\n",
              "      <th>4</th>\n",
              "      <th>5</th>\n",
              "      <th>6</th>\n",
              "      <th>7</th>\n",
              "      <th>8</th>\n",
              "      <th>9</th>\n",
              "      <th>...</th>\n",
              "      <th>178</th>\n",
              "      <th>179</th>\n",
              "      <th>180</th>\n",
              "      <th>181</th>\n",
              "      <th>182</th>\n",
              "      <th>183</th>\n",
              "      <th>184</th>\n",
              "      <th>185</th>\n",
              "      <th>186</th>\n",
              "      <th>187</th>\n",
              "    </tr>\n",
              "  </thead>\n",
              "  <tbody>\n",
              "    <tr>\n",
              "      <th>0</th>\n",
              "      <td>1.000000</td>\n",
              "      <td>0.758264</td>\n",
              "      <td>0.111570</td>\n",
              "      <td>0.000000</td>\n",
              "      <td>0.080579</td>\n",
              "      <td>0.078512</td>\n",
              "      <td>0.066116</td>\n",
              "      <td>0.049587</td>\n",
              "      <td>0.047521</td>\n",
              "      <td>0.035124</td>\n",
              "      <td>...</td>\n",
              "      <td>0.0</td>\n",
              "      <td>0.0</td>\n",
              "      <td>0.0</td>\n",
              "      <td>0.0</td>\n",
              "      <td>0.0</td>\n",
              "      <td>0.0</td>\n",
              "      <td>0.0</td>\n",
              "      <td>0.0</td>\n",
              "      <td>0.0</td>\n",
              "      <td>0.0</td>\n",
              "    </tr>\n",
              "    <tr>\n",
              "      <th>1</th>\n",
              "      <td>0.908425</td>\n",
              "      <td>0.783883</td>\n",
              "      <td>0.531136</td>\n",
              "      <td>0.362637</td>\n",
              "      <td>0.366300</td>\n",
              "      <td>0.344322</td>\n",
              "      <td>0.333333</td>\n",
              "      <td>0.307692</td>\n",
              "      <td>0.296703</td>\n",
              "      <td>0.300366</td>\n",
              "      <td>...</td>\n",
              "      <td>0.0</td>\n",
              "      <td>0.0</td>\n",
              "      <td>0.0</td>\n",
              "      <td>0.0</td>\n",
              "      <td>0.0</td>\n",
              "      <td>0.0</td>\n",
              "      <td>0.0</td>\n",
              "      <td>0.0</td>\n",
              "      <td>0.0</td>\n",
              "      <td>0.0</td>\n",
              "    </tr>\n",
              "    <tr>\n",
              "      <th>2</th>\n",
              "      <td>0.730088</td>\n",
              "      <td>0.212389</td>\n",
              "      <td>0.000000</td>\n",
              "      <td>0.119469</td>\n",
              "      <td>0.101770</td>\n",
              "      <td>0.101770</td>\n",
              "      <td>0.110619</td>\n",
              "      <td>0.123894</td>\n",
              "      <td>0.115044</td>\n",
              "      <td>0.132743</td>\n",
              "      <td>...</td>\n",
              "      <td>0.0</td>\n",
              "      <td>0.0</td>\n",
              "      <td>0.0</td>\n",
              "      <td>0.0</td>\n",
              "      <td>0.0</td>\n",
              "      <td>0.0</td>\n",
              "      <td>0.0</td>\n",
              "      <td>0.0</td>\n",
              "      <td>0.0</td>\n",
              "      <td>0.0</td>\n",
              "    </tr>\n",
              "    <tr>\n",
              "      <th>3</th>\n",
              "      <td>1.000000</td>\n",
              "      <td>0.910417</td>\n",
              "      <td>0.681250</td>\n",
              "      <td>0.472917</td>\n",
              "      <td>0.229167</td>\n",
              "      <td>0.068750</td>\n",
              "      <td>0.000000</td>\n",
              "      <td>0.004167</td>\n",
              "      <td>0.014583</td>\n",
              "      <td>0.054167</td>\n",
              "      <td>...</td>\n",
              "      <td>0.0</td>\n",
              "      <td>0.0</td>\n",
              "      <td>0.0</td>\n",
              "      <td>0.0</td>\n",
              "      <td>0.0</td>\n",
              "      <td>0.0</td>\n",
              "      <td>0.0</td>\n",
              "      <td>0.0</td>\n",
              "      <td>0.0</td>\n",
              "      <td>0.0</td>\n",
              "    </tr>\n",
              "    <tr>\n",
              "      <th>4</th>\n",
              "      <td>0.570470</td>\n",
              "      <td>0.399329</td>\n",
              "      <td>0.238255</td>\n",
              "      <td>0.147651</td>\n",
              "      <td>0.000000</td>\n",
              "      <td>0.003356</td>\n",
              "      <td>0.040268</td>\n",
              "      <td>0.080537</td>\n",
              "      <td>0.070470</td>\n",
              "      <td>0.090604</td>\n",
              "      <td>...</td>\n",
              "      <td>0.0</td>\n",
              "      <td>0.0</td>\n",
              "      <td>0.0</td>\n",
              "      <td>0.0</td>\n",
              "      <td>0.0</td>\n",
              "      <td>0.0</td>\n",
              "      <td>0.0</td>\n",
              "      <td>0.0</td>\n",
              "      <td>0.0</td>\n",
              "      <td>0.0</td>\n",
              "    </tr>\n",
              "  </tbody>\n",
              "</table>\n",
              "<p>5 rows × 188 columns</p>\n",
              "</div>\n",
              "      <button class=\"colab-df-convert\" onclick=\"convertToInteractive('df-7a847f75-28ff-4a56-8bb0-3a14d675f55a')\"\n",
              "              title=\"Convert this dataframe to an interactive table.\"\n",
              "              style=\"display:none;\">\n",
              "        \n",
              "  <svg xmlns=\"http://www.w3.org/2000/svg\" height=\"24px\"viewBox=\"0 0 24 24\"\n",
              "       width=\"24px\">\n",
              "    <path d=\"M0 0h24v24H0V0z\" fill=\"none\"/>\n",
              "    <path d=\"M18.56 5.44l.94 2.06.94-2.06 2.06-.94-2.06-.94-.94-2.06-.94 2.06-2.06.94zm-11 1L8.5 8.5l.94-2.06 2.06-.94-2.06-.94L8.5 2.5l-.94 2.06-2.06.94zm10 10l.94 2.06.94-2.06 2.06-.94-2.06-.94-.94-2.06-.94 2.06-2.06.94z\"/><path d=\"M17.41 7.96l-1.37-1.37c-.4-.4-.92-.59-1.43-.59-.52 0-1.04.2-1.43.59L10.3 9.45l-7.72 7.72c-.78.78-.78 2.05 0 2.83L4 21.41c.39.39.9.59 1.41.59.51 0 1.02-.2 1.41-.59l7.78-7.78 2.81-2.81c.8-.78.8-2.07 0-2.86zM5.41 20L4 18.59l7.72-7.72 1.47 1.35L5.41 20z\"/>\n",
              "  </svg>\n",
              "      </button>\n",
              "      \n",
              "  <style>\n",
              "    .colab-df-container {\n",
              "      display:flex;\n",
              "      flex-wrap:wrap;\n",
              "      gap: 12px;\n",
              "    }\n",
              "\n",
              "    .colab-df-convert {\n",
              "      background-color: #E8F0FE;\n",
              "      border: none;\n",
              "      border-radius: 50%;\n",
              "      cursor: pointer;\n",
              "      display: none;\n",
              "      fill: #1967D2;\n",
              "      height: 32px;\n",
              "      padding: 0 0 0 0;\n",
              "      width: 32px;\n",
              "    }\n",
              "\n",
              "    .colab-df-convert:hover {\n",
              "      background-color: #E2EBFA;\n",
              "      box-shadow: 0px 1px 2px rgba(60, 64, 67, 0.3), 0px 1px 3px 1px rgba(60, 64, 67, 0.15);\n",
              "      fill: #174EA6;\n",
              "    }\n",
              "\n",
              "    [theme=dark] .colab-df-convert {\n",
              "      background-color: #3B4455;\n",
              "      fill: #D2E3FC;\n",
              "    }\n",
              "\n",
              "    [theme=dark] .colab-df-convert:hover {\n",
              "      background-color: #434B5C;\n",
              "      box-shadow: 0px 1px 3px 1px rgba(0, 0, 0, 0.15);\n",
              "      filter: drop-shadow(0px 1px 2px rgba(0, 0, 0, 0.3));\n",
              "      fill: #FFFFFF;\n",
              "    }\n",
              "  </style>\n",
              "\n",
              "      <script>\n",
              "        const buttonEl =\n",
              "          document.querySelector('#df-7a847f75-28ff-4a56-8bb0-3a14d675f55a button.colab-df-convert');\n",
              "        buttonEl.style.display =\n",
              "          google.colab.kernel.accessAllowed ? 'block' : 'none';\n",
              "\n",
              "        async function convertToInteractive(key) {\n",
              "          const element = document.querySelector('#df-7a847f75-28ff-4a56-8bb0-3a14d675f55a');\n",
              "          const dataTable =\n",
              "            await google.colab.kernel.invokeFunction('convertToInteractive',\n",
              "                                                     [key], {});\n",
              "          if (!dataTable) return;\n",
              "\n",
              "          const docLinkHtml = 'Like what you see? Visit the ' +\n",
              "            '<a target=\"_blank\" href=https://colab.research.google.com/notebooks/data_table.ipynb>data table notebook</a>'\n",
              "            + ' to learn more about interactive tables.';\n",
              "          element.innerHTML = '';\n",
              "          dataTable['output_type'] = 'display_data';\n",
              "          await google.colab.output.renderOutput(dataTable, element);\n",
              "          const docLink = document.createElement('div');\n",
              "          docLink.innerHTML = docLinkHtml;\n",
              "          element.appendChild(docLink);\n",
              "        }\n",
              "      </script>\n",
              "    </div>\n",
              "  </div>\n",
              "  "
            ]
          },
          "metadata": {},
          "execution_count": 3
        }
      ],
      "source": [
        "#Loading the mitbih data set\n",
        "test = pd.read_csv(\"/content/drive/My Drive/Colab Notebooks/datafiles/mitbih_test.csv\", header=None)\n",
        "train = pd.read_csv(\"/content/drive/My Drive/Colab Notebooks/datafiles/mitbih_train.csv\", header=None)\n",
        "test.head()"
      ]
    },
    {
      "cell_type": "code",
      "execution_count": 4,
      "metadata": {
        "colab": {
          "base_uri": "https://localhost:8080/"
        },
        "id": "jlaU3fbB08uX",
        "outputId": "079734a7-56ab-449b-ae29-89c0324ad91d"
      },
      "outputs": [
        {
          "output_type": "stream",
          "name": "stdout",
          "text": [
            "For the feature 0, No of Outliers is 12161\n",
            "For the feature 1, No of Outliers is 5575\n",
            "For the feature 2, No of Outliers is 0\n",
            "For the feature 3, No of Outliers is 1786\n",
            "For the feature 4, No of Outliers is 6596\n"
          ]
        }
      ],
      "source": [
        "#Fining the outliers\n",
        "continous_features =   train[187].unique()\n",
        "def outliers(df_out, drop = False):\n",
        "    for each_feature in df_out.columns:\n",
        "        feature_data = df_out[each_feature]\n",
        "        Q1 = np.percentile(feature_data, 25.) # 25th percentile of the data of the given feature\n",
        "        Q3 = np.percentile(feature_data, 75.) # 75th percentile of the data of the given feature\n",
        "        IQR = Q3-Q1 \n",
        "        outlier_step = IQR * 1.5 \n",
        "        outliers = feature_data[~((feature_data >= Q1 - outlier_step) & (feature_data <= Q3 + outlier_step))].index.tolist()  \n",
        "        if not drop:\n",
        "            print('For the feature {}, No of Outliers is {}'.format(each_feature, len(outliers)))\n",
        "        if drop:\n",
        "            train.drop(outliers, inplace = True, errors = 'ignore')\n",
        "            print('Outliers from {} feature removed'.format(each_feature))\n",
        "outliers(train[continous_features])"
      ]
    },
    {
      "cell_type": "code",
      "execution_count": 5,
      "metadata": {
        "colab": {
          "base_uri": "https://localhost:8080/"
        },
        "id": "DXh-jyZj08rh",
        "outputId": "9a0f9adf-a728-494f-b4c8-ba508d84d917"
      },
      "outputs": [
        {
          "output_type": "stream",
          "name": "stdout",
          "text": [
            "Outliers from 0 feature removed\n",
            "Outliers from 1 feature removed\n",
            "Outliers from 2 feature removed\n",
            "Outliers from 3 feature removed\n",
            "Outliers from 4 feature removed\n"
          ]
        }
      ],
      "source": [
        "#Removing the outliers\n",
        "outliers(train[continous_features], drop=True)"
      ]
    },
    {
      "cell_type": "code",
      "execution_count": 6,
      "metadata": {
        "id": "XuWwqTlw1AFo"
      },
      "outputs": [],
      "source": [
        "import numpy as np\n",
        "import pandas as pd\n",
        "from sklearn.metrics import f1_score, confusion_matrix\n",
        "from sklearn.utils import resample\n",
        "import random\n",
        "import matplotlib.pyplot as plt\n",
        "import seaborn as sns\n",
        "train_lbl0 = resample(train[train[187]==0], replace=True, n_samples=15000, random_state=113)\n",
        "train_lbl1 = resample(train[train[187]==1], replace=True, n_samples=15000, random_state=113)\n",
        "train_lbl2 = resample(train[train[187]==2], replace=True, n_samples=15000, random_state=113)\n",
        "train_lbl3 = resample(train[train[187]==3], replace=True, n_samples=15000, random_state=113)\n",
        "train_lbl4 = resample(train[train[187]==4], replace=True, n_samples=15000, random_state=113)"
      ]
    },
    {
      "cell_type": "code",
      "execution_count": 7,
      "metadata": {
        "colab": {
          "base_uri": "https://localhost:8080/"
        },
        "id": "OeXHOeXE1ACG",
        "outputId": "3356d262-8940-4ca0-b351-7e499b1a39a7"
      },
      "outputs": [
        {
          "output_type": "stream",
          "name": "stdout",
          "text": [
            "Count in each label: \n",
            "0    15000\n",
            "1    15000\n",
            "2    15000\n",
            "3    15000\n",
            "4    15000\n",
            "Name: 187, dtype: int64\n"
          ]
        }
      ],
      "source": [
        "train= pd.concat([train_lbl0, train_lbl1, train_lbl2, train_lbl3, train_lbl4])\n",
        "\n",
        "labels = train[187].astype('int64')   # last column has the labels\n",
        "\n",
        "print(\"Count in each label: \")\n",
        "print(labels.value_counts())"
      ]
    },
    {
      "cell_type": "code",
      "execution_count": 8,
      "metadata": {
        "id": "wzFeOP8f1AAC"
      },
      "outputs": [],
      "source": [
        "x_train = train.iloc[:, 1:-1].values\n",
        "y_train = train.iloc[:, -1].values"
      ]
    },
    {
      "cell_type": "code",
      "execution_count": 9,
      "metadata": {
        "id": "fSaL36_oxHGj"
      },
      "outputs": [],
      "source": [
        "x_test = test.iloc[:, 1:-1].values\n",
        "y_test = test.iloc[:, -1].values"
      ]
    },
    {
      "cell_type": "code",
      "execution_count": 10,
      "metadata": {
        "id": "nxluCbhOxHDy"
      },
      "outputs": [],
      "source": [
        "from sklearn.preprocessing import StandardScaler\n",
        "sc = StandardScaler()\n",
        "x_train = sc.fit_transform(x_train)\n",
        "x_test = sc.fit_transform(x_test)"
      ]
    },
    {
      "cell_type": "markdown",
      "metadata": {
        "id": "uwArQFfi1SSN"
      },
      "source": [
        "#**Random Forest**"
      ]
    },
    {
      "cell_type": "code",
      "execution_count": 11,
      "metadata": {
        "colab": {
          "base_uri": "https://localhost:8080/"
        },
        "id": "UUovwmDRxHBj",
        "outputId": "95ab5867-9585-420a-bce6-fcf4783d3165"
      },
      "outputs": [
        {
          "output_type": "execute_result",
          "data": {
            "text/plain": [
              "RandomForestClassifier(criterion='entropy', n_estimators=10, random_state=0)"
            ]
          },
          "metadata": {},
          "execution_count": 11
        }
      ],
      "source": [
        "from sklearn.ensemble import RandomForestClassifier\n",
        "RFC = RandomForestClassifier(n_estimators = 10,\n",
        "                                   criterion = 'entropy',\n",
        "                                   random_state = 0)\n",
        "RFC.fit(x_train, y_train)"
      ]
    },
    {
      "cell_type": "code",
      "execution_count": 12,
      "metadata": {
        "id": "HUORV257xG_N"
      },
      "outputs": [],
      "source": [
        "RFC_pred = RFC.predict(x_test)\n"
      ]
    },
    {
      "cell_type": "code",
      "execution_count": 13,
      "metadata": {
        "colab": {
          "base_uri": "https://localhost:8080/"
        },
        "id": "FZkJ5VbdxG9g",
        "outputId": "677ceb75-09c5-4eaa-c98a-3978255d7dec"
      },
      "outputs": [
        {
          "output_type": "stream",
          "name": "stdout",
          "text": [
            "[[17580    82   401    10    45]\n",
            " [  307   236     8     1     4]\n",
            " [  666    44   719     3    16]\n",
            " [  141     0     6    15     0]\n",
            " [  177     5    95     0  1331]]\n",
            "0.9081399598026676\n",
            "              precision    recall  f1-score   support\n",
            "\n",
            "         0.0       0.93      0.97      0.95     18118\n",
            "         1.0       0.64      0.42      0.51       556\n",
            "         2.0       0.59      0.50      0.54      1448\n",
            "         3.0       0.52      0.09      0.16       162\n",
            "         4.0       0.95      0.83      0.89      1608\n",
            "\n",
            "    accuracy                           0.91     21892\n",
            "   macro avg       0.73      0.56      0.61     21892\n",
            "weighted avg       0.90      0.91      0.90     21892\n",
            "\n"
          ]
        }
      ],
      "source": [
        "from sklearn.metrics import confusion_matrix, accuracy_score\n",
        "from sklearn.metrics import classification_report\n",
        "\n",
        "cm = confusion_matrix(y_test, RFC_pred)\n",
        "print(cm)\n",
        "a1 = accuracy_score(y_test, RFC_pred)\n",
        "print(a1)\n",
        "print(classification_report(y_test, RFC_pred))"
      ]
    },
    {
      "cell_type": "markdown",
      "metadata": {
        "id": "5nN5V95E1hMd"
      },
      "source": [
        "#**Support Vector Machine**"
      ]
    },
    {
      "cell_type": "code",
      "execution_count": 14,
      "metadata": {
        "colab": {
          "base_uri": "https://localhost:8080/"
        },
        "id": "Dzu6etFp1csZ",
        "outputId": "a6847794-8110-470c-c1fd-130c8a6e7684"
      },
      "outputs": [
        {
          "output_type": "execute_result",
          "data": {
            "text/plain": [
              "SVC(kernel='poly', probability=True)"
            ]
          },
          "metadata": {},
          "execution_count": 14
        }
      ],
      "source": [
        "#Training the SVM model \n",
        "from sklearn.svm import SVC\n",
        "SVM = SVC(kernel = 'poly', degree=3, probability=True)\n",
        "SVM.fit(x_train, y_train)"
      ]
    },
    {
      "cell_type": "code",
      "execution_count": 15,
      "metadata": {
        "id": "_BOOz7FL1eJg"
      },
      "outputs": [],
      "source": [
        "pred_SVM = SVM.predict(x_test)"
      ]
    },
    {
      "cell_type": "code",
      "execution_count": 16,
      "metadata": {
        "colab": {
          "base_uri": "https://localhost:8080/"
        },
        "id": "10uC3Qbt1eF4",
        "outputId": "b091756d-1ceb-4366-fbbb-a36a166d9fff"
      },
      "outputs": [
        {
          "output_type": "stream",
          "name": "stdout",
          "text": [
            "[[14964   558  1044   922   630]\n",
            " [  137   366    36     7    10]\n",
            " [  333   185   852    39    39]\n",
            " [    6     0    12   143     1]\n",
            " [   33     5    59     2  1509]]\n",
            "Accuarcy of the model 0.814635483281564\n",
            "              precision    recall  f1-score   support\n",
            "\n",
            "         0.0       0.97      0.83      0.89     18118\n",
            "         1.0       0.33      0.66      0.44       556\n",
            "         2.0       0.43      0.59      0.49      1448\n",
            "         3.0       0.13      0.88      0.22       162\n",
            "         4.0       0.69      0.94      0.79      1608\n",
            "\n",
            "    accuracy                           0.81     21892\n",
            "   macro avg       0.51      0.78      0.57     21892\n",
            "weighted avg       0.89      0.81      0.84     21892\n",
            "\n"
          ]
        }
      ],
      "source": [
        "from sklearn.metrics import confusion_matrix, accuracy_score\n",
        "from sklearn.metrics import classification_report\n",
        "\n",
        "cm_SVM = confusion_matrix(y_test, pred_SVM)\n",
        "print(cm_SVM)\n",
        "a_SVM = accuracy_score(y_test, pred_SVM)\n",
        "print(\"Accuarcy of the model\",a_SVM)\n",
        "print(classification_report(y_test, pred_SVM))\n"
      ]
    },
    {
      "cell_type": "markdown",
      "metadata": {
        "id": "8FT51vFA1wHh"
      },
      "source": [
        "#**KNeighbor Classification**"
      ]
    },
    {
      "cell_type": "code",
      "execution_count": 17,
      "metadata": {
        "colab": {
          "base_uri": "https://localhost:8080/"
        },
        "id": "GcEgj7iC1eDP",
        "outputId": "ec774bc9-2fee-4ee8-d6e3-2d138ed6c27f"
      },
      "outputs": [
        {
          "output_type": "execute_result",
          "data": {
            "text/plain": [
              "KNeighborsClassifier()"
            ]
          },
          "metadata": {},
          "execution_count": 17
        }
      ],
      "source": [
        "from sklearn.neighbors import KNeighborsClassifier\n",
        "KNN = KNeighborsClassifier(n_neighbors = 5, metric = 'minkowski', p = 2)\n",
        "KNN.fit(x_train, y_train)"
      ]
    },
    {
      "cell_type": "code",
      "execution_count": 18,
      "metadata": {
        "id": "RSCu52J31eAz"
      },
      "outputs": [],
      "source": [
        "pred_KNN = KNN.predict(x_test)"
      ]
    },
    {
      "cell_type": "code",
      "execution_count": 19,
      "metadata": {
        "colab": {
          "base_uri": "https://localhost:8080/"
        },
        "id": "1Okelz8b1d90",
        "outputId": "13d8f37e-73c1-4244-ebd0-d8dc20197c6e"
      },
      "outputs": [
        {
          "output_type": "stream",
          "name": "stdout",
          "text": [
            "[[15330   964  1066   573   185]\n",
            " [   89   423    32     6     6]\n",
            " [  207   106  1049    49    37]\n",
            " [    6     3    19   133     1]\n",
            " [   28    11    28     1  1540]]\n",
            "Accuarcy of the model 0.8439155856020464\n",
            "              precision    recall  f1-score   support\n",
            "\n",
            "         0.0       0.98      0.85      0.91     18118\n",
            "         1.0       0.28      0.76      0.41       556\n",
            "         2.0       0.48      0.72      0.58      1448\n",
            "         3.0       0.17      0.82      0.29       162\n",
            "         4.0       0.87      0.96      0.91      1608\n",
            "\n",
            "    accuracy                           0.84     21892\n",
            "   macro avg       0.56      0.82      0.62     21892\n",
            "weighted avg       0.91      0.84      0.87     21892\n",
            "\n"
          ]
        }
      ],
      "source": [
        "from sklearn.metrics import confusion_matrix, accuracy_score\n",
        "from sklearn.metrics import classification_report\n",
        "\n",
        "cm_KNN = confusion_matrix(y_test, pred_KNN)\n",
        "print(cm_KNN)\n",
        "a_KNN = accuracy_score(y_test, pred_KNN)\n",
        "print(\"Accuarcy of the model\",a_KNN)\n",
        "print(classification_report(y_test, pred_KNN))"
      ]
    },
    {
      "cell_type": "markdown",
      "metadata": {
        "id": "xkJWGgg12Crh"
      },
      "source": [
        "#**Voting Classifier**"
      ]
    },
    {
      "cell_type": "code",
      "execution_count": 20,
      "metadata": {
        "id": "ZaqPaPQQ1d72",
        "colab": {
          "base_uri": "https://localhost:8080/"
        },
        "outputId": "f75026b5-2ff7-4a45-c3fc-781a212fd0df"
      },
      "outputs": [
        {
          "output_type": "execute_result",
          "data": {
            "text/plain": [
              "0.9064955234788964"
            ]
          },
          "metadata": {},
          "execution_count": 20
        }
      ],
      "source": [
        "from sklearn.ensemble import VotingClassifier\n",
        "\n",
        "model = VotingClassifier(estimators=[('svm', SVM), ('knn', KNN), ('rfc', RFC)])\n",
        "model.fit(x_train, y_train)\n",
        "model.score(x_test, y_test)"
      ]
    },
    {
      "cell_type": "markdown",
      "metadata": {
        "id": "Zhqwd7z12MpE"
      },
      "source": [
        "#**Ada Boost**"
      ]
    },
    {
      "cell_type": "code",
      "execution_count": 21,
      "metadata": {
        "id": "IUM-zmD_2LBL",
        "colab": {
          "base_uri": "https://localhost:8080/"
        },
        "outputId": "dc137afe-2a1c-415e-d4fa-3487ea44257b"
      },
      "outputs": [
        {
          "output_type": "execute_result",
          "data": {
            "text/plain": [
              "AdaBoostClassifier(base_estimator=RandomForestClassifier(max_depth=1,\n",
              "                                                         random_state=RandomState(MT19937) at 0x7F67D25CBAF0),\n",
              "                   n_estimators=100,\n",
              "                   random_state=RandomState(MT19937) at 0x7F67D25CBC00)"
            ]
          },
          "metadata": {},
          "execution_count": 21
        }
      ],
      "source": [
        "from sklearn.ensemble import RandomForestClassifier\n",
        "from sklearn.ensemble import AdaBoostClassifier\n",
        "\n",
        "\n",
        "max_estimators = 100\n",
        "ada_boost = AdaBoostClassifier(RandomForestClassifier(max_depth = 1, # Just a stump.\n",
        "                                      random_state = np.random.RandomState(0)),\n",
        "                               n_estimators = max_estimators,\n",
        "                               random_state = np.random.RandomState(0))\n",
        "\n",
        "# Fit all estimators.\n",
        "ada_boost.fit(x_train, y_train)\n"
      ]
    },
    {
      "cell_type": "code",
      "execution_count": 22,
      "metadata": {
        "id": "tvDow6jL2yHb",
        "colab": {
          "base_uri": "https://localhost:8080/"
        },
        "outputId": "504a3dfb-d0d3-42e8-a1f1-fd302abfc799"
      },
      "outputs": [
        {
          "output_type": "execute_result",
          "data": {
            "text/plain": [
              "0.5726749497533346"
            ]
          },
          "metadata": {},
          "execution_count": 22
        }
      ],
      "source": [
        "ada_boost.score(x_test, y_test)"
      ]
    },
    {
      "cell_type": "markdown",
      "metadata": {
        "id": "c0SbEsjk27j5"
      },
      "source": [
        "#**XGBoost**"
      ]
    },
    {
      "cell_type": "code",
      "source": [
        "from numpy import loadtxt\n",
        "from xgboost import XGBClassifier\n",
        "from sklearn.model_selection import train_test_split\n",
        "from sklearn.metrics import accuracy_score\n",
        "from matplotlib import pyplot\n",
        "\n",
        "# fit model on training data\n",
        "model = XGBClassifier()\n",
        "eval_set = [(x_train, y_train), (x_test, y_test)]\n",
        "model.fit(x_train, y_train, eval_metric=[\"merror\", \"mlogloss\"], eval_set=eval_set,verbose=True)\n",
        "\n"
      ],
      "metadata": {
        "colab": {
          "base_uri": "https://localhost:8080/"
        },
        "id": "oBHTvD38iz6q",
        "outputId": "14434f62-80fa-4043-d884-21a9c7e83d61"
      },
      "execution_count": 23,
      "outputs": [
        {
          "output_type": "stream",
          "name": "stdout",
          "text": [
            "[0]\tvalidation_0-merror:0.2292\tvalidation_0-mlogloss:1.47519\tvalidation_1-merror:0.459848\tvalidation_1-mlogloss:1.54516\n",
            "[1]\tvalidation_0-merror:0.21592\tvalidation_0-mlogloss:1.36648\tvalidation_1-merror:0.450347\tvalidation_1-mlogloss:1.49129\n",
            "[2]\tvalidation_0-merror:0.2078\tvalidation_0-mlogloss:1.275\tvalidation_1-merror:0.424402\tvalidation_1-mlogloss:1.44406\n",
            "[3]\tvalidation_0-merror:0.199067\tvalidation_0-mlogloss:1.19281\tvalidation_1-merror:0.427325\tvalidation_1-mlogloss:1.39849\n",
            "[4]\tvalidation_0-merror:0.199347\tvalidation_0-mlogloss:1.12248\tvalidation_1-merror:0.426503\tvalidation_1-mlogloss:1.35988\n",
            "[5]\tvalidation_0-merror:0.194573\tvalidation_0-mlogloss:1.05956\tvalidation_1-merror:0.423671\tvalidation_1-mlogloss:1.32482\n",
            "[6]\tvalidation_0-merror:0.191373\tvalidation_0-mlogloss:1.00414\tvalidation_1-merror:0.415494\tvalidation_1-mlogloss:1.29617\n",
            "[7]\tvalidation_0-merror:0.18776\tvalidation_0-mlogloss:0.95559\tvalidation_1-merror:0.409784\tvalidation_1-mlogloss:1.27074\n",
            "[8]\tvalidation_0-merror:0.188987\tvalidation_0-mlogloss:0.910931\tvalidation_1-merror:0.417733\tvalidation_1-mlogloss:1.24943\n",
            "[9]\tvalidation_0-merror:0.18752\tvalidation_0-mlogloss:0.871202\tvalidation_1-merror:0.421478\tvalidation_1-mlogloss:1.2307\n",
            "[10]\tvalidation_0-merror:0.181293\tvalidation_0-mlogloss:0.835202\tvalidation_1-merror:0.414444\tvalidation_1-mlogloss:1.21425\n",
            "[11]\tvalidation_0-merror:0.178733\tvalidation_0-mlogloss:0.803253\tvalidation_1-merror:0.4186\tvalidation_1-mlogloss:1.19836\n",
            "[12]\tvalidation_0-merror:0.17948\tvalidation_0-mlogloss:0.772692\tvalidation_1-merror:0.406541\tvalidation_1-mlogloss:1.18285\n",
            "[13]\tvalidation_0-merror:0.174707\tvalidation_0-mlogloss:0.744973\tvalidation_1-merror:0.407135\tvalidation_1-mlogloss:1.16845\n",
            "[14]\tvalidation_0-merror:0.17268\tvalidation_0-mlogloss:0.719632\tvalidation_1-merror:0.405536\tvalidation_1-mlogloss:1.15601\n",
            "[15]\tvalidation_0-merror:0.172013\tvalidation_0-mlogloss:0.695889\tvalidation_1-merror:0.409282\tvalidation_1-mlogloss:1.14833\n",
            "[16]\tvalidation_0-merror:0.168627\tvalidation_0-mlogloss:0.674204\tvalidation_1-merror:0.407638\tvalidation_1-mlogloss:1.13335\n",
            "[17]\tvalidation_0-merror:0.165933\tvalidation_0-mlogloss:0.65409\tvalidation_1-merror:0.404349\tvalidation_1-mlogloss:1.12045\n",
            "[18]\tvalidation_0-merror:0.164427\tvalidation_0-mlogloss:0.635785\tvalidation_1-merror:0.407729\tvalidation_1-mlogloss:1.1117\n",
            "[19]\tvalidation_0-merror:0.163067\tvalidation_0-mlogloss:0.618633\tvalidation_1-merror:0.40412\tvalidation_1-mlogloss:1.09777\n",
            "[20]\tvalidation_0-merror:0.162653\tvalidation_0-mlogloss:0.602942\tvalidation_1-merror:0.399781\tvalidation_1-mlogloss:1.08353\n",
            "[21]\tvalidation_0-merror:0.160267\tvalidation_0-mlogloss:0.587655\tvalidation_1-merror:0.399461\tvalidation_1-mlogloss:1.07245\n",
            "[22]\tvalidation_0-merror:0.158533\tvalidation_0-mlogloss:0.574216\tvalidation_1-merror:0.393477\tvalidation_1-mlogloss:1.05974\n",
            "[23]\tvalidation_0-merror:0.155427\tvalidation_0-mlogloss:0.561247\tvalidation_1-merror:0.389777\tvalidation_1-mlogloss:1.04474\n",
            "[24]\tvalidation_0-merror:0.154133\tvalidation_0-mlogloss:0.549164\tvalidation_1-merror:0.389503\tvalidation_1-mlogloss:1.0353\n",
            "[25]\tvalidation_0-merror:0.152627\tvalidation_0-mlogloss:0.537451\tvalidation_1-merror:0.381372\tvalidation_1-mlogloss:1.02387\n",
            "[26]\tvalidation_0-merror:0.15116\tvalidation_0-mlogloss:0.526735\tvalidation_1-merror:0.37484\tvalidation_1-mlogloss:1.01647\n",
            "[27]\tvalidation_0-merror:0.149973\tvalidation_0-mlogloss:0.516369\tvalidation_1-merror:0.373972\tvalidation_1-mlogloss:1.00706\n",
            "[28]\tvalidation_0-merror:0.14636\tvalidation_0-mlogloss:0.506705\tvalidation_1-merror:0.369907\tvalidation_1-mlogloss:0.994783\n",
            "[29]\tvalidation_0-merror:0.1446\tvalidation_0-mlogloss:0.497635\tvalidation_1-merror:0.371414\tvalidation_1-mlogloss:0.988499\n",
            "[30]\tvalidation_0-merror:0.143187\tvalidation_0-mlogloss:0.488618\tvalidation_1-merror:0.368811\tvalidation_1-mlogloss:0.978602\n",
            "[31]\tvalidation_0-merror:0.141693\tvalidation_0-mlogloss:0.48029\tvalidation_1-merror:0.364608\tvalidation_1-mlogloss:0.969968\n",
            "[32]\tvalidation_0-merror:0.14096\tvalidation_0-mlogloss:0.472682\tvalidation_1-merror:0.364151\tvalidation_1-mlogloss:0.964448\n",
            "[33]\tvalidation_0-merror:0.138693\tvalidation_0-mlogloss:0.465032\tvalidation_1-merror:0.36036\tvalidation_1-mlogloss:0.955706\n",
            "[34]\tvalidation_0-merror:0.13656\tvalidation_0-mlogloss:0.458423\tvalidation_1-merror:0.359264\tvalidation_1-mlogloss:0.947842\n",
            "[35]\tvalidation_0-merror:0.135787\tvalidation_0-mlogloss:0.451425\tvalidation_1-merror:0.356432\tvalidation_1-mlogloss:0.940662\n",
            "[36]\tvalidation_0-merror:0.134667\tvalidation_0-mlogloss:0.445133\tvalidation_1-merror:0.352732\tvalidation_1-mlogloss:0.931287\n",
            "[37]\tvalidation_0-merror:0.133533\tvalidation_0-mlogloss:0.439206\tvalidation_1-merror:0.349945\tvalidation_1-mlogloss:0.925603\n",
            "[38]\tvalidation_0-merror:0.131253\tvalidation_0-mlogloss:0.432916\tvalidation_1-merror:0.347753\tvalidation_1-mlogloss:0.919865\n",
            "[39]\tvalidation_0-merror:0.130133\tvalidation_0-mlogloss:0.427668\tvalidation_1-merror:0.347844\tvalidation_1-mlogloss:0.914994\n",
            "[40]\tvalidation_0-merror:0.129613\tvalidation_0-mlogloss:0.422312\tvalidation_1-merror:0.346656\tvalidation_1-mlogloss:0.910454\n",
            "[41]\tvalidation_0-merror:0.12816\tvalidation_0-mlogloss:0.417126\tvalidation_1-merror:0.343322\tvalidation_1-mlogloss:0.904472\n",
            "[42]\tvalidation_0-merror:0.125853\tvalidation_0-mlogloss:0.412103\tvalidation_1-merror:0.340992\tvalidation_1-mlogloss:0.899583\n",
            "[43]\tvalidation_0-merror:0.12572\tvalidation_0-mlogloss:0.408155\tvalidation_1-merror:0.338937\tvalidation_1-mlogloss:0.896279\n",
            "[44]\tvalidation_0-merror:0.12364\tvalidation_0-mlogloss:0.403855\tvalidation_1-merror:0.340398\tvalidation_1-mlogloss:0.895707\n",
            "[45]\tvalidation_0-merror:0.123213\tvalidation_0-mlogloss:0.399824\tvalidation_1-merror:0.338663\tvalidation_1-mlogloss:0.892173\n",
            "[46]\tvalidation_0-merror:0.122347\tvalidation_0-mlogloss:0.395892\tvalidation_1-merror:0.337246\tvalidation_1-mlogloss:0.889784\n",
            "[47]\tvalidation_0-merror:0.120627\tvalidation_0-mlogloss:0.391389\tvalidation_1-merror:0.334826\tvalidation_1-mlogloss:0.886104\n",
            "[48]\tvalidation_0-merror:0.119453\tvalidation_0-mlogloss:0.387123\tvalidation_1-merror:0.334688\tvalidation_1-mlogloss:0.882458\n",
            "[49]\tvalidation_0-merror:0.117973\tvalidation_0-mlogloss:0.383799\tvalidation_1-merror:0.334963\tvalidation_1-mlogloss:0.88074\n",
            "[50]\tvalidation_0-merror:0.11796\tvalidation_0-mlogloss:0.380002\tvalidation_1-merror:0.33583\tvalidation_1-mlogloss:0.880143\n",
            "[51]\tvalidation_0-merror:0.116213\tvalidation_0-mlogloss:0.376187\tvalidation_1-merror:0.336835\tvalidation_1-mlogloss:0.877833\n",
            "[52]\tvalidation_0-merror:0.11536\tvalidation_0-mlogloss:0.372356\tvalidation_1-merror:0.333135\tvalidation_1-mlogloss:0.873663\n",
            "[53]\tvalidation_0-merror:0.114027\tvalidation_0-mlogloss:0.368615\tvalidation_1-merror:0.331674\tvalidation_1-mlogloss:0.871383\n",
            "[54]\tvalidation_0-merror:0.113173\tvalidation_0-mlogloss:0.365237\tvalidation_1-merror:0.329161\tvalidation_1-mlogloss:0.868844\n",
            "[55]\tvalidation_0-merror:0.110347\tvalidation_0-mlogloss:0.361185\tvalidation_1-merror:0.327882\tvalidation_1-mlogloss:0.863637\n",
            "[56]\tvalidation_0-merror:0.109853\tvalidation_0-mlogloss:0.358175\tvalidation_1-merror:0.327106\tvalidation_1-mlogloss:0.860928\n",
            "[57]\tvalidation_0-merror:0.108627\tvalidation_0-mlogloss:0.354637\tvalidation_1-merror:0.325142\tvalidation_1-mlogloss:0.857589\n",
            "[58]\tvalidation_0-merror:0.107933\tvalidation_0-mlogloss:0.351576\tvalidation_1-merror:0.325142\tvalidation_1-mlogloss:0.856989\n",
            "[59]\tvalidation_0-merror:0.1068\tvalidation_0-mlogloss:0.348418\tvalidation_1-merror:0.323634\tvalidation_1-mlogloss:0.851329\n",
            "[60]\tvalidation_0-merror:0.105973\tvalidation_0-mlogloss:0.345594\tvalidation_1-merror:0.321944\tvalidation_1-mlogloss:0.849126\n",
            "[61]\tvalidation_0-merror:0.105133\tvalidation_0-mlogloss:0.342323\tvalidation_1-merror:0.321533\tvalidation_1-mlogloss:0.848083\n",
            "[62]\tvalidation_0-merror:0.1038\tvalidation_0-mlogloss:0.339245\tvalidation_1-merror:0.320574\tvalidation_1-mlogloss:0.846303\n",
            "[63]\tvalidation_0-merror:0.103267\tvalidation_0-mlogloss:0.336778\tvalidation_1-merror:0.3203\tvalidation_1-mlogloss:0.844384\n",
            "[64]\tvalidation_0-merror:0.10276\tvalidation_0-mlogloss:0.334385\tvalidation_1-merror:0.318929\tvalidation_1-mlogloss:0.843285\n",
            "[65]\tvalidation_0-merror:0.102587\tvalidation_0-mlogloss:0.332128\tvalidation_1-merror:0.317696\tvalidation_1-mlogloss:0.839555\n",
            "[66]\tvalidation_0-merror:0.10096\tvalidation_0-mlogloss:0.329751\tvalidation_1-merror:0.317239\tvalidation_1-mlogloss:0.839456\n",
            "[67]\tvalidation_0-merror:0.09972\tvalidation_0-mlogloss:0.327211\tvalidation_1-merror:0.317376\tvalidation_1-mlogloss:0.839024\n",
            "[68]\tvalidation_0-merror:0.099547\tvalidation_0-mlogloss:0.324686\tvalidation_1-merror:0.316143\tvalidation_1-mlogloss:0.835294\n",
            "[69]\tvalidation_0-merror:0.09912\tvalidation_0-mlogloss:0.32234\tvalidation_1-merror:0.315321\tvalidation_1-mlogloss:0.832412\n",
            "[70]\tvalidation_0-merror:0.097933\tvalidation_0-mlogloss:0.320088\tvalidation_1-merror:0.314955\tvalidation_1-mlogloss:0.830809\n",
            "[71]\tvalidation_0-merror:0.097587\tvalidation_0-mlogloss:0.317623\tvalidation_1-merror:0.313722\tvalidation_1-mlogloss:0.830423\n",
            "[72]\tvalidation_0-merror:0.096507\tvalidation_0-mlogloss:0.315536\tvalidation_1-merror:0.314042\tvalidation_1-mlogloss:0.829771\n",
            "[73]\tvalidation_0-merror:0.096027\tvalidation_0-mlogloss:0.313611\tvalidation_1-merror:0.313768\tvalidation_1-mlogloss:0.829758\n",
            "[74]\tvalidation_0-merror:0.0954\tvalidation_0-mlogloss:0.31167\tvalidation_1-merror:0.313082\tvalidation_1-mlogloss:0.826917\n",
            "[75]\tvalidation_0-merror:0.0952\tvalidation_0-mlogloss:0.309419\tvalidation_1-merror:0.312306\tvalidation_1-mlogloss:0.826364\n",
            "[76]\tvalidation_0-merror:0.094267\tvalidation_0-mlogloss:0.307256\tvalidation_1-merror:0.310524\tvalidation_1-mlogloss:0.823679\n",
            "[77]\tvalidation_0-merror:0.093707\tvalidation_0-mlogloss:0.305502\tvalidation_1-merror:0.310753\tvalidation_1-mlogloss:0.82457\n",
            "[78]\tvalidation_0-merror:0.092893\tvalidation_0-mlogloss:0.303273\tvalidation_1-merror:0.308926\tvalidation_1-mlogloss:0.821214\n",
            "[79]\tvalidation_0-merror:0.09216\tvalidation_0-mlogloss:0.301174\tvalidation_1-merror:0.306642\tvalidation_1-mlogloss:0.816564\n",
            "[80]\tvalidation_0-merror:0.091267\tvalidation_0-mlogloss:0.298849\tvalidation_1-merror:0.304769\tvalidation_1-mlogloss:0.813649\n",
            "[81]\tvalidation_0-merror:0.09096\tvalidation_0-mlogloss:0.297233\tvalidation_1-merror:0.304038\tvalidation_1-mlogloss:0.811705\n",
            "[82]\tvalidation_0-merror:0.0906\tvalidation_0-mlogloss:0.295479\tvalidation_1-merror:0.302942\tvalidation_1-mlogloss:0.810979\n",
            "[83]\tvalidation_0-merror:0.08988\tvalidation_0-mlogloss:0.293946\tvalidation_1-merror:0.30285\tvalidation_1-mlogloss:0.808584\n",
            "[84]\tvalidation_0-merror:0.08876\tvalidation_0-mlogloss:0.291919\tvalidation_1-merror:0.302165\tvalidation_1-mlogloss:0.80641\n",
            "[85]\tvalidation_0-merror:0.08904\tvalidation_0-mlogloss:0.290014\tvalidation_1-merror:0.300247\tvalidation_1-mlogloss:0.804101\n",
            "[86]\tvalidation_0-merror:0.088467\tvalidation_0-mlogloss:0.288158\tvalidation_1-merror:0.296227\tvalidation_1-mlogloss:0.800581\n",
            "[87]\tvalidation_0-merror:0.087547\tvalidation_0-mlogloss:0.286139\tvalidation_1-merror:0.294811\tvalidation_1-mlogloss:0.79911\n",
            "[88]\tvalidation_0-merror:0.086907\tvalidation_0-mlogloss:0.284443\tvalidation_1-merror:0.292024\tvalidation_1-mlogloss:0.795415\n",
            "[89]\tvalidation_0-merror:0.086467\tvalidation_0-mlogloss:0.283108\tvalidation_1-merror:0.292253\tvalidation_1-mlogloss:0.795627\n",
            "[90]\tvalidation_0-merror:0.086373\tvalidation_0-mlogloss:0.281178\tvalidation_1-merror:0.289421\tvalidation_1-mlogloss:0.792926\n",
            "[91]\tvalidation_0-merror:0.08572\tvalidation_0-mlogloss:0.27965\tvalidation_1-merror:0.288964\tvalidation_1-mlogloss:0.792252\n",
            "[92]\tvalidation_0-merror:0.085173\tvalidation_0-mlogloss:0.278101\tvalidation_1-merror:0.287913\tvalidation_1-mlogloss:0.790478\n",
            "[93]\tvalidation_0-merror:0.083773\tvalidation_0-mlogloss:0.276215\tvalidation_1-merror:0.287091\tvalidation_1-mlogloss:0.789087\n",
            "[94]\tvalidation_0-merror:0.0836\tvalidation_0-mlogloss:0.274945\tvalidation_1-merror:0.287868\tvalidation_1-mlogloss:0.788613\n",
            "[95]\tvalidation_0-merror:0.08288\tvalidation_0-mlogloss:0.273339\tvalidation_1-merror:0.28668\tvalidation_1-mlogloss:0.785502\n",
            "[96]\tvalidation_0-merror:0.081853\tvalidation_0-mlogloss:0.27138\tvalidation_1-merror:0.284899\tvalidation_1-mlogloss:0.782352\n",
            "[97]\tvalidation_0-merror:0.082107\tvalidation_0-mlogloss:0.269741\tvalidation_1-merror:0.284533\tvalidation_1-mlogloss:0.782096\n",
            "[98]\tvalidation_0-merror:0.081133\tvalidation_0-mlogloss:0.268126\tvalidation_1-merror:0.282706\tvalidation_1-mlogloss:0.77907\n",
            "[99]\tvalidation_0-merror:0.080267\tvalidation_0-mlogloss:0.266816\tvalidation_1-merror:0.282432\tvalidation_1-mlogloss:0.778093\n"
          ]
        },
        {
          "output_type": "execute_result",
          "data": {
            "text/plain": [
              "XGBClassifier(objective='multi:softprob')"
            ]
          },
          "metadata": {},
          "execution_count": 23
        }
      ]
    },
    {
      "cell_type": "code",
      "source": [
        "# make predictions for test data\n",
        "predictions = model.predict(x_test)"
      ],
      "metadata": {
        "id": "CUnmDitcjFWQ"
      },
      "execution_count": 24,
      "outputs": []
    },
    {
      "cell_type": "code",
      "source": [
        "# evaluate predictions\n",
        "accuracy = accuracy_score(y_test, predictions)"
      ],
      "metadata": {
        "id": "nz1XLILAjFTD"
      },
      "execution_count": 25,
      "outputs": []
    },
    {
      "cell_type": "code",
      "source": [
        "# retrieve performance metrics\n",
        "results = model.evals_result()\n",
        "epochs = len(results['validation_0']['merror'])\n",
        "x_axis = range(0, epochs)"
      ],
      "metadata": {
        "id": "v0K9Fr6yjJMX"
      },
      "execution_count": 26,
      "outputs": []
    },
    {
      "cell_type": "code",
      "source": [
        "# plot log loss\n",
        "fig, ax = pyplot.subplots()\n",
        "ax.plot(x_axis, results['validation_0']['mlogloss'], label='Train')\n",
        "ax.plot(x_axis, results['validation_1']['mlogloss'], label='Test')\n",
        "ax.legend()\n",
        "pyplot.ylabel('Log Loss')\n",
        "pyplot.title('XGBoost Log Loss')\n",
        "pyplot.show()"
      ],
      "metadata": {
        "colab": {
          "base_uri": "https://localhost:8080/",
          "height": 281
        },
        "id": "-32KIZAzjL0l",
        "outputId": "7e7e1f20-d333-4906-93fc-1533d660a37d"
      },
      "execution_count": 27,
      "outputs": [
        {
          "output_type": "display_data",
          "data": {
            "text/plain": [
              "<Figure size 432x288 with 1 Axes>"
            ],
            "image/png": "[encoded data removed]"
          },
          "metadata": {
            "needs_background": "light"
          }
        }
      ]
    },
    {
      "cell_type": "code",
      "source": [
        "# plot classification error\n",
        "fig, ax = pyplot.subplots()\n",
        "ax.plot(x_axis, results['validation_0']['merror'], label='Train')\n",
        "ax.plot(x_axis, results['validation_1']['merror'], label='Test')\n",
        "ax.legend()\n",
        "pyplot.ylabel('Classification Error')\n",
        "pyplot.title('XGBoost Classification Error')\n",
        "pyplot.show()"
      ],
      "metadata": {
        "colab": {
          "base_uri": "https://localhost:8080/",
          "height": 281
        },
        "id": "WG6UEoUUjLwy",
        "outputId": "f8b8061a-80c4-412e-88b5-c4dab959f382"
      },
      "execution_count": 28,
      "outputs": [
        {
          "output_type": "display_data",
          "data": {
            "text/plain": [
              "<Figure size 432x288 with 1 Axes>"
            ],
            "image/png": "[encoded data removed]"
          },
          "metadata": {
            "needs_background": "light"
          }
        }
      ]
    },
    {
      "cell_type": "markdown",
      "metadata": {
        "id": "ycZd-KYe3lwp"
      },
      "source": [
        "#**Artificial Neural Network**"
      ]
    },
    {
      "cell_type": "code",
      "execution_count": 29,
      "metadata": {
        "id": "HIjoEtsS3MLv",
        "colab": {
          "base_uri": "https://localhost:8080/"
        },
        "outputId": "6715d0e8-015e-4a40-b35a-a8450fbaef68"
      },
      "outputs": [
        {
          "output_type": "stream",
          "name": "stdout",
          "text": [
            "Epoch 1/5\n",
            "2344/2344 [==============================] - 20s 8ms/step - loss: 0.4365 - accuracy: 0.8495 - val_loss: 0.8013 - val_accuracy: 0.7512\n",
            "Epoch 2/5\n",
            "2344/2344 [==============================] - 19s 8ms/step - loss: 0.2705 - accuracy: 0.9097 - val_loss: 0.7221 - val_accuracy: 0.7747\n",
            "Epoch 3/5\n",
            "2344/2344 [==============================] - 19s 8ms/step - loss: 0.2436 - accuracy: 0.9221 - val_loss: 0.7648 - val_accuracy: 0.7347\n",
            "Epoch 4/5\n",
            "2344/2344 [==============================] - 19s 8ms/step - loss: 0.2179 - accuracy: 0.9287 - val_loss: 0.8318 - val_accuracy: 0.7809\n",
            "Epoch 5/5\n",
            "2344/2344 [==============================] - 19s 8ms/step - loss: 0.1719 - accuracy: 0.9438 - val_loss: 0.8968 - val_accuracy: 0.7333\n",
            "685/685 [==============================] - 2s 3ms/step - loss: 0.8968 - accuracy: 0.7333\n",
            "Epoch 1/5\n",
            "2344/2344 [==============================] - 21s 8ms/step - loss: 0.4432 - accuracy: 0.8443 - val_loss: 0.6812 - val_accuracy: 0.7966\n",
            "Epoch 2/5\n",
            "2344/2344 [==============================] - 21s 9ms/step - loss: 0.2605 - accuracy: 0.9127 - val_loss: 0.6794 - val_accuracy: 0.7996\n",
            "Epoch 3/5\n",
            "2344/2344 [==============================] - 19s 8ms/step - loss: 0.2296 - accuracy: 0.9262 - val_loss: 0.7599 - val_accuracy: 0.7933\n",
            "Epoch 4/5\n",
            "2344/2344 [==============================] - 19s 8ms/step - loss: 0.3272 - accuracy: 0.8950 - val_loss: 0.9609 - val_accuracy: 0.7201\n",
            "Epoch 5/5\n",
            "2344/2344 [==============================] - 18s 8ms/step - loss: 0.2171 - accuracy: 0.9318 - val_loss: 0.9401 - val_accuracy: 0.6945\n",
            "685/685 [==============================] - 2s 2ms/step - loss: 0.9401 - accuracy: 0.6945\n",
            "Epoch 1/5\n",
            "2344/2344 [==============================] - 19s 8ms/step - loss: 0.4859 - accuracy: 0.8307 - val_loss: 0.9452 - val_accuracy: 0.6797\n",
            "Epoch 2/5\n",
            "2344/2344 [==============================] - 18s 8ms/step - loss: 0.2803 - accuracy: 0.9091 - val_loss: 0.8044 - val_accuracy: 0.7528\n",
            "Epoch 3/5\n",
            "2344/2344 [==============================] - 18s 8ms/step - loss: 0.2260 - accuracy: 0.9265 - val_loss: 0.6560 - val_accuracy: 0.8012\n",
            "Epoch 4/5\n",
            "2344/2344 [==============================] - 18s 8ms/step - loss: 0.2329 - accuracy: 0.9237 - val_loss: 1.1116 - val_accuracy: 0.6290\n",
            "Epoch 5/5\n",
            "2344/2344 [==============================] - 18s 8ms/step - loss: 0.2707 - accuracy: 0.9046 - val_loss: 0.8419 - val_accuracy: 0.7373\n",
            "685/685 [==============================] - 2s 2ms/step - loss: 0.8419 - accuracy: 0.7373\n",
            "Epoch 1/5\n",
            "2344/2344 [==============================] - 20s 8ms/step - loss: 0.5353 - accuracy: 0.8080 - val_loss: 1.1445 - val_accuracy: 0.6621\n",
            "Epoch 2/5\n",
            "2344/2344 [==============================] - 18s 8ms/step - loss: 0.3203 - accuracy: 0.8931 - val_loss: 0.8202 - val_accuracy: 0.7533\n",
            "Epoch 3/5\n",
            "2344/2344 [==============================] - 18s 8ms/step - loss: 0.2373 - accuracy: 0.9215 - val_loss: 0.7576 - val_accuracy: 0.7988\n",
            "Epoch 4/5\n",
            "2344/2344 [==============================] - 19s 8ms/step - loss: 0.2490 - accuracy: 0.9193 - val_loss: 1.0980 - val_accuracy: 0.6964\n",
            "Epoch 5/5\n",
            "2344/2344 [==============================] - 19s 8ms/step - loss: 0.2219 - accuracy: 0.9277 - val_loss: 0.7835 - val_accuracy: 0.7585\n",
            "685/685 [==============================] - 2s 2ms/step - loss: 0.7835 - accuracy: 0.7585\n",
            "Epoch 1/5\n",
            "2344/2344 [==============================] - 20s 8ms/step - loss: 0.4995 - accuracy: 0.8212 - val_loss: 0.8681 - val_accuracy: 0.6956\n",
            "Epoch 2/5\n",
            "2344/2344 [==============================] - 18s 8ms/step - loss: 0.3355 - accuracy: 0.8902 - val_loss: 0.9572 - val_accuracy: 0.7244\n",
            "Epoch 3/5\n",
            "2344/2344 [==============================] - 17s 7ms/step - loss: 0.3810 - accuracy: 0.8702 - val_loss: 0.9999 - val_accuracy: 0.7172\n",
            "Epoch 4/5\n",
            "2344/2344 [==============================] - 17s 7ms/step - loss: 0.2374 - accuracy: 0.9196 - val_loss: 0.7431 - val_accuracy: 0.7762\n",
            "Epoch 5/5\n",
            "2344/2344 [==============================] - 21s 9ms/step - loss: 0.2193 - accuracy: 0.9264 - val_loss: 0.9223 - val_accuracy: 0.7184\n",
            "685/685 [==============================] - 2s 2ms/step - loss: 0.9223 - accuracy: 0.7184\n",
            "Epoch 1/5\n",
            "2344/2344 [==============================] - 20s 8ms/step - loss: 0.4418 - accuracy: 0.8466 - val_loss: 0.5191 - val_accuracy: 0.8361\n",
            "Epoch 2/5\n",
            "2344/2344 [==============================] - 19s 8ms/step - loss: 0.2893 - accuracy: 0.9075 - val_loss: 0.9372 - val_accuracy: 0.7648\n",
            "Epoch 3/5\n",
            "2344/2344 [==============================] - 19s 8ms/step - loss: 0.2382 - accuracy: 0.9223 - val_loss: 1.0420 - val_accuracy: 0.6930\n",
            "Epoch 4/5\n",
            "2344/2344 [==============================] - 19s 8ms/step - loss: 0.2059 - accuracy: 0.9334 - val_loss: 0.9242 - val_accuracy: 0.7181\n",
            "Epoch 5/5\n",
            "2344/2344 [==============================] - 19s 8ms/step - loss: 0.1709 - accuracy: 0.9459 - val_loss: 0.6627 - val_accuracy: 0.8207\n",
            "685/685 [==============================] - 2s 2ms/step - loss: 0.6627 - accuracy: 0.8207\n",
            "Epoch 1/5\n",
            "2344/2344 [==============================] - 20s 8ms/step - loss: 0.4683 - accuracy: 0.8367 - val_loss: 0.7843 - val_accuracy: 0.7423\n",
            "Epoch 2/5\n",
            "2344/2344 [==============================] - 18s 8ms/step - loss: 0.2656 - accuracy: 0.9118 - val_loss: 0.7546 - val_accuracy: 0.7466\n",
            "Epoch 3/5\n",
            "2344/2344 [==============================] - 20s 8ms/step - loss: 0.2349 - accuracy: 0.9244 - val_loss: 0.5705 - val_accuracy: 0.7917\n",
            "Epoch 4/5\n",
            "2344/2344 [==============================] - 18s 8ms/step - loss: 0.2091 - accuracy: 0.9352 - val_loss: 1.1144 - val_accuracy: 0.6253\n",
            "Epoch 5/5\n",
            "2344/2344 [==============================] - 18s 8ms/step - loss: 0.2187 - accuracy: 0.9289 - val_loss: 0.8373 - val_accuracy: 0.7043\n",
            "685/685 [==============================] - 2s 2ms/step - loss: 0.8373 - accuracy: 0.7043\n"
          ]
        }
      ],
      "source": [
        "import tensorflow as tf\n",
        "from tensorflow import keras\n",
        "from sklearn.metrics import precision_score, recall_score\n",
        "from sklearn.metrics import accuracy_score, confusion_matrix, classification_report\n",
        "\n",
        "accuracy = pd.DataFrame( columns=[\"Accuracy\",\"Precision\",\"Recall\"])\n",
        "#predictions = np.zeros(shape=(10000,7))\n",
        "row_index = 0\n",
        "for i in range(7):\n",
        "        # bootstrap sampling  \n",
        "        boot_train = resample(x_train,y_train,replace=True, n_samples=40000, random_state=None)\n",
        "        model1 = tf.keras.Sequential([\n",
        "            tf.keras.layers.Flatten(input_shape=x_train[0].shape),\n",
        "            tf.keras.layers.Dense(256, activation=tf.nn.relu),\n",
        "            tf.keras.layers.Dense(128, activation=tf.nn.relu),\n",
        "            tf.keras.layers.Dense(128, activation=tf.nn.relu),\n",
        "            tf.keras.layers.Dense(128, activation=tf.nn.relu),\n",
        "            tf.keras.layers.Dense(128, activation=tf.nn.relu),\n",
        "            tf.keras.layers.Dense(128, activation=tf.nn.relu),\n",
        "            tf.keras.layers.Dense(128, activation=tf.nn.relu),\n",
        "            tf.keras.layers.Dense(128, activation=tf.nn.relu),\n",
        "            tf.keras.layers.Dense(128, activation=tf.nn.relu),\n",
        "            tf.keras.layers.Dense(128, activation=tf.nn.relu),\n",
        "            tf.keras.layers.Dense(128, activation=tf.nn.relu),\n",
        "            tf.keras.layers.Dense(128, activation=tf.nn.relu),\n",
        "            tf.keras.layers.Dense(128, activation=tf.nn.relu),\n",
        "            tf.keras.layers.Dense(128, activation=tf.nn.relu),\n",
        "            tf.keras.layers.Dense(128, activation=tf.nn.relu),\n",
        "            tf.keras.layers.Dense(128, activation=tf.nn.relu),\n",
        "            tf.keras.layers.Dense(128, activation=tf.nn.relu),\n",
        "            tf.keras.layers.Dense(5, activation=tf.nn.softmax)])\n",
        "  \n",
        "        # compile the model1\n",
        "        model1.compile(loss='sparse_categorical_crossentropy',optimizer='adam',metrics=['accuracy'])\n",
        "\n",
        "        # Train the model1\n",
        "        model1.fit(x_train,y_train,epochs=5,batch_size=32, validation_data=(x_test, y_test))\n",
        "        # evaluate the model1\n",
        "        model1.evaluate(x_test, y_test)"
      ]
    },
    {
      "cell_type": "code",
      "execution_count": 30,
      "metadata": {
        "id": "Okrhde4B32TJ",
        "colab": {
          "base_uri": "https://localhost:8080/"
        },
        "outputId": "ef913358-1148-4e3b-bae0-422f8e631ea1"
      },
      "outputs": [
        {
          "output_type": "stream",
          "name": "stdout",
          "text": [
            "accuracy: 70.43%\n",
            "70.43% (+/- 0.00%)\n"
          ]
        }
      ],
      "source": [
        "import numpy \n",
        "cvscores1 = []\n",
        "scores = model1.evaluate(x_test, y_test, verbose=0)\n",
        "print(\"%s: %.2f%%\" % (model1.metrics_names[1], scores[1]*100))\n",
        "cvscores1.append(scores[1] * 100)\n",
        "print(\"%.2f%% (+/- %.2f%%)\" % (numpy.mean(cvscores1), numpy.std(cvscores1)))\n",
        "      "
      ]
    },
    {
      "cell_type": "markdown",
      "source": [
        "#**CNN**"
      ],
      "metadata": {
        "id": "iVW4HOXNT3vZ"
      }
    },
    {
      "cell_type": "code",
      "source": [
        "def gaussian_noise(signal):\n",
        "    noise = np.random.normal(0,0.05,187)\n",
        "    return signal + noise\n",
        "\n",
        "sample = train_lbl0.sample(1).values[0]\n",
        "\n",
        "sample_with_noise = gaussian_noise(sample[:187])\n",
        "\n",
        "plt.subplot(1, 1, 1)\n",
        "\n",
        "plt.plot(sample[:187])\n",
        "plt.plot(sample_with_noise)"
      ],
      "metadata": {
        "colab": {
          "base_uri": "https://localhost:8080/",
          "height": 282
        },
        "id": "o23Cg1G9Y4ej",
        "outputId": "fb1b4e7a-bf3e-4778-adb4-42b9d7ddbb87"
      },
      "execution_count": 31,
      "outputs": [
        {
          "output_type": "execute_result",
          "data": {
            "text/plain": [
              "[<matplotlib.lines.Line2D at 0x7f6755162350>]"
            ]
          },
          "metadata": {},
          "execution_count": 31
        },
        {
          "output_type": "display_data",
          "data": {
            "text/plain": [
              "<Figure size 432x288 with 1 Axes>"
            ],
            "image/png": "[encoded data removed]"
          },
          "metadata": {
            "needs_background": "light"
          }
        }
      ]
    },
    {
      "cell_type": "code",
      "source": [
        "import numpy as np\n",
        "import pandas as pd\n",
        "import matplotlib.pyplot as plt\n",
        "from sklearn.metrics import f1_score, confusion_matrix\n",
        "from sklearn.utils import resample\n",
        "import tensorflow.keras\n",
        "from tensorflow.keras.models import Sequential\n",
        "from tensorflow.keras.layers import Conv1D, MaxPooling1D, Dense, Dropout, Flatten, MaxPool1D, Convolution1D\n",
        "from tensorflow.keras.layers import BatchNormalization\n",
        "from tensorflow.keras.callbacks import EarlyStopping, ModelCheckpoint\n",
        "import random"
      ],
      "metadata": {
        "id": "2BmtC0X5nFRE"
      },
      "execution_count": 32,
      "outputs": []
    },
    {
      "cell_type": "code",
      "source": [
        "\n",
        "ytrain = tensorflow.keras.utils.to_categorical(train[187])\n",
        "ytest = tensorflow.keras.utils.to_categorical(test[187])\n",
        "\n",
        "# Input to the model\n",
        "xtrain = train.values[:, :187]\n",
        "xtest = test.values[:, :187]\n",
        "\n",
        "# Adding noise\n",
        "for i in range(xtrain.shape[0]):\n",
        "    xtrain[i, :187] = gaussian_noise(xtrain[i, :187])"
      ],
      "metadata": {
        "id": "6NZusnA_ZArF"
      },
      "execution_count": 33,
      "outputs": []
    },
    {
      "cell_type": "code",
      "source": [
        "xtrain = np.expand_dims(xtrain, 2)\n",
        "xtest = np.expand_dims(xtest, 2)\n",
        "\n",
        "print(\"Shape of training data: \")\n",
        "print(\"Input: \", xtrain.shape)\n",
        "print(\"Output: \", ytrain.shape)\n",
        "\n",
        "print(\"\\nShape of test data: \")\n",
        "print(\"Input: \", xtest.shape)\n",
        "print(\"Output: \", ytest.shape)"
      ],
      "metadata": {
        "colab": {
          "base_uri": "https://localhost:8080/"
        },
        "id": "JIHJrV1sZAoC",
        "outputId": "1344c07f-b12e-4fbe-839f-9e19dcf15aed"
      },
      "execution_count": 34,
      "outputs": [
        {
          "output_type": "stream",
          "name": "stdout",
          "text": [
            "Shape of training data: \n",
            "Input:  (75000, 187, 1)\n",
            "Output:  (75000, 5)\n",
            "\n",
            "Shape of test data: \n",
            "Input:  (21892, 187, 1)\n",
            "Output:  (21892, 5)\n"
          ]
        }
      ]
    },
    {
      "cell_type": "code",
      "source": [
        "model = Sequential()\n",
        "model.add(Conv1D(64, 6, activation = 'relu', input_shape = xtrain[0].shape))\n",
        "model.add(MaxPool1D(3, 2))\n",
        "\n",
        "model.add(Conv1D(64, 6, activation = 'relu'))\n",
        "model.add(MaxPool1D(3, 2))\n",
        "\n",
        "model.add(Conv1D(64, 6, activation = 'relu'))\n",
        "model.add(MaxPool1D(3, 2))\n",
        "\n",
        "model.add(Flatten())\n",
        "\n",
        "model.add(Dense(64, activation = 'relu'))\n",
        "model.add(Dense(32, activation = 'relu'))\n",
        "model.add(Dense(5, activation = 'softmax'))\n",
        "\n",
        "model.compile(optimizer = tensorflow.keras.optimizers.Adam(0.001), loss = 'categorical_crossentropy', metrics = ['accuracy'])\n",
        "model.summary()"
      ],
      "metadata": {
        "colab": {
          "base_uri": "https://localhost:8080/"
        },
        "id": "6wV0Dx_ZZAld",
        "outputId": "7591b3b7-057f-4184-c7e2-43609f562804"
      },
      "execution_count": 35,
      "outputs": [
        {
          "output_type": "stream",
          "name": "stdout",
          "text": [
            "Model: \"sequential_7\"\n",
            "_________________________________________________________________\n",
            " Layer (type)                Output Shape              Param #   \n",
            "=================================================================\n",
            " conv1d (Conv1D)             (None, 182, 64)           448       \n",
            "                                                                 \n",
            " max_pooling1d (MaxPooling1D  (None, 90, 64)           0         \n",
            " )                                                               \n",
            "                                                                 \n",
            " conv1d_1 (Conv1D)           (None, 85, 64)            24640     \n",
            "                                                                 \n",
            " max_pooling1d_1 (MaxPooling  (None, 42, 64)           0         \n",
            " 1D)                                                             \n",
            "                                                                 \n",
            " conv1d_2 (Conv1D)           (None, 37, 64)            24640     \n",
            "                                                                 \n",
            " max_pooling1d_2 (MaxPooling  (None, 18, 64)           0         \n",
            " 1D)                                                             \n",
            "                                                                 \n",
            " flatten_7 (Flatten)         (None, 1152)              0         \n",
            "                                                                 \n",
            " dense_126 (Dense)           (None, 64)                73792     \n",
            "                                                                 \n",
            " dense_127 (Dense)           (None, 32)                2080      \n",
            "                                                                 \n",
            " dense_128 (Dense)           (None, 5)                 165       \n",
            "                                                                 \n",
            "=================================================================\n",
            "Total params: 125,765\n",
            "Trainable params: 125,765\n",
            "Non-trainable params: 0\n",
            "_________________________________________________________________\n"
          ]
        }
      ]
    },
    {
      "cell_type": "code",
      "source": [
        "history = model.fit(xtrain, ytrain, epochs = 8, batch_size = 32, validation_data = (xtest, ytest))\n"
      ],
      "metadata": {
        "colab": {
          "base_uri": "https://localhost:8080/"
        },
        "id": "TR7uH7X0ZR0B",
        "outputId": "ae7ddbce-ff13-4715-a313-f43ede53ebf5"
      },
      "execution_count": 36,
      "outputs": [
        {
          "output_type": "stream",
          "name": "stdout",
          "text": [
            "Epoch 1/8\n",
            "2344/2344 [==============================] - 86s 36ms/step - loss: 0.3651 - accuracy: 0.8683 - val_loss: 0.3874 - val_accuracy: 0.8780\n",
            "Epoch 2/8\n",
            "2344/2344 [==============================] - 92s 39ms/step - loss: 0.1685 - accuracy: 0.9371 - val_loss: 0.3016 - val_accuracy: 0.9080\n",
            "Epoch 3/8\n",
            "2344/2344 [==============================] - 92s 39ms/step - loss: 0.1223 - accuracy: 0.9539 - val_loss: 0.3842 - val_accuracy: 0.8857\n",
            "Epoch 4/8\n",
            "2344/2344 [==============================] - 92s 39ms/step - loss: 0.0985 - accuracy: 0.9636 - val_loss: 0.3877 - val_accuracy: 0.9051\n",
            "Epoch 5/8\n",
            "2344/2344 [==============================] - 91s 39ms/step - loss: 0.0844 - accuracy: 0.9682 - val_loss: 0.3097 - val_accuracy: 0.9170\n",
            "Epoch 6/8\n",
            "2344/2344 [==============================] - 91s 39ms/step - loss: 0.0729 - accuracy: 0.9731 - val_loss: 0.3684 - val_accuracy: 0.9223\n",
            "Epoch 7/8\n",
            "2344/2344 [==============================] - 91s 39ms/step - loss: 0.0650 - accuracy: 0.9761 - val_loss: 0.4212 - val_accuracy: 0.9206\n",
            "Epoch 8/8\n",
            "2344/2344 [==============================] - 91s 39ms/step - loss: 0.0603 - accuracy: 0.9778 - val_loss: 0.5235 - val_accuracy: 0.8875\n"
          ]
        }
      ]
    },
    {
      "cell_type": "code",
      "source": [
        "def plot(history, variable, variable2):\n",
        "    plt.plot(range(len(history[variable])), history[variable])\n",
        "    plt.plot(range(len(history[variable2])), history[variable2])\n",
        "    plt.legend([variable, variable2])\n",
        "    plt.title(variable)"
      ],
      "metadata": {
        "id": "0HhDy_UIZSjp"
      },
      "execution_count": 37,
      "outputs": []
    },
    {
      "cell_type": "code",
      "source": [
        "plot(history.history, \"accuracy\", \"val_accuracy\")"
      ],
      "metadata": {
        "colab": {
          "base_uri": "https://localhost:8080/",
          "height": 281
        },
        "id": "mvL9zo47ZSgp",
        "outputId": "8549a6c2-dca9-4dba-d2ee-89b0fbea3e99"
      },
      "execution_count": 39,
      "outputs": [
        {
          "output_type": "display_data",
          "data": {
            "text/plain": [
              "<Figure size 432x288 with 1 Axes>"
            ],
            "image/png": "[encoded data removed]"
          },
          "metadata": {
            "needs_background": "light"
          }
        }
      ]
    },
    {
      "cell_type": "code",
      "source": [
        "plot(history.history, \"loss\", \"val_loss\")"
      ],
      "metadata": {
        "colab": {
          "base_uri": "https://localhost:8080/",
          "height": 281
        },
        "id": "t5eO4v75ZXKh",
        "outputId": "484b2ff9-2def-4d87-f298-ce18dd63945c"
      },
      "execution_count": 40,
      "outputs": [
        {
          "output_type": "display_data",
          "data": {
            "text/plain": [
              "<Figure size 432x288 with 1 Axes>"
            ],
            "image/png": "[encoded data removed]"
          },
          "metadata": {
            "needs_background": "light"
          }
        }
      ]
    },
    {
      "cell_type": "code",
      "source": [
        "ypred = model.predict(xtest)\n",
        "\n",
        "cm = confusion_matrix(ytest.argmax(axis=1), ypred.argmax(axis=1))\n",
        "cm = cm.astype('float') / cm.sum(axis=1)[:, np.newaxis]\n",
        "\n",
        "for i in range(cm.shape[1]):\n",
        "    for j in range(cm.shape[0]):\n",
        "        plt.text(j, i, format(cm[i, j], '.2f'), horizontalalignment=\"center\", color=\"black\")\n",
        "\n",
        "\n",
        "plt.imshow(cm, cmap=plt.cm.Blues)"
      ],
      "metadata": {
        "colab": {
          "base_uri": "https://localhost:8080/",
          "height": 282
        },
        "id": "LlUe3CDoZZAx",
        "outputId": "f8cfe20c-5cb6-4d8e-a85e-531815b19731"
      },
      "execution_count": 41,
      "outputs": [
        {
          "output_type": "execute_result",
          "data": {
            "text/plain": [
              "<matplotlib.image.AxesImage at 0x7f6754deb510>"
            ]
          },
          "metadata": {},
          "execution_count": 41
        },
        {
          "output_type": "display_data",
          "data": {
            "text/plain": [
              "<Figure size 432x288 with 1 Axes>"
            ],
            "image/png": "[encoded data removed]"
          },
          "metadata": {
            "needs_background": "light"
          }
        }
      ]
    },
    {
      "cell_type": "code",
      "source": [
        "print(\"The distribution of test set labels\")\n",
        "print(test[187].value_counts())\n",
        "\n",
        "print('F1_score = ', f1_score(ytest.argmax(axis=1), ypred.argmax(axis=1), average = 'macro'))"
      ],
      "metadata": {
        "colab": {
          "base_uri": "https://localhost:8080/"
        },
        "id": "aRqjarYdZY9S",
        "outputId": "864c2d64-e028-4dab-88b3-3bde55a7201e"
      },
      "execution_count": 42,
      "outputs": [
        {
          "output_type": "stream",
          "name": "stdout",
          "text": [
            "The distribution of test set labels\n",
            "0.0    18118\n",
            "4.0     1608\n",
            "2.0     1448\n",
            "1.0      556\n",
            "3.0      162\n",
            "Name: 187, dtype: int64\n",
            "F1_score =  0.6782354521384251\n"
          ]
        }
      ]
    },
    {
      "cell_type": "code",
      "source": [
        ""
      ],
      "metadata": {
        "id": "q9950MnHjXM7"
      },
      "execution_count": 42,
      "outputs": []
    }
  ],
  "metadata": {
    "accelerator": "TPU",
    "colab": {
      "name": "MIT-BIH.ipynb",
      "provenance": [],
      "collapsed_sections": []
    },
    "kernelspec": {
      "display_name": "Python 3",
      "name": "python3"
    },
    "language_info": {
      "name": "python"
    }
  },
  "nbformat": 4,
  "nbformat_minor": 0
}