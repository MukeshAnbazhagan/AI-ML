{
  "cells": [
    {
      "cell_type": "code",
      "execution_count": 1,
      "metadata": {
        "colab": {
          "base_uri": "https://localhost:8080/"
        },
        "id": "qD6YcjP0YfBX",
        "outputId": "696e5ba7-0826-421a-eba8-de2d0072b933"
      },
      "outputs": [
        {
          "output_type": "stream",
          "name": "stdout",
          "text": [
            "Mounted at /content/drive\n"
          ]
        }
      ],
      "source": [
        "from google.colab import drive\n",
        "drive.mount('/content/drive')"
      ]
    },
    {
      "cell_type": "code",
      "execution_count": 2,
      "metadata": {
        "id": "pE4hwfnaaCFQ"
      },
      "outputs": [],
      "source": [
        "import numpy as np\n",
        "import pandas as pd\n",
        "import matplotlib.pyplot as plt\n",
        "from sklearn.metrics import f1_score, confusion_matrix\n",
        "from sklearn.utils import resample\n",
        "import tensorflow.keras\n",
        "from tensorflow.keras.models import Sequential\n",
        "from tensorflow.keras.layers import Conv1D, MaxPooling1D, Dense, Dropout, Flatten, MaxPool1D, Convolution1D\n",
        "from tensorflow.keras.layers import BatchNormalization\n",
        "from tensorflow.keras.callbacks import EarlyStopping, ModelCheckpoint\n",
        "import random"
      ]
    },
    {
      "cell_type": "code",
      "execution_count": 3,
      "metadata": {
        "id": "joZpY2r8aMXJ"
      },
      "outputs": [],
      "source": [
        "train = pd.read_csv(\"/content/drive/MyDrive/Colab Notebooks/datafiles/combined_train.csv\", header=None)\n",
        "test = pd.read_csv(\"/content/drive/MyDrive/Colab Notebooks/datafiles/combined_test.csv\", header=None)"
      ]
    },
    {
      "cell_type": "code",
      "execution_count": 4,
      "metadata": {
        "id": "w6rNkEsXaV9G"
      },
      "outputs": [],
      "source": [
        "import numpy as np\n",
        "import pandas as pd\n",
        "from sklearn.metrics import f1_score, confusion_matrix\n",
        "from sklearn.utils import resample\n",
        "import random\n",
        "import matplotlib.pyplot as plt\n",
        "import seaborn as sns\n",
        "train_lbl0 = resample(train[train[187]==0], replace=True, n_samples=15000, random_state=113)\n",
        "train_lbl1 = resample(train[train[187]==1], replace=True, n_samples=15000, random_state=113)\n",
        "train_lbl2 = resample(train[train[187]==2], replace=True, n_samples=15000, random_state=113)\n",
        "train_lbl3 = resample(train[train[187]==3], replace=True, n_samples=15000, random_state=113)\n",
        "train_lbl4 = resample(train[train[187]==4], replace=True, n_samples=15000, random_state=113)\n",
        "train_lbl5 = resample(train[train[187]==5], replace=True, n_samples=15000, random_state=113)\n",
        "train_lbl6 = resample(train[train[187]==6], replace=True, n_samples=15000, random_state=113)"
      ]
    },
    {
      "cell_type": "code",
      "execution_count": 5,
      "metadata": {
        "colab": {
          "base_uri": "https://localhost:8080/"
        },
        "id": "fPoFbVkIaXog",
        "outputId": "6d9b4e2a-63b9-46bc-aaeb-4f0ad15eb74c"
      },
      "outputs": [
        {
          "output_type": "stream",
          "name": "stdout",
          "text": [
            "Count in each label: \n",
            "0    15000\n",
            "1    15000\n",
            "2    15000\n",
            "3    15000\n",
            "4    15000\n",
            "5    15000\n",
            "6    15000\n",
            "Name: 187, dtype: int64\n"
          ]
        }
      ],
      "source": [
        "train= pd.concat([train_lbl0, train_lbl1, train_lbl2, train_lbl3, train_lbl4, train_lbl5, train_lbl6])\n",
        "\n",
        "labels = train[187].astype('int64')   # last column has the labels\n",
        "\n",
        "print(\"Count in each label: \")\n",
        "print(labels.value_counts())"
      ]
    },
    {
      "cell_type": "code",
      "execution_count": 6,
      "metadata": {
        "colab": {
          "base_uri": "https://localhost:8080/"
        },
        "id": "UgW5ORRGaZk5",
        "outputId": "476416aa-8814-48ce-f48f-9b58f74f0ca3"
      },
      "outputs": [
        {
          "output_type": "stream",
          "name": "stdout",
          "text": [
            "For the feature 0, No of Outliers is 14339\n",
            "For the feature 1, No of Outliers is 5324\n",
            "For the feature 2, No of Outliers is 0\n",
            "For the feature 3, No of Outliers is 555\n",
            "For the feature 4, No of Outliers is 6583\n",
            "For the feature 5, No of Outliers is 5258\n",
            "For the feature 6, No of Outliers is 4124\n"
          ]
        }
      ],
      "source": [
        "#Fining the outliers\n",
        "continous_features =   train[187].unique()\n",
        "def outliers(df_out, drop = False):\n",
        "    for each_feature in df_out.columns:\n",
        "        feature_data = df_out[each_feature]\n",
        "        Q1 = np.percentile(feature_data, 25.) # 25th percentile of the data of the given feature\n",
        "        Q3 = np.percentile(feature_data, 75.) # 75th percentile of the data of the given feature\n",
        "        IQR = Q3-Q1 \n",
        "        outlier_step = IQR * 1.5 \n",
        "        outliers = feature_data[~((feature_data >= Q1 - outlier_step) & (feature_data <= Q3 + outlier_step))].index.tolist()  \n",
        "        if not drop:\n",
        "            print('For the feature {}, No of Outliers is {}'.format(each_feature, len(outliers)))\n",
        "        if drop:\n",
        "            train.drop(outliers, inplace = True, errors = 'ignore')\n",
        "            print('Outliers from {} feature removed'.format(each_feature))\n",
        "outliers(train[continous_features])"
      ]
    },
    {
      "cell_type": "code",
      "execution_count": 7,
      "metadata": {
        "colab": {
          "base_uri": "https://localhost:8080/"
        },
        "id": "-lxRDE0wabTc",
        "outputId": "6febdadb-105f-40b9-cfdd-b3a691af2b9d"
      },
      "outputs": [
        {
          "output_type": "stream",
          "name": "stdout",
          "text": [
            "Outliers from 0 feature removed\n",
            "Outliers from 1 feature removed\n",
            "Outliers from 2 feature removed\n",
            "Outliers from 3 feature removed\n",
            "Outliers from 4 feature removed\n",
            "Outliers from 5 feature removed\n",
            "Outliers from 6 feature removed\n"
          ]
        }
      ],
      "source": [
        "#Removing the outliers\n",
        "outliers(train[continous_features], drop=True)"
      ]
    },
    {
      "cell_type": "code",
      "execution_count": 8,
      "metadata": {
        "colab": {
          "base_uri": "https://localhost:8080/"
        },
        "id": "QORck6okadOd",
        "outputId": "b5058812-77aa-4420-f2d3-94052afd4b34"
      },
      "outputs": [
        {
          "output_type": "stream",
          "name": "stdout",
          "text": [
            "For the feature 0, No of Outliers is 3220\n",
            "For the feature 1, No of Outliers is 1306\n",
            "For the feature 2, No of Outliers is 0\n",
            "For the feature 3, No of Outliers is 708\n",
            "For the feature 4, No of Outliers is 1983\n",
            "For the feature 5, No of Outliers is 1256\n",
            "For the feature 6, No of Outliers is 943\n"
          ]
        }
      ],
      "source": [
        "#Fining the outliers\n",
        "continous_features =   test[187].unique()\n",
        "def outliers(df_out, drop = False):\n",
        "    for each_feature in df_out.columns:\n",
        "        feature_data = df_out[each_feature]\n",
        "        Q1 = np.percentile(feature_data, 25.) # 25th percentile of the data of the given feature\n",
        "        Q3 = np.percentile(feature_data, 75.) # 75th percentile of the data of the given feature\n",
        "        IQR = Q3-Q1 \n",
        "        outlier_step = IQR * 1.5 \n",
        "        outliers = feature_data[~((feature_data >= Q1 - outlier_step) & (feature_data <= Q3 + outlier_step))].index.tolist()  \n",
        "        if not drop:\n",
        "            print('For the feature {}, No of Outliers is {}'.format(each_feature, len(outliers)))\n",
        "        if drop:\n",
        "            test.drop(outliers, inplace = True, errors = 'ignore')\n",
        "            print('Outliers from {} feature removed'.format(each_feature))\n",
        "outliers(test[continous_features])"
      ]
    },
    {
      "cell_type": "code",
      "execution_count": 9,
      "metadata": {
        "colab": {
          "base_uri": "https://localhost:8080/"
        },
        "id": "gu6T2xLTafTj",
        "outputId": "d2e3b28a-4290-42c3-bd8c-e8e566fa7acf"
      },
      "outputs": [
        {
          "output_type": "stream",
          "name": "stdout",
          "text": [
            "Outliers from 0 feature removed\n",
            "Outliers from 1 feature removed\n",
            "Outliers from 2 feature removed\n",
            "Outliers from 3 feature removed\n",
            "Outliers from 4 feature removed\n",
            "Outliers from 5 feature removed\n",
            "Outliers from 6 feature removed\n"
          ]
        }
      ],
      "source": [
        "#Removing the outliers\n",
        "outliers(test[continous_features], drop=True)"
      ]
    },
    {
      "cell_type": "code",
      "execution_count": 10,
      "metadata": {
        "id": "xY9sYsItahYA"
      },
      "outputs": [],
      "source": [
        "#Feature Scaling for train and test data\n",
        "x_train = train.iloc[:, :-1].values\n",
        "y_train = train.iloc[:, -1].values\n",
        "\n",
        "x_test = test.iloc[:, :-1].values\n",
        "y_test = test.iloc[:, -1].values"
      ]
    },
    {
      "cell_type": "markdown",
      "metadata": {
        "id": "cXZh4cn2a2cO"
      },
      "source": [
        "#**Random Forest Classifier**"
      ]
    },
    {
      "cell_type": "code",
      "execution_count": 11,
      "metadata": {
        "colab": {
          "base_uri": "https://localhost:8080/"
        },
        "id": "0K7omtuFaoGY",
        "outputId": "ba64bee8-d31d-4080-cf9e-1273b043d36a"
      },
      "outputs": [
        {
          "output_type": "execute_result",
          "data": {
            "text/plain": [
              "RandomForestClassifier(criterion='entropy', n_estimators=15, random_state=0)"
            ]
          },
          "metadata": {},
          "execution_count": 11
        }
      ],
      "source": [
        "#Random Forest\n",
        "from sklearn.ensemble import RandomForestClassifier\n",
        "RFC = RandomForestClassifier(n_estimators = 15, criterion = 'entropy', random_state = 0)\n",
        "RFC.fit(x_train, y_train)    "
      ]
    },
    {
      "cell_type": "code",
      "execution_count": 12,
      "metadata": {
        "id": "g3SfOOkra9Ci"
      },
      "outputs": [],
      "source": [
        "pred_RFC = RFC.predict(x_test)"
      ]
    },
    {
      "cell_type": "code",
      "execution_count": 13,
      "metadata": {
        "colab": {
          "base_uri": "https://localhost:8080/"
        },
        "id": "vyi7B-tRa-mN",
        "outputId": "f10d43d5-9c74-40b7-fe50-a83041186622"
      },
      "outputs": [
        {
          "output_type": "stream",
          "name": "stdout",
          "text": [
            "[[15297   117    43    24    17   407   132]\n",
            " [   88   368     0     0     1    17     1]\n",
            " [   34     0   350    13     2    22     1]\n",
            " [   17     0    10    96     0     1     0]\n",
            " [   20     2     2     0   281     7     0]\n",
            " [  156     3     8     1     2  1940    43]\n",
            " [   35     0     0     0     0    40   924]]\n",
            "Accuarcy of the model 0.9383101062274632\n",
            "              precision    recall  f1-score   support\n",
            "\n",
            "         0.0       0.98      0.95      0.97     16037\n",
            "         1.0       0.75      0.77      0.76       475\n",
            "         2.0       0.85      0.83      0.84       422\n",
            "         3.0       0.72      0.77      0.74       124\n",
            "         4.0       0.93      0.90      0.91       312\n",
            "         5.0       0.80      0.90      0.85      2153\n",
            "         6.0       0.84      0.92      0.88       999\n",
            "\n",
            "    accuracy                           0.94     20522\n",
            "   macro avg       0.84      0.87      0.85     20522\n",
            "weighted avg       0.94      0.94      0.94     20522\n",
            "\n"
          ]
        }
      ],
      "source": [
        "from sklearn.metrics import confusion_matrix, accuracy_score\n",
        "from sklearn.metrics import classification_report\n",
        "\n",
        "cm_RFC = confusion_matrix(y_test, pred_RFC)\n",
        "print(cm_RFC)\n",
        "a_RFC = accuracy_score(y_test, pred_RFC)\n",
        "print(\"Accuarcy of the model\",a_RFC)\n",
        "print(classification_report(y_test, pred_RFC))"
      ]
    },
    {
      "cell_type": "markdown",
      "metadata": {
        "id": "1ThLBNoXbBuA"
      },
      "source": [
        "#**KNeighbors Classificatin**"
      ]
    },
    {
      "cell_type": "code",
      "execution_count": 14,
      "metadata": {
        "colab": {
          "base_uri": "https://localhost:8080/"
        },
        "id": "No-FW90kbAAW",
        "outputId": "ec658fc1-8c13-419f-ec74-99c90ecf835d"
      },
      "outputs": [
        {
          "output_type": "execute_result",
          "data": {
            "text/plain": [
              "KNeighborsClassifier(n_neighbors=15)"
            ]
          },
          "metadata": {},
          "execution_count": 14
        }
      ],
      "source": [
        "#Kneighbors\n",
        "from sklearn.neighbors import KNeighborsClassifier\n",
        "KNN = KNeighborsClassifier(n_neighbors = 15, metric = 'minkowski', p = 2)\n",
        "KNN.fit(x_train, y_train)    "
      ]
    },
    {
      "cell_type": "code",
      "execution_count": 15,
      "metadata": {
        "id": "p76WDETPbIYa"
      },
      "outputs": [],
      "source": [
        "pred_KNN = KNN.predict(x_test)"
      ]
    },
    {
      "cell_type": "code",
      "execution_count": 16,
      "metadata": {
        "colab": {
          "base_uri": "https://localhost:8080/"
        },
        "id": "bQMwyr7MbJxI",
        "outputId": "e7635221-6bab-47db-c797-4fa1a6f54a7f"
      },
      "outputs": [
        {
          "output_type": "stream",
          "name": "stdout",
          "text": [
            "[[13060  1111   133   433    44   508   748]\n",
            " [   38   400     8     6     1    11    11]\n",
            " [   15    17   342    34     0     8     6]\n",
            " [    5     2     4   111     0     1     1]\n",
            " [   18    11     6     2   273     2     0]\n",
            " [  117    83    14     7     3  1648   281]\n",
            " [   30     6     0     0     0    38   925]]\n",
            "Accuarcy of the model 0.8166358054770491\n",
            "              precision    recall  f1-score   support\n",
            "\n",
            "         0.0       0.98      0.81      0.89     16037\n",
            "         1.0       0.25      0.84      0.38       475\n",
            "         2.0       0.67      0.81      0.74       422\n",
            "         3.0       0.19      0.90      0.31       124\n",
            "         4.0       0.85      0.88      0.86       312\n",
            "         5.0       0.74      0.77      0.75      2153\n",
            "         6.0       0.47      0.93      0.62       999\n",
            "\n",
            "    accuracy                           0.82     20522\n",
            "   macro avg       0.59      0.85      0.65     20522\n",
            "weighted avg       0.90      0.82      0.84     20522\n",
            "\n"
          ]
        }
      ],
      "source": [
        "from sklearn.metrics import confusion_matrix, accuracy_score\n",
        "from sklearn.metrics import classification_report\n",
        "\n",
        "cm_KNN = confusion_matrix(y_test, pred_KNN)\n",
        "print(cm_KNN)\n",
        "a_KNN = accuracy_score(y_test, pred_KNN)\n",
        "print(\"Accuarcy of the model\",a_KNN)\n",
        "print(classification_report(y_test, pred_KNN))"
      ]
    },
    {
      "cell_type": "markdown",
      "metadata": {
        "id": "ZrFGsvOzbNLA"
      },
      "source": [
        "#**Support Vector Machine**"
      ]
    },
    {
      "cell_type": "code",
      "execution_count": 17,
      "metadata": {
        "colab": {
          "base_uri": "https://localhost:8080/"
        },
        "id": "UG-mOpr3bLHE",
        "outputId": "ca0225a5-28d2-4d34-bde1-3229b12474ad"
      },
      "outputs": [
        {
          "output_type": "execute_result",
          "data": {
            "text/plain": [
              "SVC(kernel='poly', probability=True)"
            ]
          },
          "metadata": {},
          "execution_count": 17
        }
      ],
      "source": [
        "#Training the SVM model \n",
        "from sklearn.svm import SVC\n",
        "SVM = SVC(kernel = 'poly', degree=3, probability=True)\n",
        "SVM.fit(x_train, y_train)"
      ]
    },
    {
      "cell_type": "code",
      "execution_count": 18,
      "metadata": {
        "id": "6y4p4ymQbr8L"
      },
      "outputs": [],
      "source": [
        "pred_SVM = SVM.predict(x_test)"
      ]
    },
    {
      "cell_type": "code",
      "execution_count": 19,
      "metadata": {
        "colab": {
          "base_uri": "https://localhost:8080/"
        },
        "id": "5Kh6EdNNbtOj",
        "outputId": "58f1b29f-4910-4c14-e830-79983c66d7e1"
      },
      "outputs": [
        {
          "output_type": "stream",
          "name": "stdout",
          "text": [
            "[[12853   603   134   658    34  1086   669]\n",
            " [   58   390     6     4     0    12     5]\n",
            " [   15     7   344    47     1     7     1]\n",
            " [    4     2     0   118     0     0     0]\n",
            " [   23     4     3     2   278     2     0]\n",
            " [  168    28    34     3     5  1679   236]\n",
            " [   31     0     3     0     0    42   923]]\n",
            "Accuarcy of the model 0.8081570996978852\n",
            "              precision    recall  f1-score   support\n",
            "\n",
            "         0.0       0.98      0.80      0.88     16037\n",
            "         1.0       0.38      0.82      0.52       475\n",
            "         2.0       0.66      0.82      0.73       422\n",
            "         3.0       0.14      0.95      0.25       124\n",
            "         4.0       0.87      0.89      0.88       312\n",
            "         5.0       0.59      0.78      0.67      2153\n",
            "         6.0       0.50      0.92      0.65       999\n",
            "\n",
            "    accuracy                           0.81     20522\n",
            "   macro avg       0.59      0.85      0.65     20522\n",
            "weighted avg       0.89      0.81      0.83     20522\n",
            "\n"
          ]
        }
      ],
      "source": [
        "from sklearn.metrics import confusion_matrix, accuracy_score\n",
        "from sklearn.metrics import classification_report\n",
        "\n",
        "cm_SVM = confusion_matrix(y_test, pred_SVM)\n",
        "print(cm_SVM)\n",
        "a_SVM = accuracy_score(y_test, pred_SVM)\n",
        "print(\"Accuarcy of the model\",a_SVM)\n",
        "print(classification_report(y_test, pred_SVM))"
      ]
    },
    {
      "cell_type": "markdown",
      "metadata": {
        "id": "X0haT4T_bvc7"
      },
      "source": [
        "#**Voting Classifier**"
      ]
    },
    {
      "cell_type": "code",
      "execution_count": 20,
      "metadata": {
        "colab": {
          "base_uri": "https://localhost:8080/"
        },
        "id": "oHCOxfHmbujz",
        "outputId": "f43df8e3-0c18-47ad-ab54-d94072138b65"
      },
      "outputs": [
        {
          "output_type": "execute_result",
          "data": {
            "text/plain": [
              "0.9030308936750804"
            ]
          },
          "metadata": {},
          "execution_count": 20
        }
      ],
      "source": [
        "\n",
        "#Training voting classifier\n",
        "from sklearn.ensemble import VotingClassifier\n",
        "\n",
        "model = VotingClassifier(estimators=[('svm', SVM), ('knn', KNN), ('rfc', RFC)])\n",
        "model.fit(x_train, y_train)\n",
        "\n",
        "#Predicting the score\n",
        "model.score(x_test, y_test)"
      ]
    },
    {
      "cell_type": "markdown",
      "metadata": {
        "id": "dcSqcOR9cnW1"
      },
      "source": [
        "#**XGBoost**"
      ]
    },
    {
      "cell_type": "code",
      "execution_count": 21,
      "metadata": {
        "colab": {
          "base_uri": "https://localhost:8080/"
        },
        "id": "3XzAFkcCb7Hv",
        "outputId": "5e96fdfb-747d-4fb0-edec-117ab6fe7c9a"
      },
      "outputs": [
        {
          "output_type": "stream",
          "name": "stdout",
          "text": [
            "[0]\tvalidation_0-merror:0.362067\tvalidation_0-mlogloss:1.8057\tvalidation_1-merror:0.519101\tvalidation_1-mlogloss:1.88212\n",
            "[1]\tvalidation_0-merror:0.320645\tvalidation_0-mlogloss:1.6938\tvalidation_1-merror:0.490254\tvalidation_1-mlogloss:1.81951\n",
            "[2]\tvalidation_0-merror:0.315847\tvalidation_0-mlogloss:1.6012\tvalidation_1-merror:0.491473\tvalidation_1-mlogloss:1.76553\n",
            "[3]\tvalidation_0-merror:0.311585\tvalidation_0-mlogloss:1.52312\tvalidation_1-merror:0.500536\tvalidation_1-mlogloss:1.72014\n",
            "[4]\tvalidation_0-merror:0.295178\tvalidation_0-mlogloss:1.45038\tvalidation_1-merror:0.46053\tvalidation_1-mlogloss:1.67451\n",
            "[5]\tvalidation_0-merror:0.288701\tvalidation_0-mlogloss:1.3891\tvalidation_1-merror:0.459507\tvalidation_1-mlogloss:1.63634\n",
            "[6]\tvalidation_0-merror:0.28095\tvalidation_0-mlogloss:1.3312\tvalidation_1-merror:0.454731\tvalidation_1-mlogloss:1.59841\n",
            "[7]\tvalidation_0-merror:0.277866\tvalidation_0-mlogloss:1.28313\tvalidation_1-merror:0.455511\tvalidation_1-mlogloss:1.56629\n",
            "[8]\tvalidation_0-merror:0.269699\tvalidation_0-mlogloss:1.23701\tvalidation_1-merror:0.462089\tvalidation_1-mlogloss:1.53622\n",
            "[9]\tvalidation_0-merror:0.26852\tvalidation_0-mlogloss:1.19656\tvalidation_1-merror:0.457655\tvalidation_1-mlogloss:1.5065\n",
            "[10]\tvalidation_0-merror:0.266734\tvalidation_0-mlogloss:1.15845\tvalidation_1-merror:0.445863\tvalidation_1-mlogloss:1.47803\n",
            "[11]\tvalidation_0-merror:0.265186\tvalidation_0-mlogloss:1.12485\tvalidation_1-merror:0.446253\tvalidation_1-mlogloss:1.45386\n",
            "[12]\tvalidation_0-merror:0.260995\tvalidation_0-mlogloss:1.09341\tvalidation_1-merror:0.438456\tvalidation_1-mlogloss:1.4286\n",
            "[13]\tvalidation_0-merror:0.259245\tvalidation_0-mlogloss:1.0642\tvalidation_1-merror:0.427931\tvalidation_1-mlogloss:1.40552\n",
            "[14]\tvalidation_0-merror:0.255673\tvalidation_0-mlogloss:1.03753\tvalidation_1-merror:0.419355\tvalidation_1-mlogloss:1.38181\n",
            "[15]\tvalidation_0-merror:0.253006\tvalidation_0-mlogloss:1.01349\tvalidation_1-merror:0.414579\tvalidation_1-mlogloss:1.36194\n",
            "[16]\tvalidation_0-merror:0.250732\tvalidation_0-mlogloss:0.98924\tvalidation_1-merror:0.415603\tvalidation_1-mlogloss:1.34065\n",
            "[17]\tvalidation_0-merror:0.246506\tvalidation_0-mlogloss:0.968004\tvalidation_1-merror:0.410194\tvalidation_1-mlogloss:1.32313\n",
            "[18]\tvalidation_0-merror:0.245351\tvalidation_0-mlogloss:0.947722\tvalidation_1-merror:0.407027\tvalidation_1-mlogloss:1.30506\n",
            "[19]\tvalidation_0-merror:0.242969\tvalidation_0-mlogloss:0.929456\tvalidation_1-merror:0.404493\tvalidation_1-mlogloss:1.28902\n",
            "[20]\tvalidation_0-merror:0.241648\tvalidation_0-mlogloss:0.912123\tvalidation_1-merror:0.401569\tvalidation_1-mlogloss:1.27145\n",
            "[21]\tvalidation_0-merror:0.238897\tvalidation_0-mlogloss:0.895443\tvalidation_1-merror:0.401374\tvalidation_1-mlogloss:1.25596\n",
            "[22]\tvalidation_0-merror:0.237969\tvalidation_0-mlogloss:0.879727\tvalidation_1-merror:0.399766\tvalidation_1-mlogloss:1.242\n",
            "[23]\tvalidation_0-merror:0.235683\tvalidation_0-mlogloss:0.863995\tvalidation_1-merror:0.397378\tvalidation_1-mlogloss:1.22661\n",
            "[24]\tvalidation_0-merror:0.232956\tvalidation_0-mlogloss:0.84928\tvalidation_1-merror:0.394893\tvalidation_1-mlogloss:1.21249\n",
            "[25]\tvalidation_0-merror:0.231504\tvalidation_0-mlogloss:0.836234\tvalidation_1-merror:0.396014\tvalidation_1-mlogloss:1.20026\n",
            "[26]\tvalidation_0-merror:0.229885\tvalidation_0-mlogloss:0.823849\tvalidation_1-merror:0.394845\tvalidation_1-mlogloss:1.18916\n",
            "[27]\tvalidation_0-merror:0.228718\tvalidation_0-mlogloss:0.811728\tvalidation_1-merror:0.395137\tvalidation_1-mlogloss:1.1772\n",
            "[28]\tvalidation_0-merror:0.227837\tvalidation_0-mlogloss:0.801292\tvalidation_1-merror:0.392749\tvalidation_1-mlogloss:1.16602\n",
            "[29]\tvalidation_0-merror:0.22536\tvalidation_0-mlogloss:0.789885\tvalidation_1-merror:0.386609\tvalidation_1-mlogloss:1.1542\n",
            "[30]\tvalidation_0-merror:0.223681\tvalidation_0-mlogloss:0.780094\tvalidation_1-merror:0.386561\tvalidation_1-mlogloss:1.14557\n",
            "[31]\tvalidation_0-merror:0.222491\tvalidation_0-mlogloss:0.770026\tvalidation_1-merror:0.384612\tvalidation_1-mlogloss:1.13506\n",
            "[32]\tvalidation_0-merror:0.221586\tvalidation_0-mlogloss:0.760622\tvalidation_1-merror:0.383929\tvalidation_1-mlogloss:1.12585\n",
            "[33]\tvalidation_0-merror:0.220931\tvalidation_0-mlogloss:0.752203\tvalidation_1-merror:0.379934\tvalidation_1-mlogloss:1.11672\n",
            "[34]\tvalidation_0-merror:0.219395\tvalidation_0-mlogloss:0.743697\tvalidation_1-merror:0.377205\tvalidation_1-mlogloss:1.1065\n",
            "[35]\tvalidation_0-merror:0.219526\tvalidation_0-mlogloss:0.73673\tvalidation_1-merror:0.375889\tvalidation_1-mlogloss:1.09823\n",
            "[36]\tvalidation_0-merror:0.21774\tvalidation_0-mlogloss:0.728659\tvalidation_1-merror:0.374769\tvalidation_1-mlogloss:1.09075\n",
            "[37]\tvalidation_0-merror:0.21749\tvalidation_0-mlogloss:0.721306\tvalidation_1-merror:0.373648\tvalidation_1-mlogloss:1.08137\n",
            "[38]\tvalidation_0-merror:0.216621\tvalidation_0-mlogloss:0.714678\tvalidation_1-merror:0.37204\tvalidation_1-mlogloss:1.07385\n",
            "[39]\tvalidation_0-merror:0.215597\tvalidation_0-mlogloss:0.708255\tvalidation_1-merror:0.371601\tvalidation_1-mlogloss:1.06703\n",
            "[40]\tvalidation_0-merror:0.214633\tvalidation_0-mlogloss:0.701963\tvalidation_1-merror:0.368921\tvalidation_1-mlogloss:1.05938\n",
            "[41]\tvalidation_0-merror:0.212942\tvalidation_0-mlogloss:0.695302\tvalidation_1-merror:0.369165\tvalidation_1-mlogloss:1.05218\n",
            "[42]\tvalidation_0-merror:0.211716\tvalidation_0-mlogloss:0.689009\tvalidation_1-merror:0.365413\tvalidation_1-mlogloss:1.04526\n",
            "[43]\tvalidation_0-merror:0.21012\tvalidation_0-mlogloss:0.682773\tvalidation_1-merror:0.364146\tvalidation_1-mlogloss:1.03817\n",
            "[44]\tvalidation_0-merror:0.209739\tvalidation_0-mlogloss:0.677014\tvalidation_1-merror:0.363317\tvalidation_1-mlogloss:1.03171\n",
            "[45]\tvalidation_0-merror:0.208346\tvalidation_0-mlogloss:0.671436\tvalidation_1-merror:0.36205\tvalidation_1-mlogloss:1.02654\n",
            "[46]\tvalidation_0-merror:0.207334\tvalidation_0-mlogloss:0.665423\tvalidation_1-merror:0.360199\tvalidation_1-mlogloss:1.01964\n",
            "[47]\tvalidation_0-merror:0.206144\tvalidation_0-mlogloss:0.660505\tvalidation_1-merror:0.358786\tvalidation_1-mlogloss:1.01407\n",
            "[48]\tvalidation_0-merror:0.204774\tvalidation_0-mlogloss:0.655287\tvalidation_1-merror:0.35479\tvalidation_1-mlogloss:1.00666\n",
            "[49]\tvalidation_0-merror:0.203465\tvalidation_0-mlogloss:0.649999\tvalidation_1-merror:0.353864\tvalidation_1-mlogloss:0.999921\n",
            "[50]\tvalidation_0-merror:0.201119\tvalidation_0-mlogloss:0.644359\tvalidation_1-merror:0.351818\tvalidation_1-mlogloss:0.993909\n",
            "[51]\tvalidation_0-merror:0.200262\tvalidation_0-mlogloss:0.63968\tvalidation_1-merror:0.351038\tvalidation_1-mlogloss:0.989568\n",
            "[52]\tvalidation_0-merror:0.19875\tvalidation_0-mlogloss:0.633763\tvalidation_1-merror:0.348699\tvalidation_1-mlogloss:0.982173\n",
            "[53]\tvalidation_0-merror:0.197916\tvalidation_0-mlogloss:0.629285\tvalidation_1-merror:0.347432\tvalidation_1-mlogloss:0.976314\n",
            "[54]\tvalidation_0-merror:0.196119\tvalidation_0-mlogloss:0.624767\tvalidation_1-merror:0.346068\tvalidation_1-mlogloss:0.971959\n",
            "[55]\tvalidation_0-merror:0.194976\tvalidation_0-mlogloss:0.62015\tvalidation_1-merror:0.343095\tvalidation_1-mlogloss:0.966727\n",
            "[56]\tvalidation_0-merror:0.193571\tvalidation_0-mlogloss:0.615911\tvalidation_1-merror:0.339928\tvalidation_1-mlogloss:0.961483\n",
            "[57]\tvalidation_0-merror:0.192154\tvalidation_0-mlogloss:0.612399\tvalidation_1-merror:0.338856\tvalidation_1-mlogloss:0.956782\n",
            "[58]\tvalidation_0-merror:0.191618\tvalidation_0-mlogloss:0.607894\tvalidation_1-merror:0.337004\tvalidation_1-mlogloss:0.951543\n",
            "[59]\tvalidation_0-merror:0.190165\tvalidation_0-mlogloss:0.603818\tvalidation_1-merror:0.33525\tvalidation_1-mlogloss:0.947181\n",
            "[60]\tvalidation_0-merror:0.189118\tvalidation_0-mlogloss:0.599825\tvalidation_1-merror:0.333008\tvalidation_1-mlogloss:0.942929\n",
            "[61]\tvalidation_0-merror:0.187808\tvalidation_0-mlogloss:0.595618\tvalidation_1-merror:0.330377\tvalidation_1-mlogloss:0.937651\n",
            "[62]\tvalidation_0-merror:0.187308\tvalidation_0-mlogloss:0.591696\tvalidation_1-merror:0.329549\tvalidation_1-mlogloss:0.933755\n",
            "[63]\tvalidation_0-merror:0.185784\tvalidation_0-mlogloss:0.587748\tvalidation_1-merror:0.327843\tvalidation_1-mlogloss:0.92927\n",
            "[64]\tvalidation_0-merror:0.184546\tvalidation_0-mlogloss:0.58358\tvalidation_1-merror:0.326625\tvalidation_1-mlogloss:0.924426\n",
            "[65]\tvalidation_0-merror:0.182807\tvalidation_0-mlogloss:0.580189\tvalidation_1-merror:0.324189\tvalidation_1-mlogloss:0.919972\n",
            "[66]\tvalidation_0-merror:0.181807\tvalidation_0-mlogloss:0.576621\tvalidation_1-merror:0.32146\tvalidation_1-mlogloss:0.916283\n",
            "[67]\tvalidation_0-merror:0.180295\tvalidation_0-mlogloss:0.572274\tvalidation_1-merror:0.319657\tvalidation_1-mlogloss:0.911495\n",
            "[68]\tvalidation_0-merror:0.178831\tvalidation_0-mlogloss:0.569465\tvalidation_1-merror:0.31917\tvalidation_1-mlogloss:0.908175\n",
            "[69]\tvalidation_0-merror:0.178021\tvalidation_0-mlogloss:0.565687\tvalidation_1-merror:0.316831\tvalidation_1-mlogloss:0.903905\n",
            "[70]\tvalidation_0-merror:0.177283\tvalidation_0-mlogloss:0.562261\tvalidation_1-merror:0.315125\tvalidation_1-mlogloss:0.899828\n",
            "[71]\tvalidation_0-merror:0.176628\tvalidation_0-mlogloss:0.55888\tvalidation_1-merror:0.314735\tvalidation_1-mlogloss:0.895997\n",
            "[72]\tvalidation_0-merror:0.175402\tvalidation_0-mlogloss:0.555504\tvalidation_1-merror:0.313907\tvalidation_1-mlogloss:0.891932\n",
            "[73]\tvalidation_0-merror:0.174664\tvalidation_0-mlogloss:0.552819\tvalidation_1-merror:0.312202\tvalidation_1-mlogloss:0.88818\n",
            "[74]\tvalidation_0-merror:0.173735\tvalidation_0-mlogloss:0.549812\tvalidation_1-merror:0.310301\tvalidation_1-mlogloss:0.884797\n",
            "[75]\tvalidation_0-merror:0.172318\tvalidation_0-mlogloss:0.546674\tvalidation_1-merror:0.308157\tvalidation_1-mlogloss:0.880692\n",
            "[76]\tvalidation_0-merror:0.171556\tvalidation_0-mlogloss:0.543165\tvalidation_1-merror:0.307183\tvalidation_1-mlogloss:0.876713\n",
            "[77]\tvalidation_0-merror:0.170627\tvalidation_0-mlogloss:0.539534\tvalidation_1-merror:0.305477\tvalidation_1-mlogloss:0.871951\n",
            "[78]\tvalidation_0-merror:0.169806\tvalidation_0-mlogloss:0.536663\tvalidation_1-merror:0.304161\tvalidation_1-mlogloss:0.868772\n",
            "[79]\tvalidation_0-merror:0.168853\tvalidation_0-mlogloss:0.533945\tvalidation_1-merror:0.301822\tvalidation_1-mlogloss:0.865681\n",
            "[80]\tvalidation_0-merror:0.168603\tvalidation_0-mlogloss:0.531976\tvalidation_1-merror:0.301335\tvalidation_1-mlogloss:0.863783\n",
            "[81]\tvalidation_0-merror:0.166484\tvalidation_0-mlogloss:0.528383\tvalidation_1-merror:0.300068\tvalidation_1-mlogloss:0.860425\n",
            "[82]\tvalidation_0-merror:0.165317\tvalidation_0-mlogloss:0.52521\tvalidation_1-merror:0.297096\tvalidation_1-mlogloss:0.855967\n",
            "[83]\tvalidation_0-merror:0.16446\tvalidation_0-mlogloss:0.522493\tvalidation_1-merror:0.297242\tvalidation_1-mlogloss:0.852588\n",
            "[84]\tvalidation_0-merror:0.163746\tvalidation_0-mlogloss:0.520025\tvalidation_1-merror:0.296219\tvalidation_1-mlogloss:0.850214\n",
            "[85]\tvalidation_0-merror:0.162174\tvalidation_0-mlogloss:0.516869\tvalidation_1-merror:0.294806\tvalidation_1-mlogloss:0.846688\n",
            "[86]\tvalidation_0-merror:0.161662\tvalidation_0-mlogloss:0.514456\tvalidation_1-merror:0.294221\tvalidation_1-mlogloss:0.843619\n",
            "[87]\tvalidation_0-merror:0.160912\tvalidation_0-mlogloss:0.512013\tvalidation_1-merror:0.292564\tvalidation_1-mlogloss:0.84048\n",
            "[88]\tvalidation_0-merror:0.16021\tvalidation_0-mlogloss:0.509883\tvalidation_1-merror:0.291395\tvalidation_1-mlogloss:0.837952\n",
            "[89]\tvalidation_0-merror:0.158888\tvalidation_0-mlogloss:0.507263\tvalidation_1-merror:0.290225\tvalidation_1-mlogloss:0.835165\n",
            "[90]\tvalidation_0-merror:0.156959\tvalidation_0-mlogloss:0.504412\tvalidation_1-merror:0.289592\tvalidation_1-mlogloss:0.832146\n",
            "[91]\tvalidation_0-merror:0.15709\tvalidation_0-mlogloss:0.502026\tvalidation_1-merror:0.28735\tvalidation_1-mlogloss:0.828166\n",
            "[92]\tvalidation_0-merror:0.154971\tvalidation_0-mlogloss:0.498764\tvalidation_1-merror:0.28545\tvalidation_1-mlogloss:0.824427\n",
            "[93]\tvalidation_0-merror:0.153971\tvalidation_0-mlogloss:0.496104\tvalidation_1-merror:0.285011\tvalidation_1-mlogloss:0.821199\n",
            "[94]\tvalidation_0-merror:0.152697\tvalidation_0-mlogloss:0.494076\tvalidation_1-merror:0.284719\tvalidation_1-mlogloss:0.818749\n",
            "[95]\tvalidation_0-merror:0.152221\tvalidation_0-mlogloss:0.492064\tvalidation_1-merror:0.283696\tvalidation_1-mlogloss:0.816531\n",
            "[96]\tvalidation_0-merror:0.151542\tvalidation_0-mlogloss:0.489551\tvalidation_1-merror:0.281698\tvalidation_1-mlogloss:0.813484\n",
            "[97]\tvalidation_0-merror:0.150435\tvalidation_0-mlogloss:0.487425\tvalidation_1-merror:0.281308\tvalidation_1-mlogloss:0.811051\n",
            "[98]\tvalidation_0-merror:0.149494\tvalidation_0-mlogloss:0.484922\tvalidation_1-merror:0.279407\tvalidation_1-mlogloss:0.807572\n",
            "[99]\tvalidation_0-merror:0.149196\tvalidation_0-mlogloss:0.483249\tvalidation_1-merror:0.278774\tvalidation_1-mlogloss:0.806181\n"
          ]
        }
      ],
      "source": [
        "from numpy import loadtxt\n",
        "from xgboost import XGBClassifier\n",
        "from sklearn.model_selection import train_test_split\n",
        "from sklearn.metrics import accuracy_score\n",
        "from matplotlib import pyplot\n",
        "\n",
        "# fit model on training data\n",
        "model = XGBClassifier()\n",
        "eval_set = [(x_train, y_train), (x_test, y_test)]\n",
        "model.fit(x_train, y_train, eval_metric=[\"merror\", \"mlogloss\"], eval_set=eval_set,verbose=True)\n",
        "\n",
        "# make predictions for test data\n",
        "predictions = model.predict(x_test)\n",
        "\n",
        "# evaluate predictions\n",
        "accuracy = accuracy_score(y_test, predictions)\n",
        "\n",
        "# retrieve performance metrics\n",
        "results = model.evals_result()\n",
        "epochs = len(results['validation_0']['merror'])\n",
        "x_axis = range(0, epochs)"
      ]
    },
    {
      "cell_type": "code",
      "execution_count": 22,
      "metadata": {
        "colab": {
          "base_uri": "https://localhost:8080/",
          "height": 281
        },
        "id": "YSnOXHkKc1bx",
        "outputId": "988d4757-095b-421c-af18-ee0b9f43f8be"
      },
      "outputs": [
        {
          "output_type": "display_data",
          "data": {
            "text/plain": [
              "<Figure size 432x288 with 1 Axes>"
            ],
            "image/png": "[encoded data removed]"
          },
          "metadata": {
            "needs_background": "light"
          }
        }
      ],
      "source": [
        "# plot log loss\n",
        "fig, ax = pyplot.subplots()\n",
        "ax.plot(x_axis, results['validation_0']['mlogloss'], label='Train')\n",
        "ax.plot(x_axis, results['validation_1']['mlogloss'], label='Test')\n",
        "ax.legend()\n",
        "pyplot.ylabel('Log Loss')\n",
        "pyplot.title('XGBoost Log Loss')\n",
        "pyplot.show()"
      ]
    },
    {
      "cell_type": "code",
      "execution_count": 23,
      "metadata": {
        "colab": {
          "base_uri": "https://localhost:8080/",
          "height": 281
        },
        "id": "V4KKr5olc2wQ",
        "outputId": "e275e52d-229d-427c-b260-8a215957e9ec"
      },
      "outputs": [
        {
          "output_type": "display_data",
          "data": {
            "text/plain": [
              "<Figure size 432x288 with 1 Axes>"
            ],
            "image/png": "[encoded data removed]"
          },
          "metadata": {
            "needs_background": "light"
          }
        }
      ],
      "source": [
        "# plot classification error\n",
        "fig, ax = pyplot.subplots()\n",
        "ax.plot(x_axis, results['validation_0']['merror'], label='Train')\n",
        "ax.plot(x_axis, results['validation_1']['merror'], label='Test')\n",
        "ax.legend()\n",
        "pyplot.ylabel('Classification Error')\n",
        "pyplot.title('XGBoost Classification Error')\n",
        "pyplot.show()"
      ]
    },
    {
      "cell_type": "markdown",
      "metadata": {
        "id": "vpngfSvYdCgW"
      },
      "source": [
        "#**AdaBoost**"
      ]
    },
    {
      "cell_type": "code",
      "execution_count": 24,
      "metadata": {
        "colab": {
          "base_uri": "https://localhost:8080/"
        },
        "id": "G-lFr7CAdBVD",
        "outputId": "d153cbe9-6691-4123-8e0c-ac177f94dd83"
      },
      "outputs": [
        {
          "output_type": "execute_result",
          "data": {
            "text/plain": [
              "AdaBoostClassifier(base_estimator=RandomForestClassifier(max_depth=1,\n",
              "                                                         random_state=RandomState(MT19937) at 0x7F2FB6589AF0),\n",
              "                   n_estimators=100,\n",
              "                   random_state=RandomState(MT19937) at 0x7F2FB65899E0)"
            ]
          },
          "metadata": {},
          "execution_count": 24
        }
      ],
      "source": [
        "from sklearn.ensemble import RandomForestClassifier\n",
        "from sklearn.ensemble import AdaBoostClassifier\n",
        "\n",
        "\n",
        "max_estimators = 100\n",
        "ada_boost = AdaBoostClassifier(RandomForestClassifier(max_depth = 1, # Just a stump.\n",
        "                                      random_state = np.random.RandomState(0)),\n",
        "                               n_estimators = max_estimators,\n",
        "                               random_state = np.random.RandomState(0))\n",
        "\n",
        "# Fit all estimators.\n",
        "ada_boost.fit(x_train, y_train)\n"
      ]
    },
    {
      "cell_type": "code",
      "execution_count": 25,
      "metadata": {
        "colab": {
          "base_uri": "https://localhost:8080/"
        },
        "id": "M_l-iYzWddXc",
        "outputId": "c3a9be61-9f60-452f-ff59-60e512ccda38"
      },
      "outputs": [
        {
          "output_type": "execute_result",
          "data": {
            "text/plain": [
              "0.4835298703830036"
            ]
          },
          "metadata": {},
          "execution_count": 25
        }
      ],
      "source": [
        "ada_boost.score(x_test, y_test)"
      ]
    },
    {
      "cell_type": "markdown",
      "metadata": {
        "id": "bpjoYNzudfX1"
      },
      "source": [
        "#**ANN**"
      ]
    },
    {
      "cell_type": "code",
      "execution_count": 26,
      "metadata": {
        "colab": {
          "base_uri": "https://localhost:8080/"
        },
        "id": "HNZzjdRnde_2",
        "outputId": "256d1a88-7638-4366-8698-7de2b4ec7978"
      },
      "outputs": [
        {
          "output_type": "stream",
          "name": "stdout",
          "text": [
            "Epoch 1/5\n",
            "2625/2625 [==============================] - 22s 8ms/step - loss: 0.9125 - accuracy: 0.6473 - val_loss: 1.2790 - val_accuracy: 0.3795\n",
            "Epoch 2/5\n",
            "2625/2625 [==============================] - 22s 9ms/step - loss: 0.6463 - accuracy: 0.7678 - val_loss: 0.8884 - val_accuracy: 0.6138\n",
            "Epoch 3/5\n",
            "2625/2625 [==============================] - 21s 8ms/step - loss: 0.5745 - accuracy: 0.8037 - val_loss: 0.9385 - val_accuracy: 0.6177\n",
            "Epoch 4/5\n",
            "2625/2625 [==============================] - 21s 8ms/step - loss: 0.4819 - accuracy: 0.8371 - val_loss: 0.8393 - val_accuracy: 0.6438\n",
            "Epoch 5/5\n",
            "2625/2625 [==============================] - 22s 8ms/step - loss: 0.4421 - accuracy: 0.8530 - val_loss: 0.7279 - val_accuracy: 0.7289\n",
            "Epoch 1/5\n",
            "2625/2625 [==============================] - 22s 8ms/step - loss: 1.0071 - accuracy: 0.6037 - val_loss: 1.3757 - val_accuracy: 0.1919\n",
            "Epoch 2/5\n",
            "2625/2625 [==============================] - 21s 8ms/step - loss: 0.6072 - accuracy: 0.7866 - val_loss: 0.8559 - val_accuracy: 0.7124\n",
            "Epoch 3/5\n",
            "2625/2625 [==============================] - 21s 8ms/step - loss: 0.4582 - accuracy: 0.8500 - val_loss: 0.5013 - val_accuracy: 0.8476\n",
            "Epoch 4/5\n",
            "2625/2625 [==============================] - 20s 8ms/step - loss: 0.3801 - accuracy: 0.8795 - val_loss: 0.6593 - val_accuracy: 0.8005\n",
            "Epoch 5/5\n",
            "2625/2625 [==============================] - 20s 8ms/step - loss: 0.3767 - accuracy: 0.8812 - val_loss: 0.4020 - val_accuracy: 0.8697\n",
            "Epoch 1/5\n",
            "2625/2625 [==============================] - 22s 8ms/step - loss: 1.0107 - accuracy: 0.6057 - val_loss: 1.2604 - val_accuracy: 0.5091\n",
            "Epoch 2/5\n",
            "2625/2625 [==============================] - 22s 8ms/step - loss: 0.6814 - accuracy: 0.7521 - val_loss: 0.9003 - val_accuracy: 0.6105\n",
            "Epoch 3/5\n",
            "2625/2625 [==============================] - 20s 8ms/step - loss: 0.4723 - accuracy: 0.8437 - val_loss: 0.6398 - val_accuracy: 0.7593\n",
            "Epoch 4/5\n",
            "2625/2625 [==============================] - 20s 8ms/step - loss: 0.4536 - accuracy: 0.8522 - val_loss: 0.7298 - val_accuracy: 0.7374\n",
            "Epoch 5/5\n",
            "2625/2625 [==============================] - 22s 8ms/step - loss: 0.3713 - accuracy: 0.8807 - val_loss: 0.6021 - val_accuracy: 0.7735\n",
            "Epoch 1/5\n",
            "2625/2625 [==============================] - 22s 8ms/step - loss: 0.9347 - accuracy: 0.6380 - val_loss: 1.0540 - val_accuracy: 0.5021\n",
            "Epoch 2/5\n",
            "2625/2625 [==============================] - 21s 8ms/step - loss: 0.6301 - accuracy: 0.7768 - val_loss: 0.7719 - val_accuracy: 0.6630\n",
            "Epoch 3/5\n",
            "2625/2625 [==============================] - 21s 8ms/step - loss: 0.5211 - accuracy: 0.8236 - val_loss: 0.6895 - val_accuracy: 0.7339\n",
            "Epoch 4/5\n",
            "2625/2625 [==============================] - 20s 8ms/step - loss: 0.4275 - accuracy: 0.8599 - val_loss: 0.7107 - val_accuracy: 0.7165\n",
            "Epoch 5/5\n",
            "2625/2625 [==============================] - 20s 8ms/step - loss: 0.3567 - accuracy: 0.8865 - val_loss: 0.5433 - val_accuracy: 0.7928\n",
            "Epoch 1/5\n",
            "2625/2625 [==============================] - 22s 8ms/step - loss: 0.9880 - accuracy: 0.6076 - val_loss: 1.0662 - val_accuracy: 0.4835\n",
            "Epoch 2/5\n",
            "2625/2625 [==============================] - 22s 8ms/step - loss: 0.6690 - accuracy: 0.7461 - val_loss: 1.0290 - val_accuracy: 0.5681\n",
            "Epoch 3/5\n",
            "2625/2625 [==============================] - 21s 8ms/step - loss: 0.6101 - accuracy: 0.7839 - val_loss: 1.1515 - val_accuracy: 0.5037\n",
            "Epoch 4/5\n",
            "2625/2625 [==============================] - 20s 8ms/step - loss: 0.5315 - accuracy: 0.8213 - val_loss: 0.6475 - val_accuracy: 0.7428\n",
            "Epoch 5/5\n",
            "2625/2625 [==============================] - 20s 8ms/step - loss: 0.4882 - accuracy: 0.8395 - val_loss: 0.8156 - val_accuracy: 0.6579\n",
            "Epoch 1/5\n",
            "2625/2625 [==============================] - 24s 9ms/step - loss: 0.9670 - accuracy: 0.6162 - val_loss: 1.0761 - val_accuracy: 0.5565\n",
            "Epoch 2/5\n",
            "2625/2625 [==============================] - 22s 8ms/step - loss: 0.6650 - accuracy: 0.7608 - val_loss: 0.8896 - val_accuracy: 0.6648\n",
            "Epoch 3/5\n",
            "2625/2625 [==============================] - 24s 9ms/step - loss: 0.5332 - accuracy: 0.8225 - val_loss: 1.4908 - val_accuracy: 0.5364\n",
            "Epoch 4/5\n",
            "2625/2625 [==============================] - 22s 8ms/step - loss: 0.5328 - accuracy: 0.8207 - val_loss: 0.9155 - val_accuracy: 0.6393\n",
            "Epoch 5/5\n",
            "2625/2625 [==============================] - 22s 8ms/step - loss: 0.4015 - accuracy: 0.8683 - val_loss: 0.7226 - val_accuracy: 0.7414\n",
            "Epoch 1/5\n",
            "2625/2625 [==============================] - 23s 8ms/step - loss: 0.9071 - accuracy: 0.6544 - val_loss: 0.9622 - val_accuracy: 0.5270\n",
            "Epoch 2/5\n",
            "2625/2625 [==============================] - 21s 8ms/step - loss: 0.5835 - accuracy: 0.8000 - val_loss: 0.8274 - val_accuracy: 0.6502\n",
            "Epoch 3/5\n",
            "2625/2625 [==============================] - 22s 8ms/step - loss: 0.5169 - accuracy: 0.8300 - val_loss: 0.8453 - val_accuracy: 0.6916\n",
            "Epoch 4/5\n",
            "2625/2625 [==============================] - 21s 8ms/step - loss: 0.4826 - accuracy: 0.8381 - val_loss: 0.6663 - val_accuracy: 0.7767\n",
            "Epoch 5/5\n",
            "2625/2625 [==============================] - 20s 8ms/step - loss: 0.4308 - accuracy: 0.8618 - val_loss: 0.8202 - val_accuracy: 0.7346\n"
          ]
        }
      ],
      "source": [
        "import tensorflow as tf\n",
        "from tensorflow import keras\n",
        "from sklearn.metrics import precision_score, recall_score\n",
        "from sklearn.metrics import accuracy_score, confusion_matrix, classification_report\n",
        "\n",
        "accuracy = pd.DataFrame( columns=[\"Accuracy\",\"Precision\",\"Recall\"])\n",
        "#predictions = np.zeros(shape=(10000,7))\n",
        "row_index = 0\n",
        "for i in range(7):\n",
        "        # bootstrap sampling  \n",
        "        boot_train = resample(x_train,y_train,replace=True, n_samples=40000, random_state=None)\n",
        "        model2 = tf.keras.Sequential([\n",
        "            tf.keras.layers.Flatten(input_shape=x_train[0].shape),\n",
        "            tf.keras.layers.Dense(256, activation=tf.nn.relu),\n",
        "            tf.keras.layers.Dense(128, activation=tf.nn.relu),\n",
        "            tf.keras.layers.Dense(128, activation=tf.nn.relu),\n",
        "            tf.keras.layers.Dense(128, activation=tf.nn.relu),\n",
        "            tf.keras.layers.Dense(128, activation=tf.nn.relu),\n",
        "            tf.keras.layers.Dense(128, activation=tf.nn.relu),\n",
        "            tf.keras.layers.Dense(128, activation=tf.nn.relu),\n",
        "            tf.keras.layers.Dense(128, activation=tf.nn.relu),\n",
        "            tf.keras.layers.Dense(128, activation=tf.nn.relu),\n",
        "            tf.keras.layers.Dense(128, activation=tf.nn.relu),\n",
        "            tf.keras.layers.Dense(128, activation=tf.nn.relu),\n",
        "            tf.keras.layers.Dense(128, activation=tf.nn.relu),\n",
        "            tf.keras.layers.Dense(128, activation=tf.nn.relu),\n",
        "            tf.keras.layers.Dense(128, activation=tf.nn.relu),\n",
        "            tf.keras.layers.Dense(128, activation=tf.nn.relu),\n",
        "            tf.keras.layers.Dense(128, activation=tf.nn.relu),\n",
        "            tf.keras.layers.Dense(128, activation=tf.nn.relu),\n",
        "            tf.keras.layers.Dense(7, activation=tf.nn.softmax)])\n",
        "  \n",
        "        # compile the model\n",
        "        model2.compile(loss='sparse_categorical_crossentropy',optimizer='adam',metrics=['accuracy'])\n",
        "\n",
        "        # Train the model\n",
        "        model2.fit(x_train,y_train,epochs=5,batch_size=32, validation_data=(x_test,y_test))"
      ]
    },
    {
      "cell_type": "code",
      "execution_count": 27,
      "metadata": {
        "colab": {
          "base_uri": "https://localhost:8080/"
        },
        "id": "crcP3K2adoTW",
        "outputId": "b73e23f0-c993-48f1-933e-7174c0f2df4a"
      },
      "outputs": [
        {
          "output_type": "stream",
          "name": "stdout",
          "text": [
            "accuracy: 73.46%\n",
            "73.46% (+/- 0.00%)\n"
          ]
        }
      ],
      "source": [
        "# evaluate the model\n",
        "import numpy \n",
        "cvscores2 = []\n",
        "scores = model2.evaluate(x_test, y_test, verbose=0)\n",
        "print(\"%s: %.2f%%\" % (model2.metrics_names[1], scores[1]*100))\n",
        "cvscores2.append(scores[1] * 100)\n",
        "print(\"%.2f%% (+/- %.2f%%)\" % (numpy.mean(cvscores2), numpy.std(cvscores2)))"
      ]
    },
    {
      "cell_type": "markdown",
      "metadata": {
        "id": "YFD2NceAdvFg"
      },
      "source": [
        "#**CNN**"
      ]
    },
    {
      "cell_type": "code",
      "execution_count": 28,
      "metadata": {
        "colab": {
          "base_uri": "https://localhost:8080/",
          "height": 265
        },
        "id": "-bv78vn3drJj",
        "outputId": "de0bac42-deae-49b0-f63d-223a0d99a452"
      },
      "outputs": [
        {
          "output_type": "display_data",
          "data": {
            "text/plain": [
              "<Figure size 432x288 with 1 Axes>"
            ],
            "image/png": "[encoded data removed]"
          },
          "metadata": {
            "needs_background": "light"
          }
        }
      ],
      "source": [
        "def gaussian_noise(signal):\n",
        "    noise = np.random.normal(0,0.05,187)\n",
        "    return signal + noise\n",
        "\n",
        "sample = train_lbl0.sample(1).values[0]\n",
        "\n",
        "sample_with_noise = gaussian_noise(sample[:187])\n",
        "\n",
        "plt.subplot(1, 1, 1)\n",
        "\n",
        "plt.plot(sample[:187])\n",
        "plt.plot(sample_with_noise)\n",
        "\n",
        "\n",
        "ytrain = tensorflow.keras.utils.to_categorical(train[187])\n",
        "ytest = tensorflow.keras.utils.to_categorical(test[187])\n",
        "\n",
        "# Input to the model\n",
        "xtrain = train.values[:, :187]\n",
        "xtest = test.values[:, :187]\n",
        "\n",
        "# Adding noise\n",
        "for i in range(xtrain.shape[0]):\n",
        "    xtrain[i, :187] = gaussian_noise(xtrain[i, :187])"
      ]
    },
    {
      "cell_type": "code",
      "execution_count": 29,
      "metadata": {
        "colab": {
          "base_uri": "https://localhost:8080/"
        },
        "id": "FatYdk5gd3Nw",
        "outputId": "8e55f93e-eee3-4e1e-bf17-ccc09a1a47f5"
      },
      "outputs": [
        {
          "output_type": "stream",
          "name": "stdout",
          "text": [
            "Shape of training data: \n",
            "Input:  (83990, 187, 1)\n",
            "Output:  (83990, 7)\n",
            "\n",
            "Shape of test data: \n",
            "Input:  (20522, 187, 1)\n",
            "Output:  (20522, 7)\n"
          ]
        }
      ],
      "source": [
        "xtrain = np.expand_dims(xtrain, 2)\n",
        "xtest = np.expand_dims(xtest, 2)\n",
        "\n",
        "print(\"Shape of training data: \")\n",
        "print(\"Input: \", xtrain.shape)\n",
        "print(\"Output: \", ytrain.shape)\n",
        "\n",
        "print(\"\\nShape of test data: \")\n",
        "print(\"Input: \", xtest.shape)\n",
        "print(\"Output: \", ytest.shape)"
      ]
    },
    {
      "cell_type": "code",
      "execution_count": 30,
      "metadata": {
        "colab": {
          "base_uri": "https://localhost:8080/"
        },
        "id": "JYJzElv_d9wb",
        "outputId": "b44ae9dc-1fc5-48bd-bed6-12b2fb952a17"
      },
      "outputs": [
        {
          "output_type": "stream",
          "name": "stdout",
          "text": [
            "Model: \"sequential_7\"\n",
            "_________________________________________________________________\n",
            " Layer (type)                Output Shape              Param #   \n",
            "=================================================================\n",
            " conv1d (Conv1D)             (None, 182, 64)           448       \n",
            "                                                                 \n",
            " max_pooling1d (MaxPooling1D  (None, 90, 64)           0         \n",
            " )                                                               \n",
            "                                                                 \n",
            " conv1d_1 (Conv1D)           (None, 85, 64)            24640     \n",
            "                                                                 \n",
            " max_pooling1d_1 (MaxPooling  (None, 42, 64)           0         \n",
            " 1D)                                                             \n",
            "                                                                 \n",
            " conv1d_2 (Conv1D)           (None, 37, 64)            24640     \n",
            "                                                                 \n",
            " max_pooling1d_2 (MaxPooling  (None, 18, 64)           0         \n",
            " 1D)                                                             \n",
            "                                                                 \n",
            " flatten_7 (Flatten)         (None, 1152)              0         \n",
            "                                                                 \n",
            " dense_126 (Dense)           (None, 64)                73792     \n",
            "                                                                 \n",
            " dense_127 (Dense)           (None, 32)                2080      \n",
            "                                                                 \n",
            " dense_128 (Dense)           (None, 7)                 231       \n",
            "                                                                 \n",
            "=================================================================\n",
            "Total params: 125,831\n",
            "Trainable params: 125,831\n",
            "Non-trainable params: 0\n",
            "_________________________________________________________________\n"
          ]
        }
      ],
      "source": [
        "model = Sequential()\n",
        "model.add(Conv1D(64, 6, activation = 'relu', input_shape = xtrain[0].shape))\n",
        "model.add(MaxPool1D(3, 2))\n",
        "\n",
        "model.add(Conv1D(64, 6, activation = 'relu'))\n",
        "model.add(MaxPool1D(3, 2))\n",
        "\n",
        "model.add(Conv1D(64, 6, activation = 'relu'))\n",
        "model.add(MaxPool1D(3, 2))\n",
        "\n",
        "model.add(Flatten())\n",
        "\n",
        "model.add(Dense(64, activation = 'relu'))\n",
        "model.add(Dense(32, activation = 'relu'))\n",
        "model.add(Dense(7, activation = 'softmax'))\n",
        "\n",
        "model.compile(optimizer = tensorflow.keras.optimizers.Adam(0.001), loss = 'categorical_crossentropy', metrics = ['accuracy'])\n",
        "model.summary()"
      ]
    },
    {
      "cell_type": "code",
      "execution_count": 31,
      "metadata": {
        "colab": {
          "base_uri": "https://localhost:8080/"
        },
        "id": "1YRO6Pyxd-KN",
        "outputId": "d6b393a3-e502-408a-ab1b-1fa9c6b862e2"
      },
      "outputs": [
        {
          "output_type": "stream",
          "name": "stdout",
          "text": [
            "Epoch 1/8\n",
            "2625/2625 [==============================] - 93s 35ms/step - loss: 0.5454 - accuracy: 0.8018 - val_loss: 0.5695 - val_accuracy: 0.7879\n",
            "Epoch 2/8\n",
            "2625/2625 [==============================] - 93s 35ms/step - loss: 0.2591 - accuracy: 0.9076 - val_loss: 0.3584 - val_accuracy: 0.8738\n",
            "Epoch 3/8\n",
            "2625/2625 [==============================] - 93s 36ms/step - loss: 0.1892 - accuracy: 0.9329 - val_loss: 0.2542 - val_accuracy: 0.9135\n",
            "Epoch 4/8\n",
            "2625/2625 [==============================] - 94s 36ms/step - loss: 0.1527 - accuracy: 0.9452 - val_loss: 0.2761 - val_accuracy: 0.9070\n",
            "Epoch 5/8\n",
            "2625/2625 [==============================] - 93s 36ms/step - loss: 0.1267 - accuracy: 0.9555 - val_loss: 0.2468 - val_accuracy: 0.9161\n",
            "Epoch 6/8\n",
            "2625/2625 [==============================] - 92s 35ms/step - loss: 0.1095 - accuracy: 0.9608 - val_loss: 0.2103 - val_accuracy: 0.9275\n",
            "Epoch 7/8\n",
            "2625/2625 [==============================] - 91s 35ms/step - loss: 0.0977 - accuracy: 0.9657 - val_loss: 0.2364 - val_accuracy: 0.9256\n",
            "Epoch 8/8\n",
            "2625/2625 [==============================] - 92s 35ms/step - loss: 0.0865 - accuracy: 0.9699 - val_loss: 0.1988 - val_accuracy: 0.9314\n"
          ]
        }
      ],
      "source": [
        "history = model.fit(xtrain, ytrain, epochs = 8, batch_size = 32, validation_data = (xtest, ytest))\n"
      ]
    },
    {
      "cell_type": "code",
      "source": [
        "def plot(history, variable, variable2):\n",
        "    plt.plot(range(len(history[variable])), history[variable])\n",
        "    plt.plot(range(len(history[variable2])), history[variable2])\n",
        "    plt.legend([variable, variable2])\n",
        "    plt.title(variable)"
      ],
      "metadata": {
        "id": "nLe8-pSBWxAB"
      },
      "execution_count": 37,
      "outputs": []
    },
    {
      "cell_type": "code",
      "source": [
        "\n",
        "plot(history.history, \"accuracy\", \"val_accuracy\")"
      ],
      "metadata": {
        "colab": {
          "base_uri": "https://localhost:8080/",
          "height": 281
        },
        "id": "B4E53JK1WzAJ",
        "outputId": "82a28f6b-2bf8-4e0d-da7b-3d0b51f5c5dd"
      },
      "execution_count": 38,
      "outputs": [
        {
          "output_type": "display_data",
          "data": {
            "text/plain": [
              "<Figure size 432x288 with 1 Axes>"
            ],
            "image/png": "[encoded data removed]"
          },
          "metadata": {
            "needs_background": "light"
          }
        }
      ]
    },
    {
      "cell_type": "code",
      "source": [
        "plot(history.history, \"loss\", \"val_loss\")"
      ],
      "metadata": {
        "colab": {
          "base_uri": "https://localhost:8080/",
          "height": 281
        },
        "id": "rUIf9gEXWy-Y",
        "outputId": "9eac87e9-6f86-4226-dbb3-caeacab880d1"
      },
      "execution_count": 39,
      "outputs": [
        {
          "output_type": "display_data",
          "data": {
            "text/plain": [
              "<Figure size 432x288 with 1 Axes>"
            ],
            "image/png": "[encoded data removed]"
          },
          "metadata": {
            "needs_background": "light"
          }
        }
      ]
    },
    {
      "cell_type": "code",
      "source": [
        "ypred = model.predict(xtest)\n",
        "\n",
        "cm = confusion_matrix(ytest.argmax(axis=1), ypred.argmax(axis=1))\n",
        "cm = cm.astype('float') / cm.sum(axis=1)[:, np.newaxis]\n",
        "\n",
        "for i in range(cm.shape[1]):\n",
        "    for j in range(cm.shape[0]):\n",
        "        plt.text(j, i, format(cm[i, j], '.2f'), horizontalalignment=\"center\", color=\"black\")\n",
        "\n",
        "\n",
        "plt.imshow(cm, cmap=plt.cm.Blues)"
      ],
      "metadata": {
        "colab": {
          "base_uri": "https://localhost:8080/",
          "height": 282
        },
        "id": "H2UMqvH5Wy6W",
        "outputId": "f7f07196-dc86-4c1d-d838-021995da4f4a"
      },
      "execution_count": 40,
      "outputs": [
        {
          "output_type": "execute_result",
          "data": {
            "text/plain": [
              "<matplotlib.image.AxesImage at 0x7f2fa1800250>"
            ]
          },
          "metadata": {},
          "execution_count": 40
        },
        {
          "output_type": "display_data",
          "data": {
            "text/plain": [
              "<Figure size 432x288 with 1 Axes>"
            ],
            "image/png": "[encoded data removed]"
          },
          "metadata": {
            "needs_background": "light"
          }
        }
      ]
    },
    {
      "cell_type": "code",
      "source": [
        "print(\"The distribution of test set labels\")\n",
        "print(test[187].value_counts())\n",
        "\n",
        "print('F1_score = ', f1_score(ytest.argmax(axis=1), ypred.argmax(axis=1), average = 'macro'))"
      ],
      "metadata": {
        "colab": {
          "base_uri": "https://localhost:8080/"
        },
        "id": "-TCf605XW3fc",
        "outputId": "658abf3a-6bcc-4fc0-ce36-67fdd924daee"
      },
      "execution_count": 41,
      "outputs": [
        {
          "output_type": "stream",
          "name": "stdout",
          "text": [
            "The distribution of test set labels\n",
            "0.0    16037\n",
            "5.0     2153\n",
            "6.0      999\n",
            "1.0      475\n",
            "2.0      422\n",
            "4.0      312\n",
            "3.0      124\n",
            "Name: 187, dtype: int64\n",
            "F1_score =  0.796310004964335\n"
          ]
        }
      ]
    },
    {
      "cell_type": "code",
      "source": [
        ""
      ],
      "metadata": {
        "id": "gXYIFlTuXDFg"
      },
      "execution_count": 41,
      "outputs": []
    }
  ],
  "metadata": {
    "colab": {
      "name": "MIT-BIH and PTBDB.ipynb",
      "provenance": [],
      "collapsed_sections": []
    },
    "kernelspec": {
      "display_name": "Python 3",
      "name": "python3"
    },
    "language_info": {
      "name": "python"
    }
  },
  "nbformat": 4,
  "nbformat_minor": 0
}