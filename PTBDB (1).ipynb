{
  "nbformat": 4,
  "nbformat_minor": 0,
  "metadata": {
    "colab": {
      "name": "PTBDB.ipynb",
      "provenance": [],
      "collapsed_sections": []
    },
    "kernelspec": {
      "name": "python3",
      "display_name": "Python 3"
    },
    "language_info": {
      "name": "python"
    }
  },
  "cells": [
    {
      "cell_type": "code",
      "execution_count": 1,
      "metadata": {
        "colab": {
          "base_uri": "https://localhost:8080/"
        },
        "id": "lcUdCe9mUqPy",
        "outputId": "236a7bea-2d0d-4690-c305-0780ac5cd0fb"
      },
      "outputs": [
        {
          "output_type": "stream",
          "name": "stdout",
          "text": [
            "Mounted at /content/drive\n"
          ]
        }
      ],
      "source": [
        "from google.colab import drive\n",
        "drive.mount('/content/drive')"
      ]
    },
    {
      "cell_type": "code",
      "source": [
        "import numpy as np\n",
        "import pandas as pd\n",
        "import matplotlib.pyplot as plt\n",
        "from sklearn.metrics import f1_score, confusion_matrix\n",
        "from sklearn.utils import resample\n",
        "import tensorflow.keras\n",
        "from tensorflow.keras.models import Sequential\n",
        "from tensorflow.keras.layers import Conv1D, MaxPooling1D, Dense, Dropout, Flatten, MaxPool1D, Convolution1D\n",
        "from tensorflow.keras.layers import BatchNormalization\n",
        "from tensorflow.keras.callbacks import EarlyStopping, ModelCheckpoint\n",
        "import random"
      ],
      "metadata": {
        "id": "9UXDwIOfUtKJ"
      },
      "execution_count": 2,
      "outputs": []
    },
    {
      "cell_type": "code",
      "source": [
        "#Loading the ptbdb dats set\n",
        "abnormal     = pd.read_csv(\"/content/drive/My Drive/Colab Notebooks/datafiles/ptbdb_abnormal.csv\", header = None)\n",
        "normal       = pd.read_csv(\"/content/drive/My Drive/Colab Notebooks/datafiles/ptbdb_normal.csv\", header = None)"
      ],
      "metadata": {
        "id": "4TNjx0UTU69v"
      },
      "execution_count": 3,
      "outputs": []
    },
    {
      "cell_type": "code",
      "source": [
        "abnormal.shape"
      ],
      "metadata": {
        "colab": {
          "base_uri": "https://localhost:8080/"
        },
        "id": "jCcCNm9BU8gu",
        "outputId": "30759f55-c97b-4f10-be1b-0fbbe24b81c3"
      },
      "execution_count": 4,
      "outputs": [
        {
          "output_type": "execute_result",
          "data": {
            "text/plain": [
              "(10506, 188)"
            ]
          },
          "metadata": {},
          "execution_count": 4
        }
      ]
    },
    {
      "cell_type": "code",
      "source": [
        "normal.shape"
      ],
      "metadata": {
        "colab": {
          "base_uri": "https://localhost:8080/"
        },
        "id": "ip0JANlSVGSY",
        "outputId": "0d5b0b41-0946-413e-9de1-2ca97a38b1b8"
      },
      "execution_count": 5,
      "outputs": [
        {
          "output_type": "execute_result",
          "data": {
            "text/plain": [
              "(4046, 188)"
            ]
          },
          "metadata": {},
          "execution_count": 5
        }
      ]
    },
    {
      "cell_type": "code",
      "source": [
        "abnormal[187].unique()"
      ],
      "metadata": {
        "colab": {
          "base_uri": "https://localhost:8080/"
        },
        "id": "D-ZQ-fWdVH6b",
        "outputId": "1be6f60c-3dc7-4198-e34c-9d36cc1fb643"
      },
      "execution_count": 6,
      "outputs": [
        {
          "output_type": "execute_result",
          "data": {
            "text/plain": [
              "array([1.])"
            ]
          },
          "metadata": {},
          "execution_count": 6
        }
      ]
    },
    {
      "cell_type": "code",
      "source": [
        "normal[187].unique()"
      ],
      "metadata": {
        "colab": {
          "base_uri": "https://localhost:8080/"
        },
        "id": "Jic4etafVJUH",
        "outputId": "8a1180ba-eb8e-4fbf-9285-58ed2b057626"
      },
      "execution_count": 7,
      "outputs": [
        {
          "output_type": "execute_result",
          "data": {
            "text/plain": [
              "array([0.])"
            ]
          },
          "metadata": {},
          "execution_count": 7
        }
      ]
    },
    {
      "cell_type": "code",
      "source": [
        "#Combining abnormal and normal\n",
        "ptbdb_data = pd.merge(abnormal, normal, how='outer')\n",
        "ptbdb_data"
      ],
      "metadata": {
        "colab": {
          "base_uri": "https://localhost:8080/",
          "height": 423
        },
        "id": "gq6pxKpLVLCw",
        "outputId": "73d359d5-c34f-4094-a483-975f84c7b7f9"
      },
      "execution_count": 8,
      "outputs": [
        {
          "output_type": "execute_result",
          "data": {
            "text/plain": [
              "            0         1         2         3         4         5         6    \\\n",
              "0      0.932233  0.869679  0.886186  0.929626  0.908775  0.933970  0.801043   \n",
              "1      1.000000  0.606941  0.384181  0.254237  0.223567  0.276836  0.253430   \n",
              "2      1.000000  0.951613  0.923963  0.853303  0.791859  0.734255  0.672043   \n",
              "3      0.977819  0.899261  0.230129  0.032348  0.142329  0.223660  0.328096   \n",
              "4      0.935618  0.801661  0.805815  1.000000  0.722741  0.480789  0.454829   \n",
              "...         ...       ...       ...       ...       ...       ...       ...   \n",
              "14547  1.000000  0.929586  0.503550  0.293491  0.169822  0.159763  0.130769   \n",
              "14548  1.000000  0.637579  0.154837  0.061983  0.088965  0.083374  0.065143   \n",
              "14549  1.000000  0.872574  0.465071  0.232212  0.126132  0.155886  0.174644   \n",
              "14550  0.915983  0.529373  0.288406  0.144536  0.171802  0.180669  0.177566   \n",
              "14551  1.000000  0.838643  0.390567  0.191146  0.033513  0.055854  0.129086   \n",
              "\n",
              "            7         8         9    ...  178  179  180  181  182  183  184  \\\n",
              "0      0.749783  0.687229  0.635100  ...  0.0  0.0  0.0  0.0  0.0  0.0  0.0   \n",
              "1      0.184826  0.153349  0.121872  ...  0.0  0.0  0.0  0.0  0.0  0.0  0.0   \n",
              "2      0.685100  0.670507  0.667435  ...  0.0  0.0  0.0  0.0  0.0  0.0  0.0   \n",
              "3      0.367837  0.381701  0.389094  ...  0.0  0.0  0.0  0.0  0.0  0.0  0.0   \n",
              "4      0.319834  0.266874  0.308411  ...  0.0  0.0  0.0  0.0  0.0  0.0  0.0   \n",
              "...         ...       ...       ...  ...  ...  ...  ...  ...  ...  ...  ...   \n",
              "14547  0.125444  0.137278  0.111243  ...  0.0  0.0  0.0  0.0  0.0  0.0  0.0   \n",
              "14548  0.057365  0.060039  0.060039  ...  0.0  0.0  0.0  0.0  0.0  0.0  0.0   \n",
              "14549  0.190168  0.203752  0.168823  ...  0.0  0.0  0.0  0.0  0.0  0.0  0.0   \n",
              "14550  0.176458  0.178896  0.180448  ...  0.0  0.0  0.0  0.0  0.0  0.0  0.0   \n",
              "14551  0.147290  0.155151  0.165494  ...  0.0  0.0  0.0  0.0  0.0  0.0  0.0   \n",
              "\n",
              "       185  186  187  \n",
              "0      0.0  0.0  1.0  \n",
              "1      0.0  0.0  1.0  \n",
              "2      0.0  0.0  1.0  \n",
              "3      0.0  0.0  1.0  \n",
              "4      0.0  0.0  1.0  \n",
              "...    ...  ...  ...  \n",
              "14547  0.0  0.0  0.0  \n",
              "14548  0.0  0.0  0.0  \n",
              "14549  0.0  0.0  0.0  \n",
              "14550  0.0  0.0  0.0  \n",
              "14551  0.0  0.0  0.0  \n",
              "\n",
              "[14552 rows x 188 columns]"
            ],
            "text/html": [
              "\n",
              "  <div id=\"df-155dcb0f-7539-4ba1-9aea-6a066af53511\">\n",
              "    <div class=\"colab-df-container\">\n",
              "      <div>\n",
              "<style scoped>\n",
              "    .dataframe tbody tr th:only-of-type {\n",
              "        vertical-align: middle;\n",
              "    }\n",
              "\n",
              "    .dataframe tbody tr th {\n",
              "        vertical-align: top;\n",
              "    }\n",
              "\n",
              "    .dataframe thead th {\n",
              "        text-align: right;\n",
              "    }\n",
              "</style>\n",
              "<table border=\"1\" class=\"dataframe\">\n",
              "  <thead>\n",
              "    <tr style=\"text-align: right;\">\n",
              "      <th></th>\n",
              "      <th>0</th>\n",
              "      <th>1</th>\n",
              "      <th>2</th>\n",
              "      <th>3</th>\n",
              "      <th>4</th>\n",
              "      <th>5</th>\n",
              "      <th>6</th>\n",
              "      <th>7</th>\n",
              "      <th>8</th>\n",
              "      <th>9</th>\n",
              "      <th>...</th>\n",
              "      <th>178</th>\n",
              "      <th>179</th>\n",
              "      <th>180</th>\n",
              "      <th>181</th>\n",
              "      <th>182</th>\n",
              "      <th>183</th>\n",
              "      <th>184</th>\n",
              "      <th>185</th>\n",
              "      <th>186</th>\n",
              "      <th>187</th>\n",
              "    </tr>\n",
              "  </thead>\n",
              "  <tbody>\n",
              "    <tr>\n",
              "      <th>0</th>\n",
              "      <td>0.932233</td>\n",
              "      <td>0.869679</td>\n",
              "      <td>0.886186</td>\n",
              "      <td>0.929626</td>\n",
              "      <td>0.908775</td>\n",
              "      <td>0.933970</td>\n",
              "      <td>0.801043</td>\n",
              "      <td>0.749783</td>\n",
              "      <td>0.687229</td>\n",
              "      <td>0.635100</td>\n",
              "      <td>...</td>\n",
              "      <td>0.0</td>\n",
              "      <td>0.0</td>\n",
              "      <td>0.0</td>\n",
              "      <td>0.0</td>\n",
              "      <td>0.0</td>\n",
              "      <td>0.0</td>\n",
              "      <td>0.0</td>\n",
              "      <td>0.0</td>\n",
              "      <td>0.0</td>\n",
              "      <td>1.0</td>\n",
              "    </tr>\n",
              "    <tr>\n",
              "      <th>1</th>\n",
              "      <td>1.000000</td>\n",
              "      <td>0.606941</td>\n",
              "      <td>0.384181</td>\n",
              "      <td>0.254237</td>\n",
              "      <td>0.223567</td>\n",
              "      <td>0.276836</td>\n",
              "      <td>0.253430</td>\n",
              "      <td>0.184826</td>\n",
              "      <td>0.153349</td>\n",
              "      <td>0.121872</td>\n",
              "      <td>...</td>\n",
              "      <td>0.0</td>\n",
              "      <td>0.0</td>\n",
              "      <td>0.0</td>\n",
              "      <td>0.0</td>\n",
              "      <td>0.0</td>\n",
              "      <td>0.0</td>\n",
              "      <td>0.0</td>\n",
              "      <td>0.0</td>\n",
              "      <td>0.0</td>\n",
              "      <td>1.0</td>\n",
              "    </tr>\n",
              "    <tr>\n",
              "      <th>2</th>\n",
              "      <td>1.000000</td>\n",
              "      <td>0.951613</td>\n",
              "      <td>0.923963</td>\n",
              "      <td>0.853303</td>\n",
              "      <td>0.791859</td>\n",
              "      <td>0.734255</td>\n",
              "      <td>0.672043</td>\n",
              "      <td>0.685100</td>\n",
              "      <td>0.670507</td>\n",
              "      <td>0.667435</td>\n",
              "      <td>...</td>\n",
              "      <td>0.0</td>\n",
              "      <td>0.0</td>\n",
              "      <td>0.0</td>\n",
              "      <td>0.0</td>\n",
              "      <td>0.0</td>\n",
              "      <td>0.0</td>\n",
              "      <td>0.0</td>\n",
              "      <td>0.0</td>\n",
              "      <td>0.0</td>\n",
              "      <td>1.0</td>\n",
              "    </tr>\n",
              "    <tr>\n",
              "      <th>3</th>\n",
              "      <td>0.977819</td>\n",
              "      <td>0.899261</td>\n",
              "      <td>0.230129</td>\n",
              "      <td>0.032348</td>\n",
              "      <td>0.142329</td>\n",
              "      <td>0.223660</td>\n",
              "      <td>0.328096</td>\n",
              "      <td>0.367837</td>\n",
              "      <td>0.381701</td>\n",
              "      <td>0.389094</td>\n",
              "      <td>...</td>\n",
              "      <td>0.0</td>\n",
              "      <td>0.0</td>\n",
              "      <td>0.0</td>\n",
              "      <td>0.0</td>\n",
              "      <td>0.0</td>\n",
              "      <td>0.0</td>\n",
              "      <td>0.0</td>\n",
              "      <td>0.0</td>\n",
              "      <td>0.0</td>\n",
              "      <td>1.0</td>\n",
              "    </tr>\n",
              "    <tr>\n",
              "      <th>4</th>\n",
              "      <td>0.935618</td>\n",
              "      <td>0.801661</td>\n",
              "      <td>0.805815</td>\n",
              "      <td>1.000000</td>\n",
              "      <td>0.722741</td>\n",
              "      <td>0.480789</td>\n",
              "      <td>0.454829</td>\n",
              "      <td>0.319834</td>\n",
              "      <td>0.266874</td>\n",
              "      <td>0.308411</td>\n",
              "      <td>...</td>\n",
              "      <td>0.0</td>\n",
              "      <td>0.0</td>\n",
              "      <td>0.0</td>\n",
              "      <td>0.0</td>\n",
              "      <td>0.0</td>\n",
              "      <td>0.0</td>\n",
              "      <td>0.0</td>\n",
              "      <td>0.0</td>\n",
              "      <td>0.0</td>\n",
              "      <td>1.0</td>\n",
              "    </tr>\n",
              "    <tr>\n",
              "      <th>...</th>\n",
              "      <td>...</td>\n",
              "      <td>...</td>\n",
              "      <td>...</td>\n",
              "      <td>...</td>\n",
              "      <td>...</td>\n",
              "      <td>...</td>\n",
              "      <td>...</td>\n",
              "      <td>...</td>\n",
              "      <td>...</td>\n",
              "      <td>...</td>\n",
              "      <td>...</td>\n",
              "      <td>...</td>\n",
              "      <td>...</td>\n",
              "      <td>...</td>\n",
              "      <td>...</td>\n",
              "      <td>...</td>\n",
              "      <td>...</td>\n",
              "      <td>...</td>\n",
              "      <td>...</td>\n",
              "      <td>...</td>\n",
              "      <td>...</td>\n",
              "    </tr>\n",
              "    <tr>\n",
              "      <th>14547</th>\n",
              "      <td>1.000000</td>\n",
              "      <td>0.929586</td>\n",
              "      <td>0.503550</td>\n",
              "      <td>0.293491</td>\n",
              "      <td>0.169822</td>\n",
              "      <td>0.159763</td>\n",
              "      <td>0.130769</td>\n",
              "      <td>0.125444</td>\n",
              "      <td>0.137278</td>\n",
              "      <td>0.111243</td>\n",
              "      <td>...</td>\n",
              "      <td>0.0</td>\n",
              "      <td>0.0</td>\n",
              "      <td>0.0</td>\n",
              "      <td>0.0</td>\n",
              "      <td>0.0</td>\n",
              "      <td>0.0</td>\n",
              "      <td>0.0</td>\n",
              "      <td>0.0</td>\n",
              "      <td>0.0</td>\n",
              "      <td>0.0</td>\n",
              "    </tr>\n",
              "    <tr>\n",
              "      <th>14548</th>\n",
              "      <td>1.000000</td>\n",
              "      <td>0.637579</td>\n",
              "      <td>0.154837</td>\n",
              "      <td>0.061983</td>\n",
              "      <td>0.088965</td>\n",
              "      <td>0.083374</td>\n",
              "      <td>0.065143</td>\n",
              "      <td>0.057365</td>\n",
              "      <td>0.060039</td>\n",
              "      <td>0.060039</td>\n",
              "      <td>...</td>\n",
              "      <td>0.0</td>\n",
              "      <td>0.0</td>\n",
              "      <td>0.0</td>\n",
              "      <td>0.0</td>\n",
              "      <td>0.0</td>\n",
              "      <td>0.0</td>\n",
              "      <td>0.0</td>\n",
              "      <td>0.0</td>\n",
              "      <td>0.0</td>\n",
              "      <td>0.0</td>\n",
              "    </tr>\n",
              "    <tr>\n",
              "      <th>14549</th>\n",
              "      <td>1.000000</td>\n",
              "      <td>0.872574</td>\n",
              "      <td>0.465071</td>\n",
              "      <td>0.232212</td>\n",
              "      <td>0.126132</td>\n",
              "      <td>0.155886</td>\n",
              "      <td>0.174644</td>\n",
              "      <td>0.190168</td>\n",
              "      <td>0.203752</td>\n",
              "      <td>0.168823</td>\n",
              "      <td>...</td>\n",
              "      <td>0.0</td>\n",
              "      <td>0.0</td>\n",
              "      <td>0.0</td>\n",
              "      <td>0.0</td>\n",
              "      <td>0.0</td>\n",
              "      <td>0.0</td>\n",
              "      <td>0.0</td>\n",
              "      <td>0.0</td>\n",
              "      <td>0.0</td>\n",
              "      <td>0.0</td>\n",
              "    </tr>\n",
              "    <tr>\n",
              "      <th>14550</th>\n",
              "      <td>0.915983</td>\n",
              "      <td>0.529373</td>\n",
              "      <td>0.288406</td>\n",
              "      <td>0.144536</td>\n",
              "      <td>0.171802</td>\n",
              "      <td>0.180669</td>\n",
              "      <td>0.177566</td>\n",
              "      <td>0.176458</td>\n",
              "      <td>0.178896</td>\n",
              "      <td>0.180448</td>\n",
              "      <td>...</td>\n",
              "      <td>0.0</td>\n",
              "      <td>0.0</td>\n",
              "      <td>0.0</td>\n",
              "      <td>0.0</td>\n",
              "      <td>0.0</td>\n",
              "      <td>0.0</td>\n",
              "      <td>0.0</td>\n",
              "      <td>0.0</td>\n",
              "      <td>0.0</td>\n",
              "      <td>0.0</td>\n",
              "    </tr>\n",
              "    <tr>\n",
              "      <th>14551</th>\n",
              "      <td>1.000000</td>\n",
              "      <td>0.838643</td>\n",
              "      <td>0.390567</td>\n",
              "      <td>0.191146</td>\n",
              "      <td>0.033513</td>\n",
              "      <td>0.055854</td>\n",
              "      <td>0.129086</td>\n",
              "      <td>0.147290</td>\n",
              "      <td>0.155151</td>\n",
              "      <td>0.165494</td>\n",
              "      <td>...</td>\n",
              "      <td>0.0</td>\n",
              "      <td>0.0</td>\n",
              "      <td>0.0</td>\n",
              "      <td>0.0</td>\n",
              "      <td>0.0</td>\n",
              "      <td>0.0</td>\n",
              "      <td>0.0</td>\n",
              "      <td>0.0</td>\n",
              "      <td>0.0</td>\n",
              "      <td>0.0</td>\n",
              "    </tr>\n",
              "  </tbody>\n",
              "</table>\n",
              "<p>14552 rows × 188 columns</p>\n",
              "</div>\n",
              "      <button class=\"colab-df-convert\" onclick=\"convertToInteractive('df-155dcb0f-7539-4ba1-9aea-6a066af53511')\"\n",
              "              title=\"Convert this dataframe to an interactive table.\"\n",
              "              style=\"display:none;\">\n",
              "        \n",
              "  <svg xmlns=\"http://www.w3.org/2000/svg\" height=\"24px\"viewBox=\"0 0 24 24\"\n",
              "       width=\"24px\">\n",
              "    <path d=\"M0 0h24v24H0V0z\" fill=\"none\"/>\n",
              "    <path d=\"M18.56 5.44l.94 2.06.94-2.06 2.06-.94-2.06-.94-.94-2.06-.94 2.06-2.06.94zm-11 1L8.5 8.5l.94-2.06 2.06-.94-2.06-.94L8.5 2.5l-.94 2.06-2.06.94zm10 10l.94 2.06.94-2.06 2.06-.94-2.06-.94-.94-2.06-.94 2.06-2.06.94z\"/><path d=\"M17.41 7.96l-1.37-1.37c-.4-.4-.92-.59-1.43-.59-.52 0-1.04.2-1.43.59L10.3 9.45l-7.72 7.72c-.78.78-.78 2.05 0 2.83L4 21.41c.39.39.9.59 1.41.59.51 0 1.02-.2 1.41-.59l7.78-7.78 2.81-2.81c.8-.78.8-2.07 0-2.86zM5.41 20L4 18.59l7.72-7.72 1.47 1.35L5.41 20z\"/>\n",
              "  </svg>\n",
              "      </button>\n",
              "      \n",
              "  <style>\n",
              "    .colab-df-container {\n",
              "      display:flex;\n",
              "      flex-wrap:wrap;\n",
              "      gap: 12px;\n",
              "    }\n",
              "\n",
              "    .colab-df-convert {\n",
              "      background-color: #E8F0FE;\n",
              "      border: none;\n",
              "      border-radius: 50%;\n",
              "      cursor: pointer;\n",
              "      display: none;\n",
              "      fill: #1967D2;\n",
              "      height: 32px;\n",
              "      padding: 0 0 0 0;\n",
              "      width: 32px;\n",
              "    }\n",
              "\n",
              "    .colab-df-convert:hover {\n",
              "      background-color: #E2EBFA;\n",
              "      box-shadow: 0px 1px 2px rgba(60, 64, 67, 0.3), 0px 1px 3px 1px rgba(60, 64, 67, 0.15);\n",
              "      fill: #174EA6;\n",
              "    }\n",
              "\n",
              "    [theme=dark] .colab-df-convert {\n",
              "      background-color: #3B4455;\n",
              "      fill: #D2E3FC;\n",
              "    }\n",
              "\n",
              "    [theme=dark] .colab-df-convert:hover {\n",
              "      background-color: #434B5C;\n",
              "      box-shadow: 0px 1px 3px 1px rgba(0, 0, 0, 0.15);\n",
              "      filter: drop-shadow(0px 1px 2px rgba(0, 0, 0, 0.3));\n",
              "      fill: #FFFFFF;\n",
              "    }\n",
              "  </style>\n",
              "\n",
              "      <script>\n",
              "        const buttonEl =\n",
              "          document.querySelector('#df-155dcb0f-7539-4ba1-9aea-6a066af53511 button.colab-df-convert');\n",
              "        buttonEl.style.display =\n",
              "          google.colab.kernel.accessAllowed ? 'block' : 'none';\n",
              "\n",
              "        async function convertToInteractive(key) {\n",
              "          const element = document.querySelector('#df-155dcb0f-7539-4ba1-9aea-6a066af53511');\n",
              "          const dataTable =\n",
              "            await google.colab.kernel.invokeFunction('convertToInteractive',\n",
              "                                                     [key], {});\n",
              "          if (!dataTable) return;\n",
              "\n",
              "          const docLinkHtml = 'Like what you see? Visit the ' +\n",
              "            '<a target=\"_blank\" href=https://colab.research.google.com/notebooks/data_table.ipynb>data table notebook</a>'\n",
              "            + ' to learn more about interactive tables.';\n",
              "          element.innerHTML = '';\n",
              "          dataTable['output_type'] = 'display_data';\n",
              "          await google.colab.output.renderOutput(dataTable, element);\n",
              "          const docLink = document.createElement('div');\n",
              "          docLink.innerHTML = docLinkHtml;\n",
              "          element.appendChild(docLink);\n",
              "        }\n",
              "      </script>\n",
              "    </div>\n",
              "  </div>\n",
              "  "
            ]
          },
          "metadata": {},
          "execution_count": 8
        }
      ]
    },
    {
      "cell_type": "code",
      "source": [
        "import numpy as np\n",
        "import pandas as pd\n",
        "from sklearn.metrics import f1_score, confusion_matrix\n",
        "from sklearn.utils import resample\n",
        "import random\n",
        "import matplotlib.pyplot as plt\n",
        "import seaborn as sns\n",
        "ptbdb_data_lbl0 = resample(ptbdb_data[ptbdb_data[187]==0], replace=True, n_samples=15000, random_state=113)\n",
        "ptbdb_data_lbl1 = resample(ptbdb_data[ptbdb_data[187]==1], replace=True, n_samples=15000, random_state=113)"
      ],
      "metadata": {
        "id": "DTCA6TswVjhN"
      },
      "execution_count": 9,
      "outputs": []
    },
    {
      "cell_type": "code",
      "source": [
        "train= pd.concat([ptbdb_data_lbl0, ptbdb_data_lbl1])\n",
        "labels = train[187].astype('int64')   # last column has the labels\n",
        "\n",
        "print(\"Count in each label: \")\n",
        "print(labels.value_counts())"
      ],
      "metadata": {
        "colab": {
          "base_uri": "https://localhost:8080/"
        },
        "id": "hD9Zk6pGVkZI",
        "outputId": "7517b675-9673-4375-e128-45be8363e7e8"
      },
      "execution_count": 10,
      "outputs": [
        {
          "output_type": "stream",
          "name": "stdout",
          "text": [
            "Count in each label: \n",
            "0    15000\n",
            "1    15000\n",
            "Name: 187, dtype: int64\n"
          ]
        }
      ]
    },
    {
      "cell_type": "code",
      "source": [
        "#Feature Scaling\n",
        "x = ptbdb_data.iloc[:, :-1].values\n",
        "y = ptbdb_data.iloc[:, -1].values"
      ],
      "metadata": {
        "id": "3gbRO0jUVlw1"
      },
      "execution_count": 11,
      "outputs": []
    },
    {
      "cell_type": "code",
      "source": [
        "#Splitting the data\n",
        "from sklearn.model_selection import train_test_split\n",
        "x_train, x_test, y_train, y_test = train_test_split(x, y, test_size=0.25, random_state=1)"
      ],
      "metadata": {
        "id": "ayL4vBidVntA"
      },
      "execution_count": 12,
      "outputs": []
    },
    {
      "cell_type": "code",
      "source": [
        "#Feature Scaling\n",
        "from sklearn.preprocessing import StandardScaler\n",
        "sc = StandardScaler()\n",
        "x_train = sc.fit_transform(x_train)\n",
        "x_test = sc.transform(x_test)"
      ],
      "metadata": {
        "id": "JmRqM33CVrJH"
      },
      "execution_count": 13,
      "outputs": []
    },
    {
      "cell_type": "markdown",
      "source": [
        "#**KNeighbors Classification**"
      ],
      "metadata": {
        "id": "ZxjZEGYLWhCl"
      }
    },
    {
      "cell_type": "code",
      "source": [
        "#Training KNN model\n",
        "from sklearn.neighbors import KNeighborsClassifier\n",
        "KNN = KNeighborsClassifier(n_neighbors = 15, metric = 'minkowski', p = 2)\n",
        "KNN.fit(x_train, y_train)    "
      ],
      "metadata": {
        "colab": {
          "base_uri": "https://localhost:8080/"
        },
        "id": "vivxwC--Vs2R",
        "outputId": "9e7b085f-7774-4718-d8dc-b368aa4360e5"
      },
      "execution_count": 14,
      "outputs": [
        {
          "output_type": "execute_result",
          "data": {
            "text/plain": [
              "KNeighborsClassifier(n_neighbors=15)"
            ]
          },
          "metadata": {},
          "execution_count": 14
        }
      ]
    },
    {
      "cell_type": "code",
      "source": [
        "#Predicting the test values\n",
        "pred_KNN = KNN.predict(x_test)"
      ],
      "metadata": {
        "id": "RRup26e2WnDf"
      },
      "execution_count": 15,
      "outputs": []
    },
    {
      "cell_type": "code",
      "source": [
        "#Obtaining confusion matrix, accuracy score and classification report \n",
        "from sklearn.metrics import confusion_matrix, accuracy_score\n",
        "from sklearn.metrics import classification_report\n",
        "\n",
        "cm_KNN = confusion_matrix(y_test, pred_KNN)\n",
        "print(cm_KNN)\n",
        "a_KNN = accuracy_score(y_test, pred_KNN)\n",
        "print(\"Accuarcy of the model\",a_KNN)\n",
        "print(classification_report(y_test, pred_KNN))"
      ],
      "metadata": {
        "colab": {
          "base_uri": "https://localhost:8080/"
        },
        "id": "iNnVDmy8WogU",
        "outputId": "4d55b312-add2-455a-f834-f8f7d46bb264"
      },
      "execution_count": 16,
      "outputs": [
        {
          "output_type": "stream",
          "name": "stdout",
          "text": [
            "[[ 857  169]\n",
            " [ 221 2391]]\n",
            "Accuarcy of the model 0.8927982407916437\n",
            "              precision    recall  f1-score   support\n",
            "\n",
            "         0.0       0.79      0.84      0.81      1026\n",
            "         1.0       0.93      0.92      0.92      2612\n",
            "\n",
            "    accuracy                           0.89      3638\n",
            "   macro avg       0.86      0.88      0.87      3638\n",
            "weighted avg       0.89      0.89      0.89      3638\n",
            "\n"
          ]
        }
      ]
    },
    {
      "cell_type": "markdown",
      "source": [
        "#**Random Forest Classification**"
      ],
      "metadata": {
        "id": "wNqGnqxbWs32"
      }
    },
    {
      "cell_type": "code",
      "source": [
        "#Training RandomForest Classifier\n",
        "from sklearn.ensemble import RandomForestClassifier\n",
        "RFC = RandomForestClassifier(n_estimators = 15, criterion = 'entropy', random_state = 0)\n",
        "RFC.fit(x_train, y_train)    "
      ],
      "metadata": {
        "colab": {
          "base_uri": "https://localhost:8080/"
        },
        "id": "X1yeFh4OWq1p",
        "outputId": "7003fef6-a79f-4c1c-98f1-90874f4425bb"
      },
      "execution_count": 17,
      "outputs": [
        {
          "output_type": "execute_result",
          "data": {
            "text/plain": [
              "RandomForestClassifier(criterion='entropy', n_estimators=15, random_state=0)"
            ]
          },
          "metadata": {},
          "execution_count": 17
        }
      ]
    },
    {
      "cell_type": "code",
      "source": [
        "#Predicting the test values \n",
        "pred_RFC = RFC.predict(x_test)"
      ],
      "metadata": {
        "id": "JGF_ARu6Wy0c"
      },
      "execution_count": 18,
      "outputs": []
    },
    {
      "cell_type": "code",
      "source": [
        "#Obtaining confusion matrix, accuracy score and classififcation report\n",
        "from sklearn.metrics import confusion_matrix, accuracy_score\n",
        "from sklearn.metrics import classification_report\n",
        "\n",
        "cm_RFC = confusion_matrix(y_test, pred_RFC)\n",
        "print(cm_RFC)\n",
        "a_RFC = accuracy_score(y_test, pred_RFC)\n",
        "print(\"Accuarcy of the model\",a_RFC)\n",
        "print(classification_report(y_test, pred_RFC))"
      ],
      "metadata": {
        "colab": {
          "base_uri": "https://localhost:8080/"
        },
        "id": "LGRW21GBW0pU",
        "outputId": "b2f1d4cc-8d1e-455f-e692-3f05b0237521"
      },
      "execution_count": 19,
      "outputs": [
        {
          "output_type": "stream",
          "name": "stdout",
          "text": [
            "[[ 926  100]\n",
            " [  44 2568]]\n",
            "Accuarcy of the model 0.960417811984607\n",
            "              precision    recall  f1-score   support\n",
            "\n",
            "         0.0       0.95      0.90      0.93      1026\n",
            "         1.0       0.96      0.98      0.97      2612\n",
            "\n",
            "    accuracy                           0.96      3638\n",
            "   macro avg       0.96      0.94      0.95      3638\n",
            "weighted avg       0.96      0.96      0.96      3638\n",
            "\n"
          ]
        }
      ]
    },
    {
      "cell_type": "markdown",
      "source": [
        "#**SVM**"
      ],
      "metadata": {
        "id": "O2obJwtGW33a"
      }
    },
    {
      "cell_type": "code",
      "source": [
        "#Training the SVM model \n",
        "from sklearn.svm import SVC\n",
        "SVM = SVC(kernel = 'poly', degree=3, probability=True)\n",
        "SVM.fit(x_train, y_train)"
      ],
      "metadata": {
        "colab": {
          "base_uri": "https://localhost:8080/"
        },
        "id": "AXaht_2lW2Sf",
        "outputId": "2e6019bf-d4a4-4764-80a8-7f42870a5b38"
      },
      "execution_count": 20,
      "outputs": [
        {
          "output_type": "execute_result",
          "data": {
            "text/plain": [
              "SVC(kernel='poly', probability=True)"
            ]
          },
          "metadata": {},
          "execution_count": 20
        }
      ]
    },
    {
      "cell_type": "code",
      "source": [
        "pred_SVM = SVM.predict(x_test)"
      ],
      "metadata": {
        "id": "4z5gPOK7XBB5"
      },
      "execution_count": 21,
      "outputs": []
    },
    {
      "cell_type": "code",
      "source": [
        "from sklearn.metrics import confusion_matrix, accuracy_score\n",
        "from sklearn.metrics import classification_report\n",
        "\n",
        "cm_SVM = confusion_matrix(y_test, pred_SVM)\n",
        "print(cm_SVM)\n",
        "a_SVM = accuracy_score(y_test, pred_SVM)\n",
        "print(\"Accuarcy of the model\",a_SVM)\n",
        "print(classification_report(y_test, pred_SVM))\n"
      ],
      "metadata": {
        "colab": {
          "base_uri": "https://localhost:8080/"
        },
        "id": "LYjWL6mPXBdY",
        "outputId": "86c97a91-e078-44a0-c575-602ac37ee7ce"
      },
      "execution_count": 22,
      "outputs": [
        {
          "output_type": "stream",
          "name": "stdout",
          "text": [
            "[[ 470  556]\n",
            " [  50 2562]]\n",
            "Accuarcy of the model 0.8334249587685542\n",
            "              precision    recall  f1-score   support\n",
            "\n",
            "         0.0       0.90      0.46      0.61      1026\n",
            "         1.0       0.82      0.98      0.89      2612\n",
            "\n",
            "    accuracy                           0.83      3638\n",
            "   macro avg       0.86      0.72      0.75      3638\n",
            "weighted avg       0.84      0.83      0.81      3638\n",
            "\n"
          ]
        }
      ]
    },
    {
      "cell_type": "markdown",
      "source": [
        "#**Voting Classifier**"
      ],
      "metadata": {
        "id": "rkqKF0WiXEUy"
      }
    },
    {
      "cell_type": "code",
      "source": [
        "#Training voting classifier\n",
        "from sklearn.ensemble import VotingClassifier\n",
        "\n",
        "model = VotingClassifier(estimators=[('svm', SVM), ('knn', KNN), ('rfc', RFC)])\n",
        "model.fit(x_train, y_train)\n",
        "\n",
        "#Predicting the score\n",
        "model.score(x_test, y_test)"
      ],
      "metadata": {
        "colab": {
          "base_uri": "https://localhost:8080/"
        },
        "id": "5z-H07q_XDPI",
        "outputId": "93e33110-42b5-4099-ffb9-43aa7ef8f243"
      },
      "execution_count": 23,
      "outputs": [
        {
          "output_type": "execute_result",
          "data": {
            "text/plain": [
              "0.9356789444749862"
            ]
          },
          "metadata": {},
          "execution_count": 23
        }
      ]
    },
    {
      "cell_type": "markdown",
      "source": [
        "#**Ada Boost**"
      ],
      "metadata": {
        "id": "Qf2ffEPbXWgN"
      }
    },
    {
      "cell_type": "code",
      "source": [
        "from sklearn.ensemble import RandomForestClassifier\n",
        "from sklearn.ensemble import AdaBoostClassifier\n",
        "\n",
        "\n",
        "max_estimators = 50\n",
        "ada_boost = AdaBoostClassifier(RandomForestClassifier(max_depth = 1, # Just a stump.\n",
        "                                      random_state = np.random.RandomState(0)),\n",
        "                               n_estimators = max_estimators,\n",
        "                               random_state = np.random.RandomState(0))\n",
        "\n",
        "# Fit all estimators.\n",
        "ada_boost.fit(x_train, y_train)\n"
      ],
      "metadata": {
        "colab": {
          "base_uri": "https://localhost:8080/"
        },
        "id": "-ZcL0DhVXQ02",
        "outputId": "1c8ba42b-d918-4ff3-e2e0-58a3c9621de6"
      },
      "execution_count": 24,
      "outputs": [
        {
          "output_type": "execute_result",
          "data": {
            "text/plain": [
              "AdaBoostClassifier(base_estimator=RandomForestClassifier(max_depth=1,\n",
              "                                                         random_state=RandomState(MT19937) at 0x7F4C83EC8E20),\n",
              "                   random_state=RandomState(MT19937) at 0x7F4C80E3D7C0)"
            ]
          },
          "metadata": {},
          "execution_count": 24
        }
      ]
    },
    {
      "cell_type": "code",
      "source": [
        "ada_boost.score(x_test, y_test)"
      ],
      "metadata": {
        "colab": {
          "base_uri": "https://localhost:8080/"
        },
        "id": "517CZ4BfXQym",
        "outputId": "945fa95d-3a90-4a93-c627-0fe04187b96e"
      },
      "execution_count": 25,
      "outputs": [
        {
          "output_type": "execute_result",
          "data": {
            "text/plain": [
              "0.8732820230896097"
            ]
          },
          "metadata": {},
          "execution_count": 25
        }
      ]
    },
    {
      "cell_type": "markdown",
      "source": [
        "#**XGBoost**"
      ],
      "metadata": {
        "id": "GUeLGFKYXnMa"
      }
    },
    {
      "cell_type": "code",
      "source": [
        "from numpy import loadtxt\n",
        "from xgboost import XGBClassifier\n",
        "from sklearn.model_selection import train_test_split\n",
        "from sklearn.metrics import accuracy_score\n",
        "from matplotlib import pyplot\n",
        "\n",
        "# fit model on training data\n",
        "model = XGBClassifier()\n",
        "eval_set = [(x_train, y_train), (x_test, y_test)]\n",
        "model.fit(x_train, y_train, eval_metric=[\"error\", \"logloss\"], eval_set=eval_set,verbose=True)\n",
        "\n",
        "# make predictions for test data\n",
        "predictions = model.predict(x_test)\n",
        "\n",
        "# evaluate predictions\n",
        "accuracy = accuracy_score(y_test, predictions)\n",
        "\n",
        "# retrieve performance metrics\n",
        "results = model.evals_result()\n",
        "epochs = len(results['validation_0']['error'])\n",
        "x_axis = range(0, epochs)"
      ],
      "metadata": {
        "colab": {
          "base_uri": "https://localhost:8080/"
        },
        "id": "S9qln7coXQwC",
        "outputId": "da4bdc14-ea8d-44d8-c6fb-d773f136240c"
      },
      "execution_count": 26,
      "outputs": [
        {
          "output_type": "stream",
          "name": "stdout",
          "text": [
            "[0]\tvalidation_0-error:0.223749\tvalidation_0-logloss:0.650988\tvalidation_1-error:0.236119\tvalidation_1-logloss:0.652506\n",
            "[1]\tvalidation_0-error:0.202309\tvalidation_0-logloss:0.615488\tvalidation_1-error:0.216603\tvalidation_1-logloss:0.618629\n",
            "[2]\tvalidation_0-error:0.172439\tvalidation_0-logloss:0.585052\tvalidation_1-error:0.186916\tvalidation_1-logloss:0.589293\n",
            "[3]\tvalidation_0-error:0.183801\tvalidation_0-logloss:0.559303\tvalidation_1-error:0.197911\tvalidation_1-logloss:0.564706\n",
            "[4]\tvalidation_0-error:0.190947\tvalidation_0-logloss:0.537393\tvalidation_1-error:0.203958\tvalidation_1-logloss:0.543923\n",
            "[5]\tvalidation_0-error:0.179586\tvalidation_0-logloss:0.517902\tvalidation_1-error:0.193513\tvalidation_1-logloss:0.525001\n",
            "[6]\tvalidation_0-error:0.181143\tvalidation_0-logloss:0.501608\tvalidation_1-error:0.194338\tvalidation_1-logloss:0.509438\n",
            "[7]\tvalidation_0-error:0.175096\tvalidation_0-logloss:0.486334\tvalidation_1-error:0.18994\tvalidation_1-logloss:0.495676\n",
            "[8]\tvalidation_0-error:0.173172\tvalidation_0-logloss:0.473194\tvalidation_1-error:0.188015\tvalidation_1-logloss:0.484119\n",
            "[9]\tvalidation_0-error:0.174088\tvalidation_0-logloss:0.461281\tvalidation_1-error:0.18884\tvalidation_1-logloss:0.473023\n",
            "[10]\tvalidation_0-error:0.1663\tvalidation_0-logloss:0.44943\tvalidation_1-error:0.180044\tvalidation_1-logloss:0.462136\n",
            "[11]\tvalidation_0-error:0.15897\tvalidation_0-logloss:0.43646\tvalidation_1-error:0.175096\tvalidation_1-logloss:0.450397\n",
            "[12]\tvalidation_0-error:0.161169\tvalidation_0-logloss:0.427714\tvalidation_1-error:0.173997\tvalidation_1-logloss:0.442152\n",
            "[13]\tvalidation_0-error:0.157779\tvalidation_0-logloss:0.418346\tvalidation_1-error:0.173172\tvalidation_1-logloss:0.43357\n",
            "[14]\tvalidation_0-error:0.158146\tvalidation_0-logloss:0.411119\tvalidation_1-error:0.174272\tvalidation_1-logloss:0.42708\n",
            "[15]\tvalidation_0-error:0.154389\tvalidation_0-logloss:0.402037\tvalidation_1-error:0.170973\tvalidation_1-logloss:0.418778\n",
            "[16]\tvalidation_0-error:0.154114\tvalidation_0-logloss:0.395911\tvalidation_1-error:0.171248\tvalidation_1-logloss:0.413613\n",
            "[17]\tvalidation_0-error:0.154297\tvalidation_0-logloss:0.390426\tvalidation_1-error:0.169324\tvalidation_1-logloss:0.408471\n",
            "[18]\tvalidation_0-error:0.156221\tvalidation_0-logloss:0.385339\tvalidation_1-error:0.171248\tvalidation_1-logloss:0.403622\n",
            "[19]\tvalidation_0-error:0.152007\tvalidation_0-logloss:0.378832\tvalidation_1-error:0.166025\tvalidation_1-logloss:0.397395\n",
            "[20]\tvalidation_0-error:0.151457\tvalidation_0-logloss:0.374773\tvalidation_1-error:0.164651\tvalidation_1-logloss:0.393653\n",
            "[21]\tvalidation_0-error:0.151182\tvalidation_0-logloss:0.369948\tvalidation_1-error:0.1674\tvalidation_1-logloss:0.389695\n",
            "[22]\tvalidation_0-error:0.149166\tvalidation_0-logloss:0.363995\tvalidation_1-error:0.164651\tvalidation_1-logloss:0.384078\n",
            "[23]\tvalidation_0-error:0.147059\tvalidation_0-logloss:0.358173\tvalidation_1-error:0.161902\tvalidation_1-logloss:0.378048\n",
            "[24]\tvalidation_0-error:0.145959\tvalidation_0-logloss:0.354903\tvalidation_1-error:0.161078\tvalidation_1-logloss:0.374675\n",
            "[25]\tvalidation_0-error:0.140737\tvalidation_0-logloss:0.35181\tvalidation_1-error:0.156954\tvalidation_1-logloss:0.371801\n",
            "[26]\tvalidation_0-error:0.133865\tvalidation_0-logloss:0.346574\tvalidation_1-error:0.147334\tvalidation_1-logloss:0.366585\n",
            "[27]\tvalidation_0-error:0.131757\tvalidation_0-logloss:0.343887\tvalidation_1-error:0.146784\tvalidation_1-logloss:0.363849\n",
            "[28]\tvalidation_0-error:0.129192\tvalidation_0-logloss:0.338741\tvalidation_1-error:0.14431\tvalidation_1-logloss:0.359433\n",
            "[29]\tvalidation_0-error:0.128642\tvalidation_0-logloss:0.336452\tvalidation_1-error:0.143485\tvalidation_1-logloss:0.357459\n",
            "[30]\tvalidation_0-error:0.126535\tvalidation_0-logloss:0.333175\tvalidation_1-error:0.141286\tvalidation_1-logloss:0.354459\n",
            "[31]\tvalidation_0-error:0.11948\tvalidation_0-logloss:0.327441\tvalidation_1-error:0.135514\tvalidation_1-logloss:0.348718\n",
            "[32]\tvalidation_0-error:0.116273\tvalidation_0-logloss:0.323041\tvalidation_1-error:0.130291\tvalidation_1-logloss:0.344156\n",
            "[33]\tvalidation_0-error:0.116731\tvalidation_0-logloss:0.32098\tvalidation_1-error:0.128642\tvalidation_1-logloss:0.342158\n",
            "[34]\tvalidation_0-error:0.115448\tvalidation_0-logloss:0.316831\tvalidation_1-error:0.126168\tvalidation_1-logloss:0.337902\n",
            "[35]\tvalidation_0-error:0.113982\tvalidation_0-logloss:0.313684\tvalidation_1-error:0.126993\tvalidation_1-logloss:0.335152\n",
            "[36]\tvalidation_0-error:0.111783\tvalidation_0-logloss:0.310147\tvalidation_1-error:0.124244\tvalidation_1-logloss:0.331721\n",
            "[37]\tvalidation_0-error:0.1116\tvalidation_0-logloss:0.308484\tvalidation_1-error:0.123694\tvalidation_1-logloss:0.330166\n",
            "[38]\tvalidation_0-error:0.111417\tvalidation_0-logloss:0.304851\tvalidation_1-error:0.12232\tvalidation_1-logloss:0.326976\n",
            "[39]\tvalidation_0-error:0.110317\tvalidation_0-logloss:0.30261\tvalidation_1-error:0.12287\tvalidation_1-logloss:0.324766\n",
            "[40]\tvalidation_0-error:0.110225\tvalidation_0-logloss:0.300931\tvalidation_1-error:0.123419\tvalidation_1-logloss:0.323104\n",
            "[41]\tvalidation_0-error:0.107293\tvalidation_0-logloss:0.298172\tvalidation_1-error:0.123419\tvalidation_1-logloss:0.320723\n",
            "[42]\tvalidation_0-error:0.104178\tvalidation_0-logloss:0.294184\tvalidation_1-error:0.119296\tvalidation_1-logloss:0.317193\n",
            "[43]\tvalidation_0-error:0.104636\tvalidation_0-logloss:0.291709\tvalidation_1-error:0.118197\tvalidation_1-logloss:0.314593\n",
            "[44]\tvalidation_0-error:0.104086\tvalidation_0-logloss:0.288392\tvalidation_1-error:0.120946\tvalidation_1-logloss:0.311634\n",
            "[45]\tvalidation_0-error:0.101246\tvalidation_0-logloss:0.285242\tvalidation_1-error:0.118747\tvalidation_1-logloss:0.30853\n",
            "[46]\tvalidation_0-error:0.100605\tvalidation_0-logloss:0.283735\tvalidation_1-error:0.119021\tvalidation_1-logloss:0.306955\n",
            "[47]\tvalidation_0-error:0.100055\tvalidation_0-logloss:0.282627\tvalidation_1-error:0.118472\tvalidation_1-logloss:0.306062\n",
            "[48]\tvalidation_0-error:0.099505\tvalidation_0-logloss:0.279222\tvalidation_1-error:0.116273\tvalidation_1-logloss:0.302517\n",
            "[49]\tvalidation_0-error:0.097123\tvalidation_0-logloss:0.27622\tvalidation_1-error:0.113249\tvalidation_1-logloss:0.299713\n",
            "[50]\tvalidation_0-error:0.095749\tvalidation_0-logloss:0.274079\tvalidation_1-error:0.110225\tvalidation_1-logloss:0.29775\n",
            "[51]\tvalidation_0-error:0.094649\tvalidation_0-logloss:0.271954\tvalidation_1-error:0.1105\tvalidation_1-logloss:0.295603\n",
            "[52]\tvalidation_0-error:0.094099\tvalidation_0-logloss:0.269327\tvalidation_1-error:0.110775\tvalidation_1-logloss:0.2932\n",
            "[53]\tvalidation_0-error:0.09245\tvalidation_0-logloss:0.266932\tvalidation_1-error:0.108851\tvalidation_1-logloss:0.29109\n",
            "[54]\tvalidation_0-error:0.091992\tvalidation_0-logloss:0.264779\tvalidation_1-error:0.108576\tvalidation_1-logloss:0.289353\n",
            "[55]\tvalidation_0-error:0.090343\tvalidation_0-logloss:0.262439\tvalidation_1-error:0.107202\tvalidation_1-logloss:0.287073\n",
            "[56]\tvalidation_0-error:0.089426\tvalidation_0-logloss:0.261204\tvalidation_1-error:0.107477\tvalidation_1-logloss:0.285846\n",
            "[57]\tvalidation_0-error:0.08906\tvalidation_0-logloss:0.258104\tvalidation_1-error:0.108026\tvalidation_1-logloss:0.283197\n",
            "[58]\tvalidation_0-error:0.087319\tvalidation_0-logloss:0.25492\tvalidation_1-error:0.105553\tvalidation_1-logloss:0.280412\n",
            "[59]\tvalidation_0-error:0.086586\tvalidation_0-logloss:0.253283\tvalidation_1-error:0.104178\tvalidation_1-logloss:0.278546\n",
            "[60]\tvalidation_0-error:0.085212\tvalidation_0-logloss:0.250994\tvalidation_1-error:0.103903\tvalidation_1-logloss:0.276706\n",
            "[61]\tvalidation_0-error:0.083837\tvalidation_0-logloss:0.249071\tvalidation_1-error:0.103079\tvalidation_1-logloss:0.275206\n",
            "[62]\tvalidation_0-error:0.082646\tvalidation_0-logloss:0.247169\tvalidation_1-error:0.102254\tvalidation_1-logloss:0.273432\n",
            "[63]\tvalidation_0-error:0.082463\tvalidation_0-logloss:0.245831\tvalidation_1-error:0.101979\tvalidation_1-logloss:0.271938\n",
            "[64]\tvalidation_0-error:0.08173\tvalidation_0-logloss:0.24322\tvalidation_1-error:0.100055\tvalidation_1-logloss:0.269624\n",
            "[65]\tvalidation_0-error:0.079897\tvalidation_0-logloss:0.241489\tvalidation_1-error:0.10033\tvalidation_1-logloss:0.268306\n",
            "[66]\tvalidation_0-error:0.07779\tvalidation_0-logloss:0.239074\tvalidation_1-error:0.09978\tvalidation_1-logloss:0.266003\n",
            "[67]\tvalidation_0-error:0.076599\tvalidation_0-logloss:0.23814\tvalidation_1-error:0.10033\tvalidation_1-logloss:0.265002\n",
            "[68]\tvalidation_0-error:0.075866\tvalidation_0-logloss:0.23478\tvalidation_1-error:0.096756\tvalidation_1-logloss:0.26178\n",
            "[69]\tvalidation_0-error:0.074858\tvalidation_0-logloss:0.233094\tvalidation_1-error:0.097856\tvalidation_1-logloss:0.260275\n",
            "[70]\tvalidation_0-error:0.074125\tvalidation_0-logloss:0.231466\tvalidation_1-error:0.097581\tvalidation_1-logloss:0.258891\n",
            "[71]\tvalidation_0-error:0.073484\tvalidation_0-logloss:0.229763\tvalidation_1-error:0.097306\tvalidation_1-logloss:0.257406\n",
            "[72]\tvalidation_0-error:0.073209\tvalidation_0-logloss:0.228697\tvalidation_1-error:0.097031\tvalidation_1-logloss:0.256158\n",
            "[73]\tvalidation_0-error:0.072109\tvalidation_0-logloss:0.226537\tvalidation_1-error:0.095107\tvalidation_1-logloss:0.254236\n",
            "[74]\tvalidation_0-error:0.069819\tvalidation_0-logloss:0.224726\tvalidation_1-error:0.093458\tvalidation_1-logloss:0.252651\n",
            "[75]\tvalidation_0-error:0.069086\tvalidation_0-logloss:0.22374\tvalidation_1-error:0.092358\tvalidation_1-logloss:0.251926\n",
            "[76]\tvalidation_0-error:0.06936\tvalidation_0-logloss:0.222995\tvalidation_1-error:0.093183\tvalidation_1-logloss:0.251203\n",
            "[77]\tvalidation_0-error:0.068536\tvalidation_0-logloss:0.221601\tvalidation_1-error:0.091534\tvalidation_1-logloss:0.24992\n",
            "[78]\tvalidation_0-error:0.067436\tvalidation_0-logloss:0.220452\tvalidation_1-error:0.092633\tvalidation_1-logloss:0.249175\n",
            "[79]\tvalidation_0-error:0.067528\tvalidation_0-logloss:0.219163\tvalidation_1-error:0.090984\tvalidation_1-logloss:0.24817\n",
            "[80]\tvalidation_0-error:0.067803\tvalidation_0-logloss:0.216751\tvalidation_1-error:0.090984\tvalidation_1-logloss:0.246108\n",
            "[81]\tvalidation_0-error:0.065329\tvalidation_0-logloss:0.215117\tvalidation_1-error:0.089335\tvalidation_1-logloss:0.244712\n",
            "[82]\tvalidation_0-error:0.065054\tvalidation_0-logloss:0.21424\tvalidation_1-error:0.089335\tvalidation_1-logloss:0.243676\n",
            "[83]\tvalidation_0-error:0.064138\tvalidation_0-logloss:0.212689\tvalidation_1-error:0.090434\tvalidation_1-logloss:0.242407\n",
            "[84]\tvalidation_0-error:0.064138\tvalidation_0-logloss:0.211853\tvalidation_1-error:0.090984\tvalidation_1-logloss:0.241575\n",
            "[85]\tvalidation_0-error:0.06313\tvalidation_0-logloss:0.210163\tvalidation_1-error:0.091259\tvalidation_1-logloss:0.240419\n",
            "[86]\tvalidation_0-error:0.06203\tvalidation_0-logloss:0.208674\tvalidation_1-error:0.08906\tvalidation_1-logloss:0.239091\n",
            "[87]\tvalidation_0-error:0.061481\tvalidation_0-logloss:0.20783\tvalidation_1-error:0.08961\tvalidation_1-logloss:0.238258\n",
            "[88]\tvalidation_0-error:0.060656\tvalidation_0-logloss:0.206415\tvalidation_1-error:0.08961\tvalidation_1-logloss:0.23692\n",
            "[89]\tvalidation_0-error:0.060473\tvalidation_0-logloss:0.205638\tvalidation_1-error:0.089335\tvalidation_1-logloss:0.236102\n",
            "[90]\tvalidation_0-error:0.060015\tvalidation_0-logloss:0.204343\tvalidation_1-error:0.088785\tvalidation_1-logloss:0.234893\n",
            "[91]\tvalidation_0-error:0.059098\tvalidation_0-logloss:0.203273\tvalidation_1-error:0.087136\tvalidation_1-logloss:0.234153\n",
            "[92]\tvalidation_0-error:0.05919\tvalidation_0-logloss:0.202709\tvalidation_1-error:0.087411\tvalidation_1-logloss:0.233625\n",
            "[93]\tvalidation_0-error:0.058824\tvalidation_0-logloss:0.200638\tvalidation_1-error:0.087686\tvalidation_1-logloss:0.231872\n",
            "[94]\tvalidation_0-error:0.056808\tvalidation_0-logloss:0.198754\tvalidation_1-error:0.086311\tvalidation_1-logloss:0.230261\n",
            "[95]\tvalidation_0-error:0.056166\tvalidation_0-logloss:0.197352\tvalidation_1-error:0.085761\tvalidation_1-logloss:0.229342\n",
            "[96]\tvalidation_0-error:0.05525\tvalidation_0-logloss:0.196017\tvalidation_1-error:0.086586\tvalidation_1-logloss:0.228191\n",
            "[97]\tvalidation_0-error:0.05525\tvalidation_0-logloss:0.194903\tvalidation_1-error:0.086311\tvalidation_1-logloss:0.227288\n",
            "[98]\tvalidation_0-error:0.05525\tvalidation_0-logloss:0.194426\tvalidation_1-error:0.087136\tvalidation_1-logloss:0.22675\n",
            "[99]\tvalidation_0-error:0.055433\tvalidation_0-logloss:0.192734\tvalidation_1-error:0.086036\tvalidation_1-logloss:0.225269\n"
          ]
        }
      ]
    },
    {
      "cell_type": "markdown",
      "source": [
        "#**Learning Curve for XGBoost**"
      ],
      "metadata": {
        "id": "EE7tNwEpYDfL"
      }
    },
    {
      "cell_type": "code",
      "source": [
        "# plot log loss\n",
        "fig, ax = pyplot.subplots()\n",
        "ax.plot(x_axis, results['validation_0']['logloss'], label='Train')\n",
        "ax.plot(x_axis, results['validation_1']['logloss'], label='Test')\n",
        "ax.legend()\n",
        "pyplot.ylabel('Log Loss')\n",
        "pyplot.title('XGBoost Log Loss')\n",
        "pyplot.show()"
      ],
      "metadata": {
        "colab": {
          "base_uri": "https://localhost:8080/",
          "height": 281
        },
        "id": "DNTx28gYXQtM",
        "outputId": "299b3686-e2ff-4f5b-c0cf-fe670ee7a86d"
      },
      "execution_count": 27,
      "outputs": [
        {
          "output_type": "display_data",
          "data": {
            "text/plain": [
              "<Figure size 432x288 with 1 Axes>"
            ],
            "image/png": "[encoded data removed]"
          },
          "metadata": {
            "needs_background": "light"
          }
        }
      ]
    },
    {
      "cell_type": "code",
      "source": [
        "# plot classification error\n",
        "fig, ax = pyplot.subplots()\n",
        "ax.plot(x_axis, results['validation_0']['error'], label='Train')\n",
        "ax.plot(x_axis, results['validation_1']['error'], label='Test')\n",
        "ax.legend()\n",
        "pyplot.ylabel('Classification Error')\n",
        "pyplot.title('XGBoost Classification Error')\n",
        "pyplot.show()"
      ],
      "metadata": {
        "colab": {
          "base_uri": "https://localhost:8080/",
          "height": 281
        },
        "id": "KIB1iDRsXQrP",
        "outputId": "45c8b775-3bb5-4fc5-e9e6-4991cd613ca8"
      },
      "execution_count": 28,
      "outputs": [
        {
          "output_type": "display_data",
          "data": {
            "text/plain": [
              "<Figure size 432x288 with 1 Axes>"
            ],
            "image/png": "[encoded data removed]"
          },
          "metadata": {
            "needs_background": "light"
          }
        }
      ]
    },
    {
      "cell_type": "markdown",
      "source": [
        "#**ANN**"
      ],
      "metadata": {
        "id": "RDNcoJNOYP86"
      }
    },
    {
      "cell_type": "code",
      "source": [
        "import tensorflow as tf\n",
        "from tensorflow import keras\n",
        "from sklearn.metrics import precision_score, recall_score\n",
        "from sklearn.metrics import accuracy_score, confusion_matrix, classification_report\n",
        "\n",
        "accuracy = pd.DataFrame( columns=[\"Accuracy\",\"Precision\",\"Recall\"])\n",
        "#predictions = np.zeros(shape=(10000,7))\n",
        "row_index = 0\n",
        "for i in range(7):\n",
        "        # bootstrap sampling  \n",
        "        boot_train = resample(x_train,y_train,replace=True, n_samples=40000, random_state=None)\n",
        "        model = tf.keras.Sequential([\n",
        "            tf.keras.layers.Flatten(input_shape=x_train[0].shape),\n",
        "            tf.keras.layers.Dense(256, activation=tf.nn.relu),\n",
        "            tf.keras.layers.Dense(128, activation=tf.nn.relu),\n",
        "            tf.keras.layers.Dense(128, activation=tf.nn.relu),\n",
        "            tf.keras.layers.Dense(128, activation=tf.nn.relu),\n",
        "            tf.keras.layers.Dense(128, activation=tf.nn.relu),\n",
        "            tf.keras.layers.Dense(128, activation=tf.nn.relu),\n",
        "            tf.keras.layers.Dense(128, activation=tf.nn.relu),\n",
        "            tf.keras.layers.Dense(128, activation=tf.nn.relu),\n",
        "            tf.keras.layers.Dense(128, activation=tf.nn.relu),\n",
        "            tf.keras.layers.Dense(128, activation=tf.nn.relu),\n",
        "            tf.keras.layers.Dense(128, activation=tf.nn.relu),\n",
        "            tf.keras.layers.Dense(128, activation=tf.nn.relu),\n",
        "            tf.keras.layers.Dense(128, activation=tf.nn.relu),\n",
        "            tf.keras.layers.Dense(128, activation=tf.nn.relu),\n",
        "            tf.keras.layers.Dense(128, activation=tf.nn.relu),\n",
        "            tf.keras.layers.Dense(128, activation=tf.nn.relu),\n",
        "            tf.keras.layers.Dense(128, activation=tf.nn.relu),\n",
        "            tf.keras.layers.Dense(10, activation=tf.nn.softmax)])\n",
        "  \n",
        "        # compile the model\n",
        "        model.compile(loss='sparse_categorical_crossentropy',optimizer='adam',metrics=['accuracy'])\n",
        "\n",
        "        # Train the model\n",
        "        model.fit(x_train,y_train,epochs=5,batch_size=32, validation_data=(x_test, y_test) )\n",
        "        # evaluate the model\n",
        "        model.evaluate(x_test, y_test)"
      ],
      "metadata": {
        "colab": {
          "base_uri": "https://localhost:8080/"
        },
        "id": "diEzGOv5YNl0",
        "outputId": "cdbbac7d-3d58-4071-8291-a5c28f5acfb4"
      },
      "execution_count": 29,
      "outputs": [
        {
          "output_type": "stream",
          "name": "stdout",
          "text": [
            "Epoch 1/5\n",
            "342/342 [==============================] - 4s 8ms/step - loss: 0.4179 - accuracy: 0.8214 - val_loss: 0.2763 - val_accuracy: 0.8843\n",
            "Epoch 2/5\n",
            "342/342 [==============================] - 3s 7ms/step - loss: 0.2445 - accuracy: 0.9039 - val_loss: 0.2260 - val_accuracy: 0.9137\n",
            "Epoch 3/5\n",
            "342/342 [==============================] - 3s 8ms/step - loss: 0.1783 - accuracy: 0.9307 - val_loss: 0.1932 - val_accuracy: 0.9203\n",
            "Epoch 4/5\n",
            "342/342 [==============================] - 2s 7ms/step - loss: 0.1545 - accuracy: 0.9454 - val_loss: 0.1593 - val_accuracy: 0.9390\n",
            "Epoch 5/5\n",
            "342/342 [==============================] - 3s 8ms/step - loss: 0.1479 - accuracy: 0.9414 - val_loss: 0.1652 - val_accuracy: 0.9349\n",
            "114/114 [==============================] - 0s 2ms/step - loss: 0.1652 - accuracy: 0.9349\n",
            "Epoch 1/5\n",
            "342/342 [==============================] - 4s 8ms/step - loss: 0.4635 - accuracy: 0.7769 - val_loss: 0.3322 - val_accuracy: 0.8648\n",
            "Epoch 2/5\n",
            "342/342 [==============================] - 2s 7ms/step - loss: 0.2601 - accuracy: 0.8955 - val_loss: 0.3028 - val_accuracy: 0.8942\n",
            "Epoch 3/5\n",
            "342/342 [==============================] - 2s 7ms/step - loss: 0.1904 - accuracy: 0.9253 - val_loss: 0.2130 - val_accuracy: 0.9167\n",
            "Epoch 4/5\n",
            "342/342 [==============================] - 2s 7ms/step - loss: 0.1567 - accuracy: 0.9415 - val_loss: 0.2558 - val_accuracy: 0.9203\n",
            "Epoch 5/5\n",
            "342/342 [==============================] - 2s 7ms/step - loss: 0.1190 - accuracy: 0.9572 - val_loss: 0.1493 - val_accuracy: 0.9483\n",
            "114/114 [==============================] - 0s 2ms/step - loss: 0.1493 - accuracy: 0.9483\n",
            "Epoch 1/5\n",
            "342/342 [==============================] - 4s 8ms/step - loss: 0.4100 - accuracy: 0.8102 - val_loss: 0.3110 - val_accuracy: 0.8766\n",
            "Epoch 2/5\n",
            "342/342 [==============================] - 3s 7ms/step - loss: 0.2438 - accuracy: 0.9035 - val_loss: 0.2697 - val_accuracy: 0.8716\n",
            "Epoch 3/5\n",
            "342/342 [==============================] - 2s 7ms/step - loss: 0.1740 - accuracy: 0.9325 - val_loss: 0.1746 - val_accuracy: 0.9316\n",
            "Epoch 4/5\n",
            "342/342 [==============================] - 3s 7ms/step - loss: 0.1450 - accuracy: 0.9417 - val_loss: 0.2244 - val_accuracy: 0.9239\n",
            "Epoch 5/5\n",
            "342/342 [==============================] - 2s 7ms/step - loss: 0.1181 - accuracy: 0.9546 - val_loss: 0.1749 - val_accuracy: 0.9469\n",
            "114/114 [==============================] - 0s 2ms/step - loss: 0.1749 - accuracy: 0.9469\n",
            "Epoch 1/5\n",
            "342/342 [==============================] - 3s 7ms/step - loss: 0.4278 - accuracy: 0.7934 - val_loss: 0.2832 - val_accuracy: 0.8837\n",
            "Epoch 2/5\n",
            "342/342 [==============================] - 2s 7ms/step - loss: 0.2433 - accuracy: 0.9032 - val_loss: 0.2567 - val_accuracy: 0.9065\n",
            "Epoch 3/5\n",
            "342/342 [==============================] - 2s 7ms/step - loss: 0.1713 - accuracy: 0.9335 - val_loss: 0.2293 - val_accuracy: 0.9250\n",
            "Epoch 4/5\n",
            "342/342 [==============================] - 2s 7ms/step - loss: 0.1474 - accuracy: 0.9469 - val_loss: 0.1938 - val_accuracy: 0.9277\n",
            "Epoch 5/5\n",
            "342/342 [==============================] - 2s 7ms/step - loss: 0.1180 - accuracy: 0.9560 - val_loss: 0.2386 - val_accuracy: 0.9398\n",
            "114/114 [==============================] - 0s 2ms/step - loss: 0.2386 - accuracy: 0.9398\n",
            "Epoch 1/5\n",
            "342/342 [==============================] - 4s 8ms/step - loss: 0.4336 - accuracy: 0.7952 - val_loss: 0.3044 - val_accuracy: 0.8686\n",
            "Epoch 2/5\n",
            "342/342 [==============================] - 2s 7ms/step - loss: 0.2522 - accuracy: 0.8977 - val_loss: 0.2308 - val_accuracy: 0.9134\n",
            "Epoch 3/5\n",
            "342/342 [==============================] - 2s 7ms/step - loss: 0.1947 - accuracy: 0.9259 - val_loss: 0.2145 - val_accuracy: 0.9239\n",
            "Epoch 4/5\n",
            "342/342 [==============================] - 2s 7ms/step - loss: 0.1537 - accuracy: 0.9408 - val_loss: 0.1680 - val_accuracy: 0.9357\n",
            "Epoch 5/5\n",
            "342/342 [==============================] - 2s 7ms/step - loss: 0.1597 - accuracy: 0.9410 - val_loss: 0.1949 - val_accuracy: 0.9285\n",
            "114/114 [==============================] - 0s 2ms/step - loss: 0.1949 - accuracy: 0.9285\n",
            "Epoch 1/5\n",
            "342/342 [==============================] - 4s 8ms/step - loss: 0.4386 - accuracy: 0.8033 - val_loss: 0.2795 - val_accuracy: 0.8854\n",
            "Epoch 2/5\n",
            "342/342 [==============================] - 2s 7ms/step - loss: 0.2351 - accuracy: 0.9036 - val_loss: 0.2127 - val_accuracy: 0.9098\n",
            "Epoch 3/5\n",
            "342/342 [==============================] - 3s 7ms/step - loss: 0.1873 - accuracy: 0.9272 - val_loss: 0.1912 - val_accuracy: 0.9340\n",
            "Epoch 4/5\n",
            "342/342 [==============================] - 2s 7ms/step - loss: 0.1522 - accuracy: 0.9404 - val_loss: 0.1852 - val_accuracy: 0.9313\n",
            "Epoch 5/5\n",
            "342/342 [==============================] - 3s 8ms/step - loss: 0.1179 - accuracy: 0.9559 - val_loss: 0.1588 - val_accuracy: 0.9478\n",
            "114/114 [==============================] - 0s 2ms/step - loss: 0.1588 - accuracy: 0.9478\n",
            "Epoch 1/5\n",
            "342/342 [==============================] - 4s 8ms/step - loss: 0.4137 - accuracy: 0.8135 - val_loss: 0.4214 - val_accuracy: 0.8788\n",
            "Epoch 2/5\n",
            "342/342 [==============================] - 2s 7ms/step - loss: 0.2475 - accuracy: 0.8986 - val_loss: 0.2607 - val_accuracy: 0.8876\n",
            "Epoch 3/5\n",
            "342/342 [==============================] - 2s 7ms/step - loss: 0.1868 - accuracy: 0.9252 - val_loss: 0.1920 - val_accuracy: 0.9324\n",
            "Epoch 4/5\n",
            "342/342 [==============================] - 2s 7ms/step - loss: 0.1461 - accuracy: 0.9455 - val_loss: 0.1907 - val_accuracy: 0.9406\n",
            "Epoch 5/5\n",
            "342/342 [==============================] - 2s 7ms/step - loss: 0.1156 - accuracy: 0.9561 - val_loss: 0.2057 - val_accuracy: 0.9214\n",
            "114/114 [==============================] - 0s 2ms/step - loss: 0.2057 - accuracy: 0.9214\n"
          ]
        }
      ]
    },
    {
      "cell_type": "code",
      "source": [
        "import numpy \n",
        "cvscores1 = []\n",
        "scores = model.evaluate(x_test, y_test, verbose=0)\n",
        "print(\"%s: %.2f%%\" % (model.metrics_names[1], scores[1]*100))\n",
        "cvscores1.append(scores[1] * 100)\n",
        "print(\"%.2f%% (+/- %.2f%%)\" % (numpy.mean(cvscores1), numpy.std(cvscores1)))\n",
        "      "
      ],
      "metadata": {
        "colab": {
          "base_uri": "https://localhost:8080/"
        },
        "id": "iUL5ui4zYTsq",
        "outputId": "797cc1ed-221e-4f32-bc1d-821b9552668d"
      },
      "execution_count": 30,
      "outputs": [
        {
          "output_type": "stream",
          "name": "stdout",
          "text": [
            "accuracy: 92.14%\n",
            "92.14% (+/- 0.00%)\n"
          ]
        }
      ]
    },
    {
      "cell_type": "markdown",
      "source": [
        "#**CNN**"
      ],
      "metadata": {
        "id": "ub2wSzlqYX7y"
      }
    },
    {
      "cell_type": "code",
      "source": [
        "df1 = ptbdb_data.sample(frac = 1)\n",
        "\n",
        "test = df1.head(3638)\n",
        "print(test.shape)\n",
        "\n",
        "train = df1.tail(10914)\n",
        "print(train.shape)"
      ],
      "metadata": {
        "colab": {
          "base_uri": "https://localhost:8080/"
        },
        "id": "tlNfWp_7YXZ0",
        "outputId": "d8109ba3-cc03-4885-ea29-5972e86b7cd6"
      },
      "execution_count": 31,
      "outputs": [
        {
          "output_type": "stream",
          "name": "stdout",
          "text": [
            "(3638, 188)\n",
            "(10914, 188)\n"
          ]
        }
      ]
    },
    {
      "cell_type": "code",
      "source": [
        "label_names = ['Normal Beats', 'Abnormal Beats']\n",
        "labels = train[187].astype('int64')   # last column has the labels\n",
        "\n",
        "print(\"Count in each label: \")\n",
        "print(labels.value_counts())\n",
        "\n",
        "plt.barh(list(set(labels)), list(labels.value_counts()))"
      ],
      "metadata": {
        "colab": {
          "base_uri": "https://localhost:8080/",
          "height": 352
        },
        "id": "Oyie_Aj8YnRU",
        "outputId": "6b042f82-af5b-4a48-8f8c-6742920312f4"
      },
      "execution_count": 32,
      "outputs": [
        {
          "output_type": "stream",
          "name": "stdout",
          "text": [
            "Count in each label: \n",
            "1    7904\n",
            "0    3010\n",
            "Name: 187, dtype: int64\n"
          ]
        },
        {
          "output_type": "execute_result",
          "data": {
            "text/plain": [
              "<BarContainer object of 2 artists>"
            ]
          },
          "metadata": {},
          "execution_count": 32
        },
        {
          "output_type": "display_data",
          "data": {
            "text/plain": [
              "<Figure size 432x288 with 1 Axes>"
            ],
            "image/png": "[encoded data removed]"
          },
          "metadata": {
            "needs_background": "light"
          }
        }
      ]
    },
    {
      "cell_type": "code",
      "source": [
        "def gaussian_noise(signal):\n",
        "    noise = np.random.normal(0,0.05,187)\n",
        "    return signal + noise"
      ],
      "metadata": {
        "id": "ULaUWxgFYrgX"
      },
      "execution_count": 33,
      "outputs": []
    },
    {
      "cell_type": "code",
      "source": [
        "sample = ptbdb_data_lbl0.sample(1).values[0]\n",
        "\n",
        "sample_with_noise = gaussian_noise(sample[:187])\n",
        "\n",
        "plt.subplot(1, 1, 1)\n",
        "\n",
        "plt.plot(sample[:187])\n",
        "plt.plot(sample_with_noise)"
      ],
      "metadata": {
        "colab": {
          "base_uri": "https://localhost:8080/",
          "height": 282
        },
        "id": "bWCuvbBuZOtj",
        "outputId": "374f5e1a-89fa-4177-90a2-ab95a1fe2f3c"
      },
      "execution_count": 34,
      "outputs": [
        {
          "output_type": "execute_result",
          "data": {
            "text/plain": [
              "[<matplotlib.lines.Line2D at 0x7f4c7313c110>]"
            ]
          },
          "metadata": {},
          "execution_count": 34
        },
        {
          "output_type": "display_data",
          "data": {
            "text/plain": [
              "<Figure size 432x288 with 1 Axes>"
            ],
            "image/png": "[encoded data removed]"
          },
          "metadata": {
            "needs_background": "light"
          }
        }
      ]
    },
    {
      "cell_type": "code",
      "source": [
        "\n",
        "ytrain = tensorflow.keras.utils.to_categorical(train[187])\n",
        "ytest = tensorflow.keras.utils.to_categorical(test[187])\n",
        "\n",
        "# Input to the model\n",
        "xtrain = train.values[:, :187]\n",
        "xtest = test.values[:, :187]\n",
        "\n",
        "# Adding noise\n",
        "for i in range(xtrain.shape[0]):\n",
        "    xtrain[i, :187] = gaussian_noise(xtrain[i, :187])"
      ],
      "metadata": {
        "id": "G11jMthyZfHD"
      },
      "execution_count": 35,
      "outputs": []
    },
    {
      "cell_type": "code",
      "source": [
        "xtrain = np.expand_dims(xtrain, 2)\n",
        "xtest = np.expand_dims(xtest, 2)\n",
        "\n",
        "print(\"Shape of training data: \")\n",
        "print(\"Input: \", xtrain.shape)\n",
        "print(\"Output: \", ytrain.shape)\n",
        "\n",
        "print(\"\\nShape of test data: \")\n",
        "print(\"Input: \", xtest.shape)\n",
        "print(\"Output: \", ytest.shape)"
      ],
      "metadata": {
        "colab": {
          "base_uri": "https://localhost:8080/"
        },
        "id": "DlffePe6ZoJ8",
        "outputId": "5e1c983b-c941-434d-adc8-bdff91e1dab3"
      },
      "execution_count": 36,
      "outputs": [
        {
          "output_type": "stream",
          "name": "stdout",
          "text": [
            "Shape of training data: \n",
            "Input:  (10914, 187, 1)\n",
            "Output:  (10914, 2)\n",
            "\n",
            "Shape of test data: \n",
            "Input:  (3638, 187, 1)\n",
            "Output:  (3638, 2)\n"
          ]
        }
      ]
    },
    {
      "cell_type": "code",
      "source": [
        "model = Sequential()\n",
        "model.add(Conv1D(64, 6, activation = 'relu', input_shape = xtrain[0].shape))\n",
        "model.add(MaxPool1D(3, 2))\n",
        "\n",
        "model.add(Conv1D(64, 6, activation = 'relu'))\n",
        "model.add(MaxPool1D(3, 2))\n",
        "\n",
        "model.add(Conv1D(64, 6, activation = 'relu'))\n",
        "model.add(MaxPool1D(3, 2))\n",
        "\n",
        "model.add(Flatten())\n",
        "\n",
        "model.add(Dense(64, activation = 'relu'))\n",
        "model.add(Dense(32, activation = 'relu'))\n",
        "model.add(Dense(2, activation = 'softmax'))\n",
        "\n",
        "model.compile(optimizer = tensorflow.keras.optimizers.Adam(0.001), loss = 'categorical_crossentropy', metrics = ['accuracy'])\n",
        "model.summary()"
      ],
      "metadata": {
        "colab": {
          "base_uri": "https://localhost:8080/"
        },
        "id": "kzVv9-HeZrSE",
        "outputId": "6fb180d0-ca5d-42c4-b6df-0ec08830f4ac"
      },
      "execution_count": 37,
      "outputs": [
        {
          "output_type": "stream",
          "name": "stdout",
          "text": [
            "Model: \"sequential_7\"\n",
            "_________________________________________________________________\n",
            " Layer (type)                Output Shape              Param #   \n",
            "=================================================================\n",
            " conv1d (Conv1D)             (None, 182, 64)           448       \n",
            "                                                                 \n",
            " max_pooling1d (MaxPooling1D  (None, 90, 64)           0         \n",
            " )                                                               \n",
            "                                                                 \n",
            " conv1d_1 (Conv1D)           (None, 85, 64)            24640     \n",
            "                                                                 \n",
            " max_pooling1d_1 (MaxPooling  (None, 42, 64)           0         \n",
            " 1D)                                                             \n",
            "                                                                 \n",
            " conv1d_2 (Conv1D)           (None, 37, 64)            24640     \n",
            "                                                                 \n",
            " max_pooling1d_2 (MaxPooling  (None, 18, 64)           0         \n",
            " 1D)                                                             \n",
            "                                                                 \n",
            " flatten_7 (Flatten)         (None, 1152)              0         \n",
            "                                                                 \n",
            " dense_126 (Dense)           (None, 64)                73792     \n",
            "                                                                 \n",
            " dense_127 (Dense)           (None, 32)                2080      \n",
            "                                                                 \n",
            " dense_128 (Dense)           (None, 2)                 66        \n",
            "                                                                 \n",
            "=================================================================\n",
            "Total params: 125,666\n",
            "Trainable params: 125,666\n",
            "Non-trainable params: 0\n",
            "_________________________________________________________________\n"
          ]
        }
      ]
    },
    {
      "cell_type": "code",
      "source": [
        "history = model.fit(xtrain, ytrain, epochs = 8, batch_size = 32, validation_data = (xtest, ytest))\n"
      ],
      "metadata": {
        "colab": {
          "base_uri": "https://localhost:8080/"
        },
        "id": "qJ0G5uf2Zt4l",
        "outputId": "2b5054e3-642a-4426-d061-8990bd62ee26"
      },
      "execution_count": 38,
      "outputs": [
        {
          "output_type": "stream",
          "name": "stdout",
          "text": [
            "Epoch 1/8\n",
            "342/342 [==============================] - 12s 32ms/step - loss: 0.4150 - accuracy: 0.7949 - val_loss: 0.3560 - val_accuracy: 0.8183\n",
            "Epoch 2/8\n",
            "342/342 [==============================] - 11s 31ms/step - loss: 0.2720 - accuracy: 0.8795 - val_loss: 0.2003 - val_accuracy: 0.9145\n",
            "Epoch 3/8\n",
            "342/342 [==============================] - 11s 31ms/step - loss: 0.1853 - accuracy: 0.9259 - val_loss: 0.1555 - val_accuracy: 0.9417\n",
            "Epoch 4/8\n",
            "342/342 [==============================] - 11s 31ms/step - loss: 0.1468 - accuracy: 0.9430 - val_loss: 0.1430 - val_accuracy: 0.9426\n",
            "Epoch 5/8\n",
            "342/342 [==============================] - 11s 31ms/step - loss: 0.1251 - accuracy: 0.9525 - val_loss: 0.0973 - val_accuracy: 0.9645\n",
            "Epoch 6/8\n",
            "342/342 [==============================] - 11s 31ms/step - loss: 0.1067 - accuracy: 0.9577 - val_loss: 0.1117 - val_accuracy: 0.9579\n",
            "Epoch 7/8\n",
            "342/342 [==============================] - 11s 31ms/step - loss: 0.0898 - accuracy: 0.9650 - val_loss: 0.0811 - val_accuracy: 0.9678\n",
            "Epoch 8/8\n",
            "342/342 [==============================] - 11s 31ms/step - loss: 0.0770 - accuracy: 0.9710 - val_loss: 0.0863 - val_accuracy: 0.9667\n"
          ]
        }
      ]
    },
    {
      "cell_type": "code",
      "source": [
        "def plot(history, variable, variable2):\n",
        "    plt.plot(range(len(history[variable])), history[variable])\n",
        "    plt.plot(range(len(history[variable2])), history[variable2])\n",
        "    plt.legend([variable, variable2])\n",
        "    plt.title(variable)"
      ],
      "metadata": {
        "id": "HuFoEiETZwEa"
      },
      "execution_count": 39,
      "outputs": []
    },
    {
      "cell_type": "code",
      "source": [
        "plot(history.history, \"accuracy\", \"val_accuracy\")"
      ],
      "metadata": {
        "colab": {
          "base_uri": "https://localhost:8080/",
          "height": 281
        },
        "id": "nQ9vOZuFZxzt",
        "outputId": "98202d54-5051-4346-dbb8-a51213b91416"
      },
      "execution_count": 40,
      "outputs": [
        {
          "output_type": "display_data",
          "data": {
            "text/plain": [
              "<Figure size 432x288 with 1 Axes>"
            ],
            "image/png": "[encoded data removed]"
          },
          "metadata": {
            "needs_background": "light"
          }
        }
      ]
    },
    {
      "cell_type": "code",
      "source": [
        "plot(history.history, \"loss\", \"val_loss\")"
      ],
      "metadata": {
        "colab": {
          "base_uri": "https://localhost:8080/",
          "height": 281
        },
        "id": "iczfdxdAZ0mT",
        "outputId": "e26f5044-15e0-4798-9311-2ccc4da6fd72"
      },
      "execution_count": 41,
      "outputs": [
        {
          "output_type": "display_data",
          "data": {
            "text/plain": [
              "<Figure size 432x288 with 1 Axes>"
            ],
            "image/png": "[encoded data removed]"
          },
          "metadata": {
            "needs_background": "light"
          }
        }
      ]
    },
    {
      "cell_type": "code",
      "source": [
        "ypred = model.predict(xtest)\n",
        "\n",
        "cm = confusion_matrix(ytest.argmax(axis=1), ypred.argmax(axis=1))\n",
        "cm = cm.astype('float') / cm.sum(axis=1)[:, np.newaxis]\n",
        "\n",
        "for i in range(cm.shape[1]):\n",
        "    for j in range(cm.shape[0]):\n",
        "        plt.text(j, i, format(cm[i, j], '.2f'), horizontalalignment=\"center\", color=\"black\")\n",
        "\n",
        "\n",
        "plt.imshow(cm, cmap=plt.cm.Blues)"
      ],
      "metadata": {
        "colab": {
          "base_uri": "https://localhost:8080/",
          "height": 286
        },
        "id": "PtTcFqrgZ5bN",
        "outputId": "b1929030-9f1f-4bd9-d47d-5813c894fa79"
      },
      "execution_count": 42,
      "outputs": [
        {
          "output_type": "execute_result",
          "data": {
            "text/plain": [
              "<matplotlib.image.AxesImage at 0x7f4c702e7910>"
            ]
          },
          "metadata": {},
          "execution_count": 42
        },
        {
          "output_type": "display_data",
          "data": {
            "text/plain": [
              "<Figure size 432x288 with 1 Axes>"
            ],
            "image/png": "[encoded data removed]"
          },
          "metadata": {
            "needs_background": "light"
          }
        }
      ]
    },
    {
      "cell_type": "code",
      "source": [
        "print(\"The distribution of test set labels\")\n",
        "print(test[187].value_counts())\n",
        "\n",
        "print('F1_score = ', f1_score(ytest.argmax(axis=1), ypred.argmax(axis=1), average = 'macro'))"
      ],
      "metadata": {
        "colab": {
          "base_uri": "https://localhost:8080/"
        },
        "id": "cLiVvTOVZ6hh",
        "outputId": "c7f8e7f9-be8b-46dd-ccbc-fadc16356d43"
      },
      "execution_count": 43,
      "outputs": [
        {
          "output_type": "stream",
          "name": "stdout",
          "text": [
            "The distribution of test set labels\n",
            "1.0    2602\n",
            "0.0    1036\n",
            "Name: 187, dtype: int64\n",
            "F1_score =  0.9598726310319061\n"
          ]
        }
      ]
    },
    {
      "cell_type": "code",
      "source": [
        ""
      ],
      "metadata": {
        "id": "pfn0w7lGZ8nI"
      },
      "execution_count": 43,
      "outputs": []
    }
  ]
}